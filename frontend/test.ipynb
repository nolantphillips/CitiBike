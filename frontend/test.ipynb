{
 "cells": [
  {
   "cell_type": "code",
   "execution_count": 1,
   "id": "26d4505b",
   "metadata": {},
   "outputs": [],
   "source": [
    "%load_ext autoreload\n",
    "%autoreload 2"
   ]
  },
  {
   "cell_type": "code",
   "execution_count": 2,
   "id": "80fd34ed",
   "metadata": {},
   "outputs": [],
   "source": [
    "import sys\n",
    "import os\n",
    "\n",
    "# Add the parent directory to the Python path\n",
    "sys.path.append(os.path.abspath(os.path.join(os.getcwd(), \"..\")))\n",
    "import src.config as config\n",
    "\n",
    "from src.inference import fetch_next_hour_predictions"
   ]
  },
  {
   "cell_type": "code",
   "execution_count": 3,
   "id": "45adefe6",
   "metadata": {},
   "outputs": [
    {
     "name": "stdout",
     "output_type": "stream",
     "text": [
      "2025-05-05 11:28:42,469 INFO: Initializing external client\n",
      "2025-05-05 11:28:42,469 INFO: Base URL: https://c.app.hopsworks.ai:443\n",
      "2025-05-05 11:28:43,672 INFO: Python Engine initialized.\n",
      "\n",
      "Logged in to project, explore it here https://c.app.hopsworks.ai:443/p/1212635\n",
      "Finished: Reading data from Hopsworks, using Hopsworks Feature Query Service (0.39s) \n",
      "Current EST time: 2025-05-05 07:28:42.468888\n",
      "Next hour: 2025-05-05 08:00:00\n",
      "Found 3 records\n"
     ]
    }
   ],
   "source": [
    "predictions = fetch_next_hour_predictions()"
   ]
  },
  {
   "cell_type": "code",
   "execution_count": 4,
   "id": "4ab37cd5",
   "metadata": {},
   "outputs": [],
   "source": [
    "import pandas as pd"
   ]
  },
  {
   "cell_type": "code",
   "execution_count": 5,
   "id": "6338112f",
   "metadata": {},
   "outputs": [],
   "source": [
    "import numpy as np"
   ]
  },
  {
   "cell_type": "code",
   "execution_count": 6,
   "id": "d9887118",
   "metadata": {},
   "outputs": [
    {
     "data": {
      "text/html": [
       "<div>\n",
       "<style scoped>\n",
       "    .dataframe tbody tr th:only-of-type {\n",
       "        vertical-align: middle;\n",
       "    }\n",
       "\n",
       "    .dataframe tbody tr th {\n",
       "        vertical-align: top;\n",
       "    }\n",
       "\n",
       "    .dataframe thead th {\n",
       "        text-align: right;\n",
       "    }\n",
       "</style>\n",
       "<table border=\"1\" class=\"dataframe\">\n",
       "  <thead>\n",
       "    <tr style=\"text-align: right;\">\n",
       "      <th></th>\n",
       "      <th>start_station_id</th>\n",
       "      <th>predicted_demand</th>\n",
       "      <th>start_hour</th>\n",
       "      <th>name</th>\n",
       "      <th>longitude</th>\n",
       "      <th>latitude</th>\n",
       "    </tr>\n",
       "  </thead>\n",
       "  <tbody>\n",
       "    <tr>\n",
       "      <th>0</th>\n",
       "      <td>6140.049805</td>\n",
       "      <td>7.0</td>\n",
       "      <td>2025-05-05 08:00:00</td>\n",
       "      <td>W 21 St &amp; 6 Ave</td>\n",
       "      <td>-73.994156</td>\n",
       "      <td>40.741740</td>\n",
       "    </tr>\n",
       "    <tr>\n",
       "      <th>1</th>\n",
       "      <td>5905.140137</td>\n",
       "      <td>12.0</td>\n",
       "      <td>2025-05-05 08:00:00</td>\n",
       "      <td>Broadway &amp; E 14 St</td>\n",
       "      <td>-73.990741</td>\n",
       "      <td>40.734546</td>\n",
       "    </tr>\n",
       "    <tr>\n",
       "      <th>2</th>\n",
       "      <td>6822.089844</td>\n",
       "      <td>8.0</td>\n",
       "      <td>2025-05-05 08:00:00</td>\n",
       "      <td>1 Ave &amp; E 68 St</td>\n",
       "      <td>-73.958115</td>\n",
       "      <td>40.765112</td>\n",
       "    </tr>\n",
       "  </tbody>\n",
       "</table>\n",
       "</div>"
      ],
      "text/plain": [
       "   start_station_id  predicted_demand          start_hour                name  \\\n",
       "0       6140.049805               7.0 2025-05-05 08:00:00     W 21 St & 6 Ave   \n",
       "1       5905.140137              12.0 2025-05-05 08:00:00  Broadway & E 14 St   \n",
       "2       6822.089844               8.0 2025-05-05 08:00:00     1 Ave & E 68 St   \n",
       "\n",
       "   longitude   latitude  \n",
       "0 -73.994156  40.741740  \n",
       "1 -73.990741  40.734546  \n",
       "2 -73.958115  40.765112  "
      ]
     },
     "execution_count": 6,
     "metadata": {},
     "output_type": "execute_result"
    }
   ],
   "source": [
    "station_dict = {\n",
    "    np.float32(5905.140137): {\"name\": \"Broadway & E 14 St\",\n",
    "           \"longitude\": -73.99074142,\n",
    "           \"latitude\": 40.73454567\n",
    "           },\n",
    "    np.float32(6140.049805): {\"name\": \"W 21 St & 6 Ave\",\n",
    "           \"longitude\": -73.99415556,\n",
    "           \"latitude\": 40.74173969},\n",
    "    np.float32(6822.089844): {\"name\": \"1 Ave & E 68 St\",\n",
    "           \"longitude\": -73.958115339,\n",
    "           \"latitude\": 40.765112281}\n",
    "}\n",
    "\n",
    "station_df = pd.DataFrame.from_dict(station_dict, orient='index').reset_index()\n",
    "station_df.rename(columns={'index': 'start_station_id'}, inplace=True)\n",
    "merged = pd.merge(predictions, station_df, on='start_station_id', how='left')\n",
    "merged"
   ]
  },
  {
   "cell_type": "code",
   "execution_count": 7,
   "id": "2e49ff20",
   "metadata": {},
   "outputs": [
    {
     "data": {
      "text/html": [
       "<div>\n",
       "<style scoped>\n",
       "    .dataframe tbody tr th:only-of-type {\n",
       "        vertical-align: middle;\n",
       "    }\n",
       "\n",
       "    .dataframe tbody tr th {\n",
       "        vertical-align: top;\n",
       "    }\n",
       "\n",
       "    .dataframe thead th {\n",
       "        text-align: right;\n",
       "    }\n",
       "</style>\n",
       "<table border=\"1\" class=\"dataframe\">\n",
       "  <thead>\n",
       "    <tr style=\"text-align: right;\">\n",
       "      <th></th>\n",
       "      <th>start_station_id</th>\n",
       "      <th>name</th>\n",
       "      <th>longitude</th>\n",
       "      <th>latitude</th>\n",
       "    </tr>\n",
       "  </thead>\n",
       "  <tbody>\n",
       "    <tr>\n",
       "      <th>0</th>\n",
       "      <td>5905.140137</td>\n",
       "      <td>Broadway &amp; E 14 St</td>\n",
       "      <td>-73.990741</td>\n",
       "      <td>40.734546</td>\n",
       "    </tr>\n",
       "    <tr>\n",
       "      <th>1</th>\n",
       "      <td>6140.049805</td>\n",
       "      <td>W 21 St &amp; 6 Ave</td>\n",
       "      <td>-73.994156</td>\n",
       "      <td>40.741740</td>\n",
       "    </tr>\n",
       "    <tr>\n",
       "      <th>2</th>\n",
       "      <td>6822.089844</td>\n",
       "      <td>1 Ave &amp; E 68 St</td>\n",
       "      <td>-73.958115</td>\n",
       "      <td>40.765112</td>\n",
       "    </tr>\n",
       "  </tbody>\n",
       "</table>\n",
       "</div>"
      ],
      "text/plain": [
       "   start_station_id                name  longitude   latitude\n",
       "0       5905.140137  Broadway & E 14 St -73.990741  40.734546\n",
       "1       6140.049805     W 21 St & 6 Ave -73.994156  40.741740\n",
       "2       6822.089844     1 Ave & E 68 St -73.958115  40.765112"
      ]
     },
     "execution_count": 7,
     "metadata": {},
     "output_type": "execute_result"
    }
   ],
   "source": [
    "station_df"
   ]
  },
  {
   "cell_type": "code",
   "execution_count": 8,
   "id": "3cccd55d",
   "metadata": {},
   "outputs": [
    {
     "name": "stdout",
     "output_type": "stream",
     "text": [
      "<class 'pandas.core.frame.DataFrame'>\n",
      "RangeIndex: 3 entries, 0 to 2\n",
      "Data columns (total 4 columns):\n",
      " #   Column            Non-Null Count  Dtype  \n",
      "---  ------            --------------  -----  \n",
      " 0   start_station_id  3 non-null      float32\n",
      " 1   name              3 non-null      object \n",
      " 2   longitude         3 non-null      float64\n",
      " 3   latitude          3 non-null      float64\n",
      "dtypes: float32(1), float64(2), object(1)\n",
      "memory usage: 216.0+ bytes\n"
     ]
    }
   ],
   "source": [
    "station_df.info()"
   ]
  },
  {
   "cell_type": "code",
   "execution_count": 9,
   "id": "aeed2e29",
   "metadata": {},
   "outputs": [
    {
     "name": "stdout",
     "output_type": "stream",
     "text": [
      "<class 'pandas.core.frame.DataFrame'>\n",
      "RangeIndex: 3 entries, 0 to 2\n",
      "Data columns (total 6 columns):\n",
      " #   Column            Non-Null Count  Dtype         \n",
      "---  ------            --------------  -----         \n",
      " 0   start_station_id  3 non-null      float32       \n",
      " 1   predicted_demand  3 non-null      float64       \n",
      " 2   start_hour        3 non-null      datetime64[us]\n",
      " 3   name              3 non-null      object        \n",
      " 4   longitude         3 non-null      float64       \n",
      " 5   latitude          3 non-null      float64       \n",
      "dtypes: datetime64[us](1), float32(1), float64(3), object(1)\n",
      "memory usage: 264.0+ bytes\n"
     ]
    }
   ],
   "source": [
    "merged.info()"
   ]
  },
  {
   "cell_type": "code",
   "execution_count": 10,
   "id": "4e0cbc96",
   "metadata": {},
   "outputs": [
    {
     "data": {
      "text/html": [
       "<div>\n",
       "<style scoped>\n",
       "    .dataframe tbody tr th:only-of-type {\n",
       "        vertical-align: middle;\n",
       "    }\n",
       "\n",
       "    .dataframe tbody tr th {\n",
       "        vertical-align: top;\n",
       "    }\n",
       "\n",
       "    .dataframe thead th {\n",
       "        text-align: right;\n",
       "    }\n",
       "</style>\n",
       "<table border=\"1\" class=\"dataframe\">\n",
       "  <thead>\n",
       "    <tr style=\"text-align: right;\">\n",
       "      <th></th>\n",
       "      <th>start_station_id</th>\n",
       "      <th>predicted_demand</th>\n",
       "      <th>start_hour</th>\n",
       "      <th>name</th>\n",
       "      <th>longitude</th>\n",
       "      <th>latitude</th>\n",
       "    </tr>\n",
       "  </thead>\n",
       "  <tbody>\n",
       "    <tr>\n",
       "      <th>0</th>\n",
       "      <td>6140.049805</td>\n",
       "      <td>7.0</td>\n",
       "      <td>2025-05-05 08:00:00</td>\n",
       "      <td>W 21 St &amp; 6 Ave</td>\n",
       "      <td>-73.994156</td>\n",
       "      <td>40.741740</td>\n",
       "    </tr>\n",
       "    <tr>\n",
       "      <th>1</th>\n",
       "      <td>5905.140137</td>\n",
       "      <td>12.0</td>\n",
       "      <td>2025-05-05 08:00:00</td>\n",
       "      <td>Broadway &amp; E 14 St</td>\n",
       "      <td>-73.990741</td>\n",
       "      <td>40.734546</td>\n",
       "    </tr>\n",
       "    <tr>\n",
       "      <th>2</th>\n",
       "      <td>6822.089844</td>\n",
       "      <td>8.0</td>\n",
       "      <td>2025-05-05 08:00:00</td>\n",
       "      <td>1 Ave &amp; E 68 St</td>\n",
       "      <td>-73.958115</td>\n",
       "      <td>40.765112</td>\n",
       "    </tr>\n",
       "  </tbody>\n",
       "</table>\n",
       "</div>"
      ],
      "text/plain": [
       "   start_station_id  predicted_demand          start_hour                name  \\\n",
       "0       6140.049805               7.0 2025-05-05 08:00:00     W 21 St & 6 Ave   \n",
       "1       5905.140137              12.0 2025-05-05 08:00:00  Broadway & E 14 St   \n",
       "2       6822.089844               8.0 2025-05-05 08:00:00     1 Ave & E 68 St   \n",
       "\n",
       "   longitude   latitude  \n",
       "0 -73.994156  40.741740  \n",
       "1 -73.990741  40.734546  \n",
       "2 -73.958115  40.765112  "
      ]
     },
     "execution_count": 10,
     "metadata": {},
     "output_type": "execute_result"
    }
   ],
   "source": [
    "merged"
   ]
  },
  {
   "cell_type": "code",
   "execution_count": 11,
   "id": "22cbedd3",
   "metadata": {},
   "outputs": [
    {
     "data": {
      "text/plain": [
       "0    6140.0\n",
       "1    5905.0\n",
       "2    6822.0\n",
       "Name: start_station_id, dtype: float32"
      ]
     },
     "execution_count": 11,
     "metadata": {},
     "output_type": "execute_result"
    }
   ],
   "source": [
    "merged[\"start_station_id\"].round(0)"
   ]
  },
  {
   "cell_type": "code",
   "execution_count": 12,
   "id": "f23ae08e",
   "metadata": {},
   "outputs": [
    {
     "data": {
      "text/html": [
       "<div style=\"width:100%;\"><div style=\"position:relative;width:100%;height:0;padding-bottom:60%;\"><span style=\"color:#565656\">Make this Notebook Trusted to load map: File -> Trust Notebook</span><iframe srcdoc=\"&lt;!DOCTYPE html&gt;\n",
       "&lt;html&gt;\n",
       "&lt;head&gt;\n",
       "    \n",
       "    &lt;meta http-equiv=&quot;content-type&quot; content=&quot;text/html; charset=UTF-8&quot; /&gt;\n",
       "    \n",
       "        &lt;script&gt;\n",
       "            L_NO_TOUCH = false;\n",
       "            L_DISABLE_3D = false;\n",
       "        &lt;/script&gt;\n",
       "    \n",
       "    &lt;style&gt;html, body {width: 100%;height: 100%;margin: 0;padding: 0;}&lt;/style&gt;\n",
       "    &lt;style&gt;#map {position:absolute;top:0;bottom:0;right:0;left:0;}&lt;/style&gt;\n",
       "    &lt;script src=&quot;https://cdn.jsdelivr.net/npm/leaflet@1.9.3/dist/leaflet.js&quot;&gt;&lt;/script&gt;\n",
       "    &lt;script src=&quot;https://code.jquery.com/jquery-3.7.1.min.js&quot;&gt;&lt;/script&gt;\n",
       "    &lt;script src=&quot;https://cdn.jsdelivr.net/npm/bootstrap@5.2.2/dist/js/bootstrap.bundle.min.js&quot;&gt;&lt;/script&gt;\n",
       "    &lt;script src=&quot;https://cdnjs.cloudflare.com/ajax/libs/Leaflet.awesome-markers/2.0.2/leaflet.awesome-markers.js&quot;&gt;&lt;/script&gt;\n",
       "    &lt;link rel=&quot;stylesheet&quot; href=&quot;https://cdn.jsdelivr.net/npm/leaflet@1.9.3/dist/leaflet.css&quot;/&gt;\n",
       "    &lt;link rel=&quot;stylesheet&quot; href=&quot;https://cdn.jsdelivr.net/npm/bootstrap@5.2.2/dist/css/bootstrap.min.css&quot;/&gt;\n",
       "    &lt;link rel=&quot;stylesheet&quot; href=&quot;https://netdna.bootstrapcdn.com/bootstrap/3.0.0/css/bootstrap-glyphicons.css&quot;/&gt;\n",
       "    &lt;link rel=&quot;stylesheet&quot; href=&quot;https://cdn.jsdelivr.net/npm/@fortawesome/fontawesome-free@6.2.0/css/all.min.css&quot;/&gt;\n",
       "    &lt;link rel=&quot;stylesheet&quot; href=&quot;https://cdnjs.cloudflare.com/ajax/libs/Leaflet.awesome-markers/2.0.2/leaflet.awesome-markers.css&quot;/&gt;\n",
       "    &lt;link rel=&quot;stylesheet&quot; href=&quot;https://cdn.jsdelivr.net/gh/python-visualization/folium/folium/templates/leaflet.awesome.rotate.min.css&quot;/&gt;\n",
       "    \n",
       "            &lt;meta name=&quot;viewport&quot; content=&quot;width=device-width,\n",
       "                initial-scale=1.0, maximum-scale=1.0, user-scalable=no&quot; /&gt;\n",
       "            &lt;style&gt;\n",
       "                #map_3cb9b79f664574da87eba5b2e290b2c7 {\n",
       "                    position: relative;\n",
       "                    width: 100.0%;\n",
       "                    height: 100.0%;\n",
       "                    left: 0.0%;\n",
       "                    top: 0.0%;\n",
       "                }\n",
       "                .leaflet-container { font-size: 1rem; }\n",
       "            &lt;/style&gt;\n",
       "        \n",
       "&lt;/head&gt;\n",
       "&lt;body&gt;\n",
       "    \n",
       "    \n",
       "            &lt;div class=&quot;folium-map&quot; id=&quot;map_3cb9b79f664574da87eba5b2e290b2c7&quot; &gt;&lt;/div&gt;\n",
       "        \n",
       "&lt;/body&gt;\n",
       "&lt;script&gt;\n",
       "    \n",
       "    \n",
       "            var map_3cb9b79f664574da87eba5b2e290b2c7 = L.map(\n",
       "                &quot;map_3cb9b79f664574da87eba5b2e290b2c7&quot;,\n",
       "                {\n",
       "                    center: [40.76, -73.98],\n",
       "                    crs: L.CRS.EPSG3857,\n",
       "                    ...{\n",
       "  &quot;zoom&quot;: 12,\n",
       "  &quot;zoomControl&quot;: true,\n",
       "  &quot;preferCanvas&quot;: false,\n",
       "}\n",
       "\n",
       "                }\n",
       "            );\n",
       "\n",
       "            \n",
       "\n",
       "        \n",
       "    \n",
       "            var tile_layer_9d6f6c96ba524a61f4f10d3bda4d2380 = L.tileLayer(\n",
       "                &quot;https://tile.openstreetmap.org/{z}/{x}/{y}.png&quot;,\n",
       "                {\n",
       "  &quot;minZoom&quot;: 0,\n",
       "  &quot;maxZoom&quot;: 19,\n",
       "  &quot;maxNativeZoom&quot;: 19,\n",
       "  &quot;noWrap&quot;: false,\n",
       "  &quot;attribution&quot;: &quot;\\u0026copy; \\u003ca href=\\&quot;https://www.openstreetmap.org/copyright\\&quot;\\u003eOpenStreetMap\\u003c/a\\u003e contributors&quot;,\n",
       "  &quot;subdomains&quot;: &quot;abc&quot;,\n",
       "  &quot;detectRetina&quot;: false,\n",
       "  &quot;tms&quot;: false,\n",
       "  &quot;opacity&quot;: 1,\n",
       "}\n",
       "\n",
       "            );\n",
       "        \n",
       "    \n",
       "            tile_layer_9d6f6c96ba524a61f4f10d3bda4d2380.addTo(map_3cb9b79f664574da87eba5b2e290b2c7);\n",
       "        \n",
       "    \n",
       "            var circle_marker_3cda3097732bdacf54bccc448b186382 = L.circleMarker(\n",
       "                [40.74173969, -73.99415556],\n",
       "                {&quot;bubblingMouseEvents&quot;: true, &quot;color&quot;: &quot;blue&quot;, &quot;dashArray&quot;: null, &quot;dashOffset&quot;: null, &quot;fill&quot;: true, &quot;fillColor&quot;: &quot;blue&quot;, &quot;fillOpacity&quot;: 0.6, &quot;fillRule&quot;: &quot;evenodd&quot;, &quot;lineCap&quot;: &quot;round&quot;, &quot;lineJoin&quot;: &quot;round&quot;, &quot;opacity&quot;: 1.0, &quot;radius&quot;: 8, &quot;stroke&quot;: true, &quot;weight&quot;: 3}\n",
       "            ).addTo(map_3cb9b79f664574da87eba5b2e290b2c7);\n",
       "        \n",
       "    \n",
       "        var popup_9c7f2783bbc7caebdd484d97f207beb8 = L.popup({\n",
       "  &quot;maxWidth&quot;: &quot;100%&quot;,\n",
       "});\n",
       "\n",
       "        \n",
       "            \n",
       "                var html_a4c7dfbbaa7c155df5184777a4fe4f50 = $(`&lt;div id=&quot;html_a4c7dfbbaa7c155df5184777a4fe4f50&quot; style=&quot;width: 100.0%; height: 100.0%;&quot;&gt;W 21 St &amp; 6 Ave: 7 rides&lt;/div&gt;`)[0];\n",
       "                popup_9c7f2783bbc7caebdd484d97f207beb8.setContent(html_a4c7dfbbaa7c155df5184777a4fe4f50);\n",
       "            \n",
       "        \n",
       "\n",
       "        circle_marker_3cda3097732bdacf54bccc448b186382.bindPopup(popup_9c7f2783bbc7caebdd484d97f207beb8)\n",
       "        ;\n",
       "\n",
       "        \n",
       "    \n",
       "    \n",
       "            var circle_marker_d2fb492f5e998ce6893de7fe9dcbde89 = L.circleMarker(\n",
       "                [40.73454567, -73.99074142],\n",
       "                {&quot;bubblingMouseEvents&quot;: true, &quot;color&quot;: &quot;blue&quot;, &quot;dashArray&quot;: null, &quot;dashOffset&quot;: null, &quot;fill&quot;: true, &quot;fillColor&quot;: &quot;blue&quot;, &quot;fillOpacity&quot;: 0.6, &quot;fillRule&quot;: &quot;evenodd&quot;, &quot;lineCap&quot;: &quot;round&quot;, &quot;lineJoin&quot;: &quot;round&quot;, &quot;opacity&quot;: 1.0, &quot;radius&quot;: 8, &quot;stroke&quot;: true, &quot;weight&quot;: 3}\n",
       "            ).addTo(map_3cb9b79f664574da87eba5b2e290b2c7);\n",
       "        \n",
       "    \n",
       "        var popup_e3176d9cb6204706d85f1397b3f579f0 = L.popup({\n",
       "  &quot;maxWidth&quot;: &quot;100%&quot;,\n",
       "});\n",
       "\n",
       "        \n",
       "            \n",
       "                var html_6a5c44cf0fb6732cb2cc9b00c5ba116d = $(`&lt;div id=&quot;html_6a5c44cf0fb6732cb2cc9b00c5ba116d&quot; style=&quot;width: 100.0%; height: 100.0%;&quot;&gt;Broadway &amp; E 14 St: 12 rides&lt;/div&gt;`)[0];\n",
       "                popup_e3176d9cb6204706d85f1397b3f579f0.setContent(html_6a5c44cf0fb6732cb2cc9b00c5ba116d);\n",
       "            \n",
       "        \n",
       "\n",
       "        circle_marker_d2fb492f5e998ce6893de7fe9dcbde89.bindPopup(popup_e3176d9cb6204706d85f1397b3f579f0)\n",
       "        ;\n",
       "\n",
       "        \n",
       "    \n",
       "    \n",
       "            var circle_marker_de6786534d0bcc0dcc5ea1fc46487cce = L.circleMarker(\n",
       "                [40.765112281, -73.958115339],\n",
       "                {&quot;bubblingMouseEvents&quot;: true, &quot;color&quot;: &quot;blue&quot;, &quot;dashArray&quot;: null, &quot;dashOffset&quot;: null, &quot;fill&quot;: true, &quot;fillColor&quot;: &quot;blue&quot;, &quot;fillOpacity&quot;: 0.6, &quot;fillRule&quot;: &quot;evenodd&quot;, &quot;lineCap&quot;: &quot;round&quot;, &quot;lineJoin&quot;: &quot;round&quot;, &quot;opacity&quot;: 1.0, &quot;radius&quot;: 8, &quot;stroke&quot;: true, &quot;weight&quot;: 3}\n",
       "            ).addTo(map_3cb9b79f664574da87eba5b2e290b2c7);\n",
       "        \n",
       "    \n",
       "        var popup_0ebfc433800205eb7c47c8efa790d9b4 = L.popup({\n",
       "  &quot;maxWidth&quot;: &quot;100%&quot;,\n",
       "});\n",
       "\n",
       "        \n",
       "            \n",
       "                var html_3e02bba787c3ca9e76ea1d85934231b5 = $(`&lt;div id=&quot;html_3e02bba787c3ca9e76ea1d85934231b5&quot; style=&quot;width: 100.0%; height: 100.0%;&quot;&gt;1 Ave &amp; E 68 St: 8 rides&lt;/div&gt;`)[0];\n",
       "                popup_0ebfc433800205eb7c47c8efa790d9b4.setContent(html_3e02bba787c3ca9e76ea1d85934231b5);\n",
       "            \n",
       "        \n",
       "\n",
       "        circle_marker_de6786534d0bcc0dcc5ea1fc46487cce.bindPopup(popup_0ebfc433800205eb7c47c8efa790d9b4)\n",
       "        ;\n",
       "\n",
       "        \n",
       "    \n",
       "&lt;/script&gt;\n",
       "&lt;/html&gt;\" style=\"position:absolute;width:100%;height:100%;left:0;top:0;border:none !important;\" allowfullscreen webkitallowfullscreen mozallowfullscreen></iframe></div></div>"
      ],
      "text/plain": [
       "<folium.folium.Map at 0x1a4e3a58d50>"
      ]
     },
     "metadata": {},
     "output_type": "display_data"
    }
   ],
   "source": [
    "import folium\n",
    "\n",
    "map_center = [40.76, -73.98]\n",
    "map_obj = folium.Map(location=map_center, zoom_start=12)\n",
    "\n",
    "for _, row in merged.iterrows():\n",
    "    folium.CircleMarker(\n",
    "        location=[row[\"latitude\"], row[\"longitude\"]],\n",
    "        radius=8,\n",
    "        popup=f\"{row['name']}: {row['predicted_demand']:.0f} rides\",\n",
    "        color='blue',\n",
    "        fill=True,\n",
    "        fill_color='blue',\n",
    "        fill_opacity=0.6,\n",
    "    ).add_to(map_obj)\n",
    "\n",
    "display(map_obj)"
   ]
  },
  {
   "cell_type": "code",
   "execution_count": 51,
   "id": "4d169b08",
   "metadata": {},
   "outputs": [
    {
     "name": "stdout",
     "output_type": "stream",
     "text": [
      "2025-05-05 12:03:50,273 INFO: Closing external client and cleaning up certificates.\n",
      "Connection closed.\n",
      "2025-05-05 12:03:50,280 INFO: Initializing external client\n",
      "2025-05-05 12:03:50,281 INFO: Base URL: https://c.app.hopsworks.ai:443\n",
      "2025-05-05 12:03:51,242 INFO: Python Engine initialized.\n",
      "\n",
      "Logged in to project, explore it here https://c.app.hopsworks.ai:443/p/1212635\n",
      "Finished: Reading data from Hopsworks, using Hopsworks Feature Query Service (1.04s) \n",
      "2025-05-05 12:03:54,182 INFO: Closing external client and cleaning up certificates.\n",
      "Connection closed.\n",
      "2025-05-05 12:03:54,188 INFO: Initializing external client\n",
      "2025-05-05 12:03:54,188 INFO: Base URL: https://c.app.hopsworks.ai:443\n",
      "2025-05-05 12:03:54,910 INFO: Python Engine initialized.\n",
      "\n",
      "Logged in to project, explore it here https://c.app.hopsworks.ai:443/p/1212635\n",
      "Finished: Reading data from Hopsworks, using Hopsworks Feature Query Service (0.36s) \n",
      "Current EST time: 2025-05-05 08:03:54.182266\n",
      "Next hour: 2025-05-05 09:00:00\n",
      "Found 3 records\n"
     ]
    }
   ],
   "source": [
    "from src.inference import load_batch_of_features_from_store, fetch_hourly_rides\n",
    "current_date = pd.Timestamp.now(tz=\"US/Eastern\")\n",
    "features = fetch_hourly_rides(672)\n",
    "predictions = fetch_next_hour_predictions()"
   ]
  },
  {
   "cell_type": "code",
   "execution_count": 14,
   "id": "9c91854a",
   "metadata": {},
   "outputs": [
    {
     "data": {
      "text/plain": [
       "Timestamp('2025-05-04 16:00:00')"
      ]
     },
     "execution_count": 14,
     "metadata": {},
     "output_type": "execute_result"
    }
   ],
   "source": [
    "features[\"start_hour\"].max()"
   ]
  },
  {
   "cell_type": "code",
   "execution_count": 15,
   "id": "d9366fe6",
   "metadata": {},
   "outputs": [
    {
     "data": {
      "text/html": [
       "<div>\n",
       "<style scoped>\n",
       "    .dataframe tbody tr th:only-of-type {\n",
       "        vertical-align: middle;\n",
       "    }\n",
       "\n",
       "    .dataframe tbody tr th {\n",
       "        vertical-align: top;\n",
       "    }\n",
       "\n",
       "    .dataframe thead th {\n",
       "        text-align: right;\n",
       "    }\n",
       "</style>\n",
       "<table border=\"1\" class=\"dataframe\">\n",
       "  <thead>\n",
       "    <tr style=\"text-align: right;\">\n",
       "      <th></th>\n",
       "      <th>start_station_id</th>\n",
       "      <th>predicted_demand</th>\n",
       "      <th>start_hour</th>\n",
       "    </tr>\n",
       "  </thead>\n",
       "  <tbody>\n",
       "    <tr>\n",
       "      <th>51</th>\n",
       "      <td>6140.049805</td>\n",
       "      <td>7.0</td>\n",
       "      <td>2025-05-05 08:00:00</td>\n",
       "    </tr>\n",
       "    <tr>\n",
       "      <th>52</th>\n",
       "      <td>5905.140137</td>\n",
       "      <td>12.0</td>\n",
       "      <td>2025-05-05 08:00:00</td>\n",
       "    </tr>\n",
       "    <tr>\n",
       "      <th>53</th>\n",
       "      <td>6822.089844</td>\n",
       "      <td>8.0</td>\n",
       "      <td>2025-05-05 08:00:00</td>\n",
       "    </tr>\n",
       "  </tbody>\n",
       "</table>\n",
       "</div>"
      ],
      "text/plain": [
       "    start_station_id  predicted_demand          start_hour\n",
       "51       6140.049805               7.0 2025-05-05 08:00:00\n",
       "52       5905.140137              12.0 2025-05-05 08:00:00\n",
       "53       6822.089844               8.0 2025-05-05 08:00:00"
      ]
     },
     "execution_count": 15,
     "metadata": {},
     "output_type": "execute_result"
    }
   ],
   "source": [
    "predictions"
   ]
  },
  {
   "cell_type": "code",
   "execution_count": 52,
   "id": "48462c5f",
   "metadata": {},
   "outputs": [
    {
     "data": {
      "text/html": [
       "<div>\n",
       "<style scoped>\n",
       "    .dataframe tbody tr th:only-of-type {\n",
       "        vertical-align: middle;\n",
       "    }\n",
       "\n",
       "    .dataframe tbody tr th {\n",
       "        vertical-align: top;\n",
       "    }\n",
       "\n",
       "    .dataframe thead th {\n",
       "        text-align: right;\n",
       "    }\n",
       "</style>\n",
       "<table border=\"1\" class=\"dataframe\">\n",
       "  <thead>\n",
       "    <tr style=\"text-align: right;\">\n",
       "      <th></th>\n",
       "      <th>start_hour</th>\n",
       "      <th>start_station_id</th>\n",
       "      <th>rides</th>\n",
       "    </tr>\n",
       "  </thead>\n",
       "  <tbody>\n",
       "    <tr>\n",
       "      <th>0</th>\n",
       "      <td>2025-05-02 09:00:00-04:00</td>\n",
       "      <td>6822.089844</td>\n",
       "      <td>17</td>\n",
       "    </tr>\n",
       "    <tr>\n",
       "      <th>1</th>\n",
       "      <td>2025-04-24 13:00:00-04:00</td>\n",
       "      <td>5905.140137</td>\n",
       "      <td>21</td>\n",
       "    </tr>\n",
       "    <tr>\n",
       "      <th>2</th>\n",
       "      <td>2025-05-02 23:00:00-04:00</td>\n",
       "      <td>6822.089844</td>\n",
       "      <td>4</td>\n",
       "    </tr>\n",
       "    <tr>\n",
       "      <th>3</th>\n",
       "      <td>2025-04-23 23:00:00-04:00</td>\n",
       "      <td>5905.140137</td>\n",
       "      <td>5</td>\n",
       "    </tr>\n",
       "    <tr>\n",
       "      <th>4</th>\n",
       "      <td>2025-05-03 15:00:00-04:00</td>\n",
       "      <td>5905.140137</td>\n",
       "      <td>47</td>\n",
       "    </tr>\n",
       "    <tr>\n",
       "      <th>...</th>\n",
       "      <td>...</td>\n",
       "      <td>...</td>\n",
       "      <td>...</td>\n",
       "    </tr>\n",
       "    <tr>\n",
       "      <th>2047</th>\n",
       "      <td>2025-05-05 14:00:00-04:00</td>\n",
       "      <td>6822.089844</td>\n",
       "      <td>29</td>\n",
       "    </tr>\n",
       "    <tr>\n",
       "      <th>2048</th>\n",
       "      <td>2025-05-05 14:00:00-04:00</td>\n",
       "      <td>5905.140137</td>\n",
       "      <td>32</td>\n",
       "    </tr>\n",
       "    <tr>\n",
       "      <th>2049</th>\n",
       "      <td>2025-05-05 15:00:00-04:00</td>\n",
       "      <td>6822.089844</td>\n",
       "      <td>38</td>\n",
       "    </tr>\n",
       "    <tr>\n",
       "      <th>2050</th>\n",
       "      <td>2025-05-05 15:00:00-04:00</td>\n",
       "      <td>5905.140137</td>\n",
       "      <td>26</td>\n",
       "    </tr>\n",
       "    <tr>\n",
       "      <th>2051</th>\n",
       "      <td>2025-05-05 15:00:00-04:00</td>\n",
       "      <td>6140.049805</td>\n",
       "      <td>53</td>\n",
       "    </tr>\n",
       "  </tbody>\n",
       "</table>\n",
       "<p>2052 rows × 3 columns</p>\n",
       "</div>"
      ],
      "text/plain": [
       "                    start_hour  start_station_id  rides\n",
       "0    2025-05-02 09:00:00-04:00       6822.089844     17\n",
       "1    2025-04-24 13:00:00-04:00       5905.140137     21\n",
       "2    2025-05-02 23:00:00-04:00       6822.089844      4\n",
       "3    2025-04-23 23:00:00-04:00       5905.140137      5\n",
       "4    2025-05-03 15:00:00-04:00       5905.140137     47\n",
       "...                        ...               ...    ...\n",
       "2047 2025-05-05 14:00:00-04:00       6822.089844     29\n",
       "2048 2025-05-05 14:00:00-04:00       5905.140137     32\n",
       "2049 2025-05-05 15:00:00-04:00       6822.089844     38\n",
       "2050 2025-05-05 15:00:00-04:00       5905.140137     26\n",
       "2051 2025-05-05 15:00:00-04:00       6140.049805     53\n",
       "\n",
       "[2052 rows x 3 columns]"
      ]
     },
     "execution_count": 52,
     "metadata": {},
     "output_type": "execute_result"
    }
   ],
   "source": [
    "features"
   ]
  },
  {
   "cell_type": "code",
   "execution_count": 21,
   "id": "ada400ee",
   "metadata": {},
   "outputs": [],
   "source": [
    "import pandas as pd\n",
    "import plotly.express as px\n",
    "from plotly.graph_objects import Figure\n",
    "from typing import Optional\n",
    "from datetime import timedelta\n",
    "\n",
    "def plot_ts(features: pd.DataFrame, predictions: pd.DataFrame, location_id: float) -> Figure:\n",
    "    location_features = features[features[\"start_station_id\"] == location_id]\n",
    "    ts_cols = [col for col in features.columns if col.startswith(\"rides_t-\")]\n",
    "    ts_values = [location_features[col] for col in ts_cols]\n",
    "\n",
    "    # Generate timestamps\n",
    "    start_time = pd.to_datetime(location_features[\"start_hour\"].iloc[0])\n",
    "    time_series_dates = pd.date_range(\n",
    "        start=start_time - timedelta(hours=len(ts_cols)),\n",
    "        end=start_time,\n",
    "        freq=\"h\",\n",
    "    )\n",
    "\n",
    "    # Title\n",
    "    title = f\"Start Hour: {location_features['start_hour']}, Start Station ID: {location_features['start_station_id']}\"\n",
    "\n",
    "    # Base plot\n",
    "    fig = px.line(\n",
    "        x=time_series_dates,\n",
    "        y=ts_values,\n",
    "        template=\"plotly_white\",\n",
    "        markers=True,\n",
    "        title=title,\n",
    "        labels={\"x\": \"Time\", \"y\": \"Ride Counts\"},\n",
    "    )\n",
    "\n",
    "    return fig"
   ]
  },
  {
   "cell_type": "code",
   "execution_count": 58,
   "id": "5b22e5fb",
   "metadata": {},
   "outputs": [
    {
     "data": {
      "text/html": [
       "<div>\n",
       "<style scoped>\n",
       "    .dataframe tbody tr th:only-of-type {\n",
       "        vertical-align: middle;\n",
       "    }\n",
       "\n",
       "    .dataframe tbody tr th {\n",
       "        vertical-align: top;\n",
       "    }\n",
       "\n",
       "    .dataframe thead th {\n",
       "        text-align: right;\n",
       "    }\n",
       "</style>\n",
       "<table border=\"1\" class=\"dataframe\">\n",
       "  <thead>\n",
       "    <tr style=\"text-align: right;\">\n",
       "      <th></th>\n",
       "      <th>start_hour</th>\n",
       "      <th>start_station_id</th>\n",
       "      <th>rides</th>\n",
       "    </tr>\n",
       "  </thead>\n",
       "  <tbody>\n",
       "    <tr>\n",
       "      <th>1009</th>\n",
       "      <td>2025-04-07 04:00:00-04:00</td>\n",
       "      <td>5905.140137</td>\n",
       "      <td>1</td>\n",
       "    </tr>\n",
       "    <tr>\n",
       "      <th>752</th>\n",
       "      <td>2025-04-07 05:00:00-04:00</td>\n",
       "      <td>5905.140137</td>\n",
       "      <td>1</td>\n",
       "    </tr>\n",
       "    <tr>\n",
       "      <th>933</th>\n",
       "      <td>2025-04-07 06:00:00-04:00</td>\n",
       "      <td>5905.140137</td>\n",
       "      <td>4</td>\n",
       "    </tr>\n",
       "    <tr>\n",
       "      <th>637</th>\n",
       "      <td>2025-04-07 07:00:00-04:00</td>\n",
       "      <td>5905.140137</td>\n",
       "      <td>13</td>\n",
       "    </tr>\n",
       "    <tr>\n",
       "      <th>1273</th>\n",
       "      <td>2025-04-07 08:00:00-04:00</td>\n",
       "      <td>5905.140137</td>\n",
       "      <td>19</td>\n",
       "    </tr>\n",
       "    <tr>\n",
       "      <th>...</th>\n",
       "      <td>...</td>\n",
       "      <td>...</td>\n",
       "      <td>...</td>\n",
       "    </tr>\n",
       "    <tr>\n",
       "      <th>2037</th>\n",
       "      <td>2025-05-05 11:00:00-04:00</td>\n",
       "      <td>5905.140137</td>\n",
       "      <td>15</td>\n",
       "    </tr>\n",
       "    <tr>\n",
       "      <th>2041</th>\n",
       "      <td>2025-05-05 12:00:00-04:00</td>\n",
       "      <td>5905.140137</td>\n",
       "      <td>27</td>\n",
       "    </tr>\n",
       "    <tr>\n",
       "      <th>2044</th>\n",
       "      <td>2025-05-05 13:00:00-04:00</td>\n",
       "      <td>5905.140137</td>\n",
       "      <td>15</td>\n",
       "    </tr>\n",
       "    <tr>\n",
       "      <th>2048</th>\n",
       "      <td>2025-05-05 14:00:00-04:00</td>\n",
       "      <td>5905.140137</td>\n",
       "      <td>32</td>\n",
       "    </tr>\n",
       "    <tr>\n",
       "      <th>2050</th>\n",
       "      <td>2025-05-05 15:00:00-04:00</td>\n",
       "      <td>5905.140137</td>\n",
       "      <td>26</td>\n",
       "    </tr>\n",
       "  </tbody>\n",
       "</table>\n",
       "<p>684 rows × 3 columns</p>\n",
       "</div>"
      ],
      "text/plain": [
       "                    start_hour  start_station_id  rides\n",
       "1009 2025-04-07 04:00:00-04:00       5905.140137      1\n",
       "752  2025-04-07 05:00:00-04:00       5905.140137      1\n",
       "933  2025-04-07 06:00:00-04:00       5905.140137      4\n",
       "637  2025-04-07 07:00:00-04:00       5905.140137     13\n",
       "1273 2025-04-07 08:00:00-04:00       5905.140137     19\n",
       "...                        ...               ...    ...\n",
       "2037 2025-05-05 11:00:00-04:00       5905.140137     15\n",
       "2041 2025-05-05 12:00:00-04:00       5905.140137     27\n",
       "2044 2025-05-05 13:00:00-04:00       5905.140137     15\n",
       "2048 2025-05-05 14:00:00-04:00       5905.140137     32\n",
       "2050 2025-05-05 15:00:00-04:00       5905.140137     26\n",
       "\n",
       "[684 rows x 3 columns]"
      ]
     },
     "execution_count": 58,
     "metadata": {},
     "output_type": "execute_result"
    }
   ],
   "source": [
    "location_features = features[features[\"start_station_id\"] == 5905.140137]\n",
    "location_features = location_features.sort_values(by=[\"start_station_id\", \"start_hour\"], ascending=True)\n",
    "location_features"
   ]
  },
  {
   "cell_type": "code",
   "execution_count": 35,
   "id": "8001bd1a",
   "metadata": {},
   "outputs": [
    {
     "data": {
      "text/plain": [
       "[34,\n",
       " 20,\n",
       " 46,\n",
       " 31,\n",
       " 31,\n",
       " 39,\n",
       " 43,\n",
       " 20,\n",
       " 13,\n",
       " 10,\n",
       " 10,\n",
       " 0,\n",
       " 2,\n",
       " 0,\n",
       " 2,\n",
       " 0,\n",
       " 1,\n",
       " 1,\n",
       " 4,\n",
       " 13,\n",
       " 19,\n",
       " 10,\n",
       " 10,\n",
       " 23,\n",
       " 20,\n",
       " 28,\n",
       " 16,\n",
       " 26,\n",
       " 27,\n",
       " 40,\n",
       " 39,\n",
       " 21,\n",
       " 23,\n",
       " 15,\n",
       " 11,\n",
       " 3,\n",
       " 4,\n",
       " 1,\n",
       " 0,\n",
       " 2,\n",
       " 3,\n",
       " 1,\n",
       " 7,\n",
       " 15,\n",
       " 34,\n",
       " 20,\n",
       " 16,\n",
       " 24,\n",
       " 18,\n",
       " 27,\n",
       " 25,\n",
       " 37,\n",
       " 30,\n",
       " 54,\n",
       " 69,\n",
       " 43,\n",
       " 27,\n",
       " 17,\n",
       " 15,\n",
       " 10,\n",
       " 5,\n",
       " 0,\n",
       " 0,\n",
       " 0,\n",
       " 0,\n",
       " 2,\n",
       " 4,\n",
       " 11,\n",
       " 26,\n",
       " 26,\n",
       " 22,\n",
       " 20,\n",
       " 24,\n",
       " 30,\n",
       " 26,\n",
       " 37,\n",
       " 26,\n",
       " 33,\n",
       " 36,\n",
       " 39,\n",
       " 29,\n",
       " 18,\n",
       " 20,\n",
       " 15,\n",
       " 5,\n",
       " 1,\n",
       " 1,\n",
       " 1,\n",
       " 0,\n",
       " 0,\n",
       " 6,\n",
       " 10,\n",
       " 10,\n",
       " 14,\n",
       " 16,\n",
       " 11,\n",
       " 18,\n",
       " 30,\n",
       " 24,\n",
       " 31,\n",
       " 25,\n",
       " 21,\n",
       " 23,\n",
       " 16,\n",
       " 11,\n",
       " 13,\n",
       " 6,\n",
       " 7,\n",
       " 4,\n",
       " 2,\n",
       " 0,\n",
       " 0,\n",
       " 1,\n",
       " 1,\n",
       " 4,\n",
       " 9,\n",
       " 11,\n",
       " 23,\n",
       " 17,\n",
       " 24,\n",
       " 12,\n",
       " 7,\n",
       " 22,\n",
       " 33,\n",
       " 30,\n",
       " 31,\n",
       " 44,\n",
       " 28,\n",
       " 20,\n",
       " 14,\n",
       " 12,\n",
       " 13,\n",
       " 9,\n",
       " 2,\n",
       " 3,\n",
       " 4,\n",
       " 2,\n",
       " 1,\n",
       " 1,\n",
       " 2,\n",
       " 6,\n",
       " 8,\n",
       " 22,\n",
       " 18,\n",
       " 24,\n",
       " 26,\n",
       " 31,\n",
       " 28,\n",
       " 19,\n",
       " 30,\n",
       " 27,\n",
       " 18,\n",
       " 15,\n",
       " 18,\n",
       " 9,\n",
       " 9,\n",
       " 8,\n",
       " 3,\n",
       " 0,\n",
       " 2,\n",
       " 3,\n",
       " 0,\n",
       " 1,\n",
       " 3,\n",
       " 4,\n",
       " 12,\n",
       " 22,\n",
       " 13,\n",
       " 24,\n",
       " 24,\n",
       " 41,\n",
       " 36,\n",
       " 46,\n",
       " 22,\n",
       " 33,\n",
       " 27,\n",
       " 18,\n",
       " 5,\n",
       " 1,\n",
       " 5,\n",
       " 4,\n",
       " 2,\n",
       " 4,\n",
       " 6,\n",
       " 2,\n",
       " 1,\n",
       " 11,\n",
       " 17,\n",
       " 25,\n",
       " 19,\n",
       " 18,\n",
       " 19,\n",
       " 22,\n",
       " 24,\n",
       " 28,\n",
       " 42,\n",
       " 32,\n",
       " 47,\n",
       " 50,\n",
       " 41,\n",
       " 36,\n",
       " 20,\n",
       " 8,\n",
       " 4,\n",
       " 0,\n",
       " 1,\n",
       " 0,\n",
       " 0,\n",
       " 1,\n",
       " 1,\n",
       " 7,\n",
       " 15,\n",
       " 31,\n",
       " 22,\n",
       " 13,\n",
       " 19,\n",
       " 25,\n",
       " 27,\n",
       " 27,\n",
       " 36,\n",
       " 25,\n",
       " 47,\n",
       " 55,\n",
       " 35,\n",
       " 33,\n",
       " 22,\n",
       " 15,\n",
       " 4,\n",
       " 0,\n",
       " 0,\n",
       " 0,\n",
       " 0,\n",
       " 0,\n",
       " 3,\n",
       " 7,\n",
       " 11,\n",
       " 21,\n",
       " 33,\n",
       " 27,\n",
       " 23,\n",
       " 24,\n",
       " 37,\n",
       " 25,\n",
       " 23,\n",
       " 31,\n",
       " 53,\n",
       " 46,\n",
       " 28,\n",
       " 17,\n",
       " 7,\n",
       " 5,\n",
       " 5,\n",
       " 3,\n",
       " 3,\n",
       " 0,\n",
       " 1,\n",
       " 0,\n",
       " 1,\n",
       " 4,\n",
       " 9,\n",
       " 15,\n",
       " 14,\n",
       " 8,\n",
       " 11,\n",
       " 10,\n",
       " 16,\n",
       " 25,\n",
       " 18,\n",
       " 25,\n",
       " 31,\n",
       " 28,\n",
       " 29,\n",
       " 27,\n",
       " 16,\n",
       " 8,\n",
       " 6,\n",
       " 3,\n",
       " 2,\n",
       " 0,\n",
       " 0,\n",
       " 2,\n",
       " 0,\n",
       " 17,\n",
       " 2,\n",
       " 33,\n",
       " 18,\n",
       " 25,\n",
       " 25,\n",
       " 31,\n",
       " 27,\n",
       " 32,\n",
       " 37,\n",
       " 28,\n",
       " 32,\n",
       " 41,\n",
       " 21,\n",
       " 12,\n",
       " 17,\n",
       " 10,\n",
       " 11,\n",
       " 12,\n",
       " 9,\n",
       " 9,\n",
       " 2,\n",
       " 2,\n",
       " 1,\n",
       " 0,\n",
       " 3,\n",
       " 8,\n",
       " 9,\n",
       " 23,\n",
       " 57,\n",
       " 44,\n",
       " 65,\n",
       " 90,\n",
       " 68,\n",
       " 55,\n",
       " 61,\n",
       " 48,\n",
       " 26,\n",
       " 25,\n",
       " 20,\n",
       " 12,\n",
       " 9,\n",
       " 4,\n",
       " 5,\n",
       " 3,\n",
       " 2,\n",
       " 2,\n",
       " 0,\n",
       " 0,\n",
       " 2,\n",
       " 2,\n",
       " 10,\n",
       " 13,\n",
       " 20,\n",
       " 24,\n",
       " 33,\n",
       " 30,\n",
       " 39,\n",
       " 29,\n",
       " 31,\n",
       " 20,\n",
       " 12,\n",
       " 16,\n",
       " 17,\n",
       " 7,\n",
       " 6,\n",
       " 1,\n",
       " 0,\n",
       " 0,\n",
       " 0,\n",
       " 0,\n",
       " 0,\n",
       " 6,\n",
       " 14,\n",
       " 26,\n",
       " 12,\n",
       " 11,\n",
       " 21,\n",
       " 34,\n",
       " 17,\n",
       " 30,\n",
       " 14,\n",
       " 32,\n",
       " 27,\n",
       " 33,\n",
       " 41,\n",
       " 23,\n",
       " 18,\n",
       " 4,\n",
       " 7,\n",
       " 4,\n",
       " 3,\n",
       " 0,\n",
       " 0,\n",
       " 0,\n",
       " 3,\n",
       " 7,\n",
       " 18,\n",
       " 27,\n",
       " 23,\n",
       " 16,\n",
       " 20,\n",
       " 11,\n",
       " 24,\n",
       " 21,\n",
       " 28,\n",
       " 29,\n",
       " 31,\n",
       " 47,\n",
       " 23,\n",
       " 26,\n",
       " 12,\n",
       " 13,\n",
       " 11,\n",
       " 7,\n",
       " 1,\n",
       " 0,\n",
       " 4,\n",
       " 5,\n",
       " 2,\n",
       " 4,\n",
       " 10,\n",
       " 24,\n",
       " 19,\n",
       " 26,\n",
       " 12,\n",
       " 24,\n",
       " 29,\n",
       " 29,\n",
       " 33,\n",
       " 35,\n",
       " 32,\n",
       " 44,\n",
       " 41,\n",
       " 37,\n",
       " 23,\n",
       " 16,\n",
       " 5,\n",
       " 5,\n",
       " 1,\n",
       " 1,\n",
       " 0,\n",
       " 0,\n",
       " 2,\n",
       " 2,\n",
       " 15,\n",
       " 16,\n",
       " 16,\n",
       " 21,\n",
       " 19,\n",
       " 27,\n",
       " 21,\n",
       " 20,\n",
       " 31,\n",
       " 28,\n",
       " 52,\n",
       " 37,\n",
       " 31,\n",
       " 19,\n",
       " 14,\n",
       " 10,\n",
       " 11,\n",
       " 6,\n",
       " 3,\n",
       " 3,\n",
       " 2,\n",
       " 2,\n",
       " 1,\n",
       " 3,\n",
       " 12,\n",
       " 16,\n",
       " 27,\n",
       " 17,\n",
       " 22,\n",
       " 44,\n",
       " 23,\n",
       " 24,\n",
       " 30,\n",
       " 25,\n",
       " 34,\n",
       " 33,\n",
       " 26,\n",
       " 12,\n",
       " 10,\n",
       " 11,\n",
       " 6,\n",
       " 9,\n",
       " 2,\n",
       " 3,\n",
       " 2,\n",
       " 1,\n",
       " 1,\n",
       " 0,\n",
       " 0,\n",
       " 7,\n",
       " 16,\n",
       " 23,\n",
       " 25,\n",
       " 25,\n",
       " 29,\n",
       " 23,\n",
       " 36,\n",
       " 25,\n",
       " 20,\n",
       " 23,\n",
       " 20,\n",
       " 5,\n",
       " 4,\n",
       " 12,\n",
       " 4,\n",
       " 7,\n",
       " 1,\n",
       " 4,\n",
       " 2,\n",
       " 1,\n",
       " 0,\n",
       " 10,\n",
       " 3,\n",
       " 4,\n",
       " 9,\n",
       " 10,\n",
       " 21,\n",
       " 28,\n",
       " 17,\n",
       " 42,\n",
       " 37,\n",
       " 26,\n",
       " 35,\n",
       " 26,\n",
       " 34,\n",
       " 15,\n",
       " 16,\n",
       " 11,\n",
       " 6,\n",
       " 5,\n",
       " 3,\n",
       " 2,\n",
       " 10,\n",
       " 1,\n",
       " 1,\n",
       " 4,\n",
       " 11,\n",
       " 19,\n",
       " 18,\n",
       " 18,\n",
       " 23,\n",
       " 17,\n",
       " 31,\n",
       " 24,\n",
       " 19,\n",
       " 28,\n",
       " 30,\n",
       " 43,\n",
       " 34,\n",
       " 26,\n",
       " 26,\n",
       " 11,\n",
       " 11,\n",
       " 5,\n",
       " 5,\n",
       " 2,\n",
       " 3,\n",
       " 1,\n",
       " 2,\n",
       " 3,\n",
       " 16,\n",
       " 35,\n",
       " 24,\n",
       " 21,\n",
       " 14,\n",
       " 17,\n",
       " 13,\n",
       " 6,\n",
       " 40,\n",
       " 18,\n",
       " 34,\n",
       " 46,\n",
       " 25,\n",
       " 31,\n",
       " 23,\n",
       " 8,\n",
       " 2,\n",
       " 2,\n",
       " 1,\n",
       " 0,\n",
       " 1,\n",
       " 2,\n",
       " 2,\n",
       " 8,\n",
       " 12,\n",
       " 32,\n",
       " 26,\n",
       " 31,\n",
       " 18,\n",
       " 25,\n",
       " 31,\n",
       " 31,\n",
       " 42,\n",
       " 26,\n",
       " 43,\n",
       " 48,\n",
       " 48,\n",
       " 28,\n",
       " 22,\n",
       " 10,\n",
       " 12,\n",
       " 7,\n",
       " 0,\n",
       " 1,\n",
       " 0,\n",
       " 5,\n",
       " 11,\n",
       " 4,\n",
       " 13,\n",
       " 24,\n",
       " 30,\n",
       " 18,\n",
       " 20,\n",
       " 34,\n",
       " 21,\n",
       " 26,\n",
       " 38,\n",
       " 54,\n",
       " 70,\n",
       " 62,\n",
       " 40,\n",
       " 34,\n",
       " 14,\n",
       " 12,\n",
       " 14,\n",
       " 6,\n",
       " 1,\n",
       " 2,\n",
       " 0,\n",
       " 3,\n",
       " 6,\n",
       " 7,\n",
       " 15,\n",
       " 28,\n",
       " 25,\n",
       " 17,\n",
       " 18,\n",
       " 15,\n",
       " 28,\n",
       " 32,\n",
       " 48,\n",
       " 27,\n",
       " 34,\n",
       " 35,\n",
       " 15,\n",
       " 16,\n",
       " 20,\n",
       " 25,\n",
       " 20,\n",
       " 16,\n",
       " 9,\n",
       " 4,\n",
       " 3,\n",
       " 3,\n",
       " 3,\n",
       " 3,\n",
       " 6,\n",
       " 17,\n",
       " 32,\n",
       " 35,\n",
       " 36,\n",
       " 47,\n",
       " 68,\n",
       " 45,\n",
       " 47,\n",
       " 51,\n",
       " 44,\n",
       " 35,\n",
       " 25,\n",
       " 24,\n",
       " 26,\n",
       " 26,\n",
       " 29,\n",
       " 14,\n",
       " 2,\n",
       " 3,\n",
       " 1,\n",
       " 2,\n",
       " 0,\n",
       " 0,\n",
       " 13,\n",
       " 6,\n",
       " 16,\n",
       " 21,\n",
       " 25]"
      ]
     },
     "execution_count": 35,
     "metadata": {},
     "output_type": "execute_result"
    }
   ],
   "source": [
    "ts_cols = [col for col in features.columns if col.startswith(\"rides_t-\")]\n",
    "ts_values = [location_features[col] for col in ts_cols]\n",
    "ts_values = [s.item() for s in ts_values]\n",
    "ts_values"
   ]
  },
  {
   "cell_type": "code",
   "execution_count": 28,
   "id": "75b23d2e",
   "metadata": {},
   "outputs": [
    {
     "data": {
      "text/plain": [
       "DatetimeIndex(['2025-04-06 16:00:00', '2025-04-06 17:00:00',\n",
       "               '2025-04-06 18:00:00', '2025-04-06 19:00:00',\n",
       "               '2025-04-06 20:00:00', '2025-04-06 21:00:00',\n",
       "               '2025-04-06 22:00:00', '2025-04-06 23:00:00',\n",
       "               '2025-04-07 00:00:00', '2025-04-07 01:00:00',\n",
       "               ...\n",
       "               '2025-05-04 06:00:00', '2025-05-04 07:00:00',\n",
       "               '2025-05-04 08:00:00', '2025-05-04 09:00:00',\n",
       "               '2025-05-04 10:00:00', '2025-05-04 11:00:00',\n",
       "               '2025-05-04 12:00:00', '2025-05-04 13:00:00',\n",
       "               '2025-05-04 14:00:00', '2025-05-04 15:00:00'],\n",
       "              dtype='datetime64[ns]', length=672, freq='H')"
      ]
     },
     "execution_count": 28,
     "metadata": {},
     "output_type": "execute_result"
    }
   ],
   "source": [
    "start_time = pd.to_datetime(location_features[\"start_hour\"].iloc[0])\n",
    "time_series_dates = pd.date_range(\n",
    "    start=start_time - timedelta(hours=len(ts_cols)),\n",
    "    end=start_time - timedelta(hours=1),\n",
    "    freq=\"h\",\n",
    ")\n",
    "time_series_dates"
   ]
  },
  {
   "cell_type": "code",
   "execution_count": 78,
   "id": "8b226001",
   "metadata": {},
   "outputs": [
    {
     "name": "stdout",
     "output_type": "stream",
     "text": [
      "2025-05-05 12:52:52,433 INFO: Closing external client and cleaning up certificates.\n",
      "Connection closed.\n",
      "2025-05-05 12:52:52,439 INFO: Initializing external client\n",
      "2025-05-05 12:52:52,440 INFO: Base URL: https://c.app.hopsworks.ai:443\n",
      "2025-05-05 12:52:53,166 INFO: Python Engine initialized.\n",
      "\n",
      "Logged in to project, explore it here https://c.app.hopsworks.ai:443/p/1212635\n",
      "Finished: Reading data from Hopsworks, using Hopsworks Feature Query Service (0.40s) \n"
     ]
    },
    {
     "data": {
      "text/html": [
       "<div>\n",
       "<style scoped>\n",
       "    .dataframe tbody tr th:only-of-type {\n",
       "        vertical-align: middle;\n",
       "    }\n",
       "\n",
       "    .dataframe tbody tr th {\n",
       "        vertical-align: top;\n",
       "    }\n",
       "\n",
       "    .dataframe thead th {\n",
       "        text-align: right;\n",
       "    }\n",
       "</style>\n",
       "<table border=\"1\" class=\"dataframe\">\n",
       "  <thead>\n",
       "    <tr style=\"text-align: right;\">\n",
       "      <th></th>\n",
       "      <th>start_station_id</th>\n",
       "      <th>predicted_demand</th>\n",
       "      <th>start_hour</th>\n",
       "    </tr>\n",
       "  </thead>\n",
       "  <tbody>\n",
       "    <tr>\n",
       "      <th>0</th>\n",
       "      <td>6822.089844</td>\n",
       "      <td>18.0</td>\n",
       "      <td>2025-05-04 12:00:00-04:00</td>\n",
       "    </tr>\n",
       "    <tr>\n",
       "      <th>1</th>\n",
       "      <td>5905.140137</td>\n",
       "      <td>21.0</td>\n",
       "      <td>2025-05-04 12:00:00-04:00</td>\n",
       "    </tr>\n",
       "    <tr>\n",
       "      <th>2</th>\n",
       "      <td>6140.049805</td>\n",
       "      <td>21.0</td>\n",
       "      <td>2025-05-04 12:00:00-04:00</td>\n",
       "    </tr>\n",
       "    <tr>\n",
       "      <th>3</th>\n",
       "      <td>6822.089844</td>\n",
       "      <td>9.0</td>\n",
       "      <td>2025-05-04 14:00:00-04:00</td>\n",
       "    </tr>\n",
       "    <tr>\n",
       "      <th>4</th>\n",
       "      <td>5905.140137</td>\n",
       "      <td>23.0</td>\n",
       "      <td>2025-05-04 14:00:00-04:00</td>\n",
       "    </tr>\n",
       "    <tr>\n",
       "      <th>...</th>\n",
       "      <td>...</td>\n",
       "      <td>...</td>\n",
       "      <td>...</td>\n",
       "    </tr>\n",
       "    <tr>\n",
       "      <th>64</th>\n",
       "      <td>5905.140137</td>\n",
       "      <td>6.0</td>\n",
       "      <td>2025-05-05 12:00:00-04:00</td>\n",
       "    </tr>\n",
       "    <tr>\n",
       "      <th>65</th>\n",
       "      <td>6140.049805</td>\n",
       "      <td>18.0</td>\n",
       "      <td>2025-05-05 12:00:00-04:00</td>\n",
       "    </tr>\n",
       "    <tr>\n",
       "      <th>66</th>\n",
       "      <td>6822.089844</td>\n",
       "      <td>16.0</td>\n",
       "      <td>2025-05-05 13:00:00-04:00</td>\n",
       "    </tr>\n",
       "    <tr>\n",
       "      <th>67</th>\n",
       "      <td>5905.140137</td>\n",
       "      <td>5.0</td>\n",
       "      <td>2025-05-05 13:00:00-04:00</td>\n",
       "    </tr>\n",
       "    <tr>\n",
       "      <th>68</th>\n",
       "      <td>6140.049805</td>\n",
       "      <td>11.0</td>\n",
       "      <td>2025-05-05 13:00:00-04:00</td>\n",
       "    </tr>\n",
       "  </tbody>\n",
       "</table>\n",
       "<p>69 rows × 3 columns</p>\n",
       "</div>"
      ],
      "text/plain": [
       "    start_station_id  predicted_demand                start_hour\n",
       "0        6822.089844              18.0 2025-05-04 12:00:00-04:00\n",
       "1        5905.140137              21.0 2025-05-04 12:00:00-04:00\n",
       "2        6140.049805              21.0 2025-05-04 12:00:00-04:00\n",
       "3        6822.089844               9.0 2025-05-04 14:00:00-04:00\n",
       "4        5905.140137              23.0 2025-05-04 14:00:00-04:00\n",
       "..               ...               ...                       ...\n",
       "64       5905.140137               6.0 2025-05-05 12:00:00-04:00\n",
       "65       6140.049805              18.0 2025-05-05 12:00:00-04:00\n",
       "66       6822.089844              16.0 2025-05-05 13:00:00-04:00\n",
       "67       5905.140137               5.0 2025-05-05 13:00:00-04:00\n",
       "68       6140.049805              11.0 2025-05-05 13:00:00-04:00\n",
       "\n",
       "[69 rows x 3 columns]"
      ]
     },
     "execution_count": 78,
     "metadata": {},
     "output_type": "execute_result"
    }
   ],
   "source": [
    "from src.inference import fetch_predictions\n",
    "\n",
    "preds = fetch_predictions(672)\n",
    "preds"
   ]
  },
  {
   "cell_type": "code",
   "execution_count": 85,
   "id": "ba356b62",
   "metadata": {},
   "outputs": [
    {
     "data": {
      "text/plain": [
       "Timestamp('2025-05-05 16:58:47.776817+0000', tz='UTC')"
      ]
     },
     "execution_count": 85,
     "metadata": {},
     "output_type": "execute_result"
    }
   ],
   "source": [
    "current_hour_utc = (pd.Timestamp.now(tz=\"UTC\") - timedelta(hours=672)).floor(\"h\")\n",
    "current_hour_utc\n",
    "pd.Timestamp.now(tz=\"UTC\")"
   ]
  },
  {
   "cell_type": "code",
   "execution_count": 89,
   "id": "6cf622b7",
   "metadata": {},
   "outputs": [
    {
     "name": "stdout",
     "output_type": "stream",
     "text": [
      "2025-05-05 13:06:04,969 INFO: Closing external client and cleaning up certificates.\n",
      "Connection closed.\n",
      "2025-05-05 13:06:04,976 INFO: Initializing external client\n",
      "2025-05-05 13:06:04,976 INFO: Base URL: https://c.app.hopsworks.ai:443\n",
      "2025-05-05 13:06:05,709 INFO: Python Engine initialized.\n",
      "\n",
      "Logged in to project, explore it here https://c.app.hopsworks.ai:443/p/1212635\n",
      "Finished: Reading data from Hopsworks, using Hopsworks Feature Query Service (0.61s) \n"
     ]
    }
   ],
   "source": [
    "from src.inference import fetch_hourly_rides\n",
    "\n",
    "test = fetch_hourly_rides(672).sort_values([\"start_station_id\", \"start_hour\"])"
   ]
  },
  {
   "cell_type": "code",
   "execution_count": 90,
   "id": "28b06b1b",
   "metadata": {},
   "outputs": [
    {
     "data": {
      "text/html": [
       "<div>\n",
       "<style scoped>\n",
       "    .dataframe tbody tr th:only-of-type {\n",
       "        vertical-align: middle;\n",
       "    }\n",
       "\n",
       "    .dataframe tbody tr th {\n",
       "        vertical-align: top;\n",
       "    }\n",
       "\n",
       "    .dataframe thead th {\n",
       "        text-align: right;\n",
       "    }\n",
       "</style>\n",
       "<table border=\"1\" class=\"dataframe\">\n",
       "  <thead>\n",
       "    <tr style=\"text-align: right;\">\n",
       "      <th></th>\n",
       "      <th>start_hour</th>\n",
       "      <th>start_station_id</th>\n",
       "      <th>rides</th>\n",
       "    </tr>\n",
       "  </thead>\n",
       "  <tbody>\n",
       "    <tr>\n",
       "      <th>60795</th>\n",
       "      <td>2025-04-07 13:00:00-04:00</td>\n",
       "      <td>5905.140137</td>\n",
       "      <td>28</td>\n",
       "    </tr>\n",
       "    <tr>\n",
       "      <th>61046</th>\n",
       "      <td>2025-04-07 14:00:00-04:00</td>\n",
       "      <td>5905.140137</td>\n",
       "      <td>16</td>\n",
       "    </tr>\n",
       "    <tr>\n",
       "      <th>59552</th>\n",
       "      <td>2025-04-07 15:00:00-04:00</td>\n",
       "      <td>5905.140137</td>\n",
       "      <td>26</td>\n",
       "    </tr>\n",
       "    <tr>\n",
       "      <th>60724</th>\n",
       "      <td>2025-04-07 16:00:00-04:00</td>\n",
       "      <td>5905.140137</td>\n",
       "      <td>27</td>\n",
       "    </tr>\n",
       "    <tr>\n",
       "      <th>60296</th>\n",
       "      <td>2025-04-07 17:00:00-04:00</td>\n",
       "      <td>5905.140137</td>\n",
       "      <td>40</td>\n",
       "    </tr>\n",
       "    <tr>\n",
       "      <th>...</th>\n",
       "      <td>...</td>\n",
       "      <td>...</td>\n",
       "      <td>...</td>\n",
       "    </tr>\n",
       "    <tr>\n",
       "      <th>61524</th>\n",
       "      <td>2025-05-05 09:00:00-04:00</td>\n",
       "      <td>6822.089844</td>\n",
       "      <td>23</td>\n",
       "    </tr>\n",
       "    <tr>\n",
       "      <th>61527</th>\n",
       "      <td>2025-05-05 10:00:00-04:00</td>\n",
       "      <td>6822.089844</td>\n",
       "      <td>14</td>\n",
       "    </tr>\n",
       "    <tr>\n",
       "      <th>61532</th>\n",
       "      <td>2025-05-05 11:00:00-04:00</td>\n",
       "      <td>6822.089844</td>\n",
       "      <td>10</td>\n",
       "    </tr>\n",
       "    <tr>\n",
       "      <th>61533</th>\n",
       "      <td>2025-05-05 12:00:00-04:00</td>\n",
       "      <td>6822.089844</td>\n",
       "      <td>16</td>\n",
       "    </tr>\n",
       "    <tr>\n",
       "      <th>61538</th>\n",
       "      <td>2025-05-05 13:00:00-04:00</td>\n",
       "      <td>6822.089844</td>\n",
       "      <td>25</td>\n",
       "    </tr>\n",
       "  </tbody>\n",
       "</table>\n",
       "<p>2019 rows × 3 columns</p>\n",
       "</div>"
      ],
      "text/plain": [
       "                     start_hour  start_station_id  rides\n",
       "60795 2025-04-07 13:00:00-04:00       5905.140137     28\n",
       "61046 2025-04-07 14:00:00-04:00       5905.140137     16\n",
       "59552 2025-04-07 15:00:00-04:00       5905.140137     26\n",
       "60724 2025-04-07 16:00:00-04:00       5905.140137     27\n",
       "60296 2025-04-07 17:00:00-04:00       5905.140137     40\n",
       "...                         ...               ...    ...\n",
       "61524 2025-05-05 09:00:00-04:00       6822.089844     23\n",
       "61527 2025-05-05 10:00:00-04:00       6822.089844     14\n",
       "61532 2025-05-05 11:00:00-04:00       6822.089844     10\n",
       "61533 2025-05-05 12:00:00-04:00       6822.089844     16\n",
       "61538 2025-05-05 13:00:00-04:00       6822.089844     25\n",
       "\n",
       "[2019 rows x 3 columns]"
      ]
     },
     "execution_count": 90,
     "metadata": {},
     "output_type": "execute_result"
    }
   ],
   "source": [
    "test"
   ]
  },
  {
   "cell_type": "code",
   "execution_count": 87,
   "id": "2a3ca01f",
   "metadata": {},
   "outputs": [
    {
     "name": "stdout",
     "output_type": "stream",
     "text": [
      "<class 'pandas.core.frame.DataFrame'>\n",
      "Index: 2031 entries, 60769 to 61545\n",
      "Data columns (total 3 columns):\n",
      " #   Column            Non-Null Count  Dtype                  \n",
      "---  ------            --------------  -----                  \n",
      " 0   start_hour        2031 non-null   datetime64[us, Etc/UTC]\n",
      " 1   start_station_id  2031 non-null   float32                \n",
      " 2   rides             2031 non-null   int32                  \n",
      "dtypes: datetime64[us, Etc/UTC](1), float32(1), int32(1)\n",
      "memory usage: 47.6 KB\n"
     ]
    }
   ],
   "source": [
    "test.info()"
   ]
  },
  {
   "cell_type": "code",
   "execution_count": 46,
   "id": "7168fc77",
   "metadata": {},
   "outputs": [],
   "source": [
    "preds = preds.sort_values(by=[\"start_station_id\", \"start_hour\"], ascending=True)"
   ]
  },
  {
   "cell_type": "code",
   "execution_count": 47,
   "id": "a082b8da",
   "metadata": {},
   "outputs": [],
   "source": [
    "location_preds = preds[preds[\"start_station_id\"] == 5905.140137]"
   ]
  },
  {
   "cell_type": "code",
   "execution_count": 43,
   "id": "6a28e5e5",
   "metadata": {},
   "outputs": [
    {
     "data": {
      "text/plain": [
       "Timestamp('2025-05-05 12:00:00-0400', tz='US/Eastern')"
      ]
     },
     "execution_count": 43,
     "metadata": {},
     "output_type": "execute_result"
    }
   ],
   "source": [
    "preds[\"start_hour\"].max()"
   ]
  },
  {
   "cell_type": "code",
   "execution_count": 44,
   "id": "24a8ed0a",
   "metadata": {},
   "outputs": [
    {
     "data": {
      "text/plain": [
       "DatetimeIndex(['2025-05-04 12:00:00-04:00', '2025-05-04 13:00:00-04:00',\n",
       "               '2025-05-04 14:00:00-04:00', '2025-05-04 15:00:00-04:00',\n",
       "               '2025-05-04 16:00:00-04:00', '2025-05-04 17:00:00-04:00',\n",
       "               '2025-05-04 18:00:00-04:00', '2025-05-04 19:00:00-04:00',\n",
       "               '2025-05-04 20:00:00-04:00', '2025-05-04 21:00:00-04:00',\n",
       "               '2025-05-04 22:00:00-04:00', '2025-05-04 23:00:00-04:00',\n",
       "               '2025-05-05 00:00:00-04:00', '2025-05-05 01:00:00-04:00',\n",
       "               '2025-05-05 02:00:00-04:00', '2025-05-05 03:00:00-04:00',\n",
       "               '2025-05-05 04:00:00-04:00', '2025-05-05 05:00:00-04:00',\n",
       "               '2025-05-05 06:00:00-04:00', '2025-05-05 07:00:00-04:00',\n",
       "               '2025-05-05 08:00:00-04:00', '2025-05-05 09:00:00-04:00',\n",
       "               '2025-05-05 10:00:00-04:00', '2025-05-05 11:00:00-04:00',\n",
       "               '2025-05-05 12:00:00-04:00'],\n",
       "              dtype='datetime64[ns, US/Eastern]', freq='H')"
      ]
     },
     "execution_count": 44,
     "metadata": {},
     "output_type": "execute_result"
    }
   ],
   "source": [
    "preds_dates = pd.date_range(\n",
    "    start=preds[\"start_hour\"].min(),\n",
    "    end=preds[\"start_hour\"].max(),\n",
    "    freq=\"h\",\n",
    ")\n",
    "preds_dates"
   ]
  },
  {
   "cell_type": "code",
   "execution_count": 55,
   "id": "1ae1a407",
   "metadata": {},
   "outputs": [
    {
     "data": {
      "text/plain": [
       "5905.14"
      ]
     },
     "execution_count": 55,
     "metadata": {},
     "output_type": "execute_result"
    }
   ],
   "source": [
    "location_features['start_station_id'].iloc[0]"
   ]
  },
  {
   "cell_type": "code",
   "execution_count": 61,
   "id": "983454db",
   "metadata": {},
   "outputs": [],
   "source": [
    "station_dict = {\n",
    "    int(5905.0): {\"name\": \"Broadway & E 14 St\",\n",
    "           \"longitude\": -73.99074142,\n",
    "           \"latitude\": 40.73454567\n",
    "           },\n",
    "    int(6140.0): {\"name\": \"W 21 St & 6 Ave\",\n",
    "           \"longitude\": -73.99415556,\n",
    "           \"latitude\": 40.74173969},\n",
    "    int(6822.0): {\"name\": \"1 Ave & E 68 St\",\n",
    "           \"longitude\": -73.958115339,\n",
    "           \"latitude\": 40.765112281}\n",
    "}\n",
    "station_df = pd.DataFrame.from_dict(station_dict, orient='index').reset_index()\n",
    "station_df.rename(columns={'index': 'start_station_id'}, inplace=True)"
   ]
  },
  {
   "cell_type": "code",
   "execution_count": 76,
   "id": "3b48d5e0",
   "metadata": {},
   "outputs": [
    {
     "name": "stdout",
     "output_type": "stream",
     "text": [
      "2025-05-05 12:47:10,761 INFO: Closing external client and cleaning up certificates.\n",
      "Connection closed.\n",
      "2025-05-05 12:47:10,768 INFO: Initializing external client\n",
      "2025-05-05 12:47:10,769 INFO: Base URL: https://c.app.hopsworks.ai:443\n",
      "2025-05-05 12:47:11,526 INFO: Python Engine initialized.\n",
      "\n",
      "Logged in to project, explore it here https://c.app.hopsworks.ai:443/p/1212635\n",
      "Finished: Reading data from Hopsworks, using Hopsworks Feature Query Service (0.70s) \n",
      "2025-05-05 12:47:14,266 INFO: Closing external client and cleaning up certificates.\n",
      "Connection closed.\n",
      "2025-05-05 12:47:14,271 INFO: Initializing external client\n",
      "2025-05-05 12:47:14,271 INFO: Base URL: https://c.app.hopsworks.ai:443\n",
      "2025-05-05 12:47:15,007 INFO: Python Engine initialized.\n",
      "\n",
      "Logged in to project, explore it here https://c.app.hopsworks.ai:443/p/1212635\n",
      "Finished: Reading data from Hopsworks, using Hopsworks Feature Query Service (0.59s) \n"
     ]
    }
   ],
   "source": [
    "rides = fetch_hourly_rides(672)\n",
    "preds = fetch_predictions(672)\n",
    "\n",
    "preds[\"start_station_id\"] = preds[\"start_station_id\"].round(0).astype(int)\n",
    "preds = pd.merge(preds, station_df, on='start_station_id', how='left')\n",
    "rides[\"start_station_id\"] = rides[\"start_station_id\"].round(0).astype(int)\n",
    "rides = pd.merge(rides, station_df, on='start_station_id', how='left')"
   ]
  },
  {
   "cell_type": "code",
   "execution_count": 65,
   "id": "46cc8cd5",
   "metadata": {},
   "outputs": [
    {
     "data": {
      "text/plain": [
       "array(['Broadway & E 14 St', 'W 21 St & 6 Ave', '1 Ave & E 68 St'],\n",
       "      dtype=object)"
      ]
     },
     "execution_count": 65,
     "metadata": {},
     "output_type": "execute_result"
    }
   ],
   "source": [
    "station_options = preds[\"name\"].dropna().unique()\n",
    "station_options"
   ]
  },
  {
   "cell_type": "code",
   "execution_count": 67,
   "id": "ab8d5071",
   "metadata": {},
   "outputs": [
    {
     "data": {
      "text/html": [
       "<div>\n",
       "<style scoped>\n",
       "    .dataframe tbody tr th:only-of-type {\n",
       "        vertical-align: middle;\n",
       "    }\n",
       "\n",
       "    .dataframe tbody tr th {\n",
       "        vertical-align: top;\n",
       "    }\n",
       "\n",
       "    .dataframe thead th {\n",
       "        text-align: right;\n",
       "    }\n",
       "</style>\n",
       "<table border=\"1\" class=\"dataframe\">\n",
       "  <thead>\n",
       "    <tr style=\"text-align: right;\">\n",
       "      <th></th>\n",
       "      <th>start_hour</th>\n",
       "      <th>start_station_id</th>\n",
       "      <th>rides</th>\n",
       "      <th>name</th>\n",
       "      <th>longitude</th>\n",
       "      <th>latitude</th>\n",
       "    </tr>\n",
       "  </thead>\n",
       "  <tbody>\n",
       "    <tr>\n",
       "      <th>0</th>\n",
       "      <td>2025-05-02 09:00:00-04:00</td>\n",
       "      <td>6822</td>\n",
       "      <td>17</td>\n",
       "      <td>1 Ave &amp; E 68 St</td>\n",
       "      <td>-73.958115</td>\n",
       "      <td>40.765112</td>\n",
       "    </tr>\n",
       "    <tr>\n",
       "      <th>1</th>\n",
       "      <td>2025-04-24 13:00:00-04:00</td>\n",
       "      <td>5905</td>\n",
       "      <td>21</td>\n",
       "      <td>Broadway &amp; E 14 St</td>\n",
       "      <td>-73.990741</td>\n",
       "      <td>40.734546</td>\n",
       "    </tr>\n",
       "    <tr>\n",
       "      <th>2</th>\n",
       "      <td>2025-05-02 23:00:00-04:00</td>\n",
       "      <td>6822</td>\n",
       "      <td>4</td>\n",
       "      <td>1 Ave &amp; E 68 St</td>\n",
       "      <td>-73.958115</td>\n",
       "      <td>40.765112</td>\n",
       "    </tr>\n",
       "    <tr>\n",
       "      <th>3</th>\n",
       "      <td>2025-04-23 23:00:00-04:00</td>\n",
       "      <td>5905</td>\n",
       "      <td>5</td>\n",
       "      <td>Broadway &amp; E 14 St</td>\n",
       "      <td>-73.990741</td>\n",
       "      <td>40.734546</td>\n",
       "    </tr>\n",
       "    <tr>\n",
       "      <th>4</th>\n",
       "      <td>2025-05-03 15:00:00-04:00</td>\n",
       "      <td>5905</td>\n",
       "      <td>47</td>\n",
       "      <td>Broadway &amp; E 14 St</td>\n",
       "      <td>-73.990741</td>\n",
       "      <td>40.734546</td>\n",
       "    </tr>\n",
       "    <tr>\n",
       "      <th>...</th>\n",
       "      <td>...</td>\n",
       "      <td>...</td>\n",
       "      <td>...</td>\n",
       "      <td>...</td>\n",
       "      <td>...</td>\n",
       "      <td>...</td>\n",
       "    </tr>\n",
       "    <tr>\n",
       "      <th>2047</th>\n",
       "      <td>2025-05-05 14:00:00-04:00</td>\n",
       "      <td>6822</td>\n",
       "      <td>29</td>\n",
       "      <td>1 Ave &amp; E 68 St</td>\n",
       "      <td>-73.958115</td>\n",
       "      <td>40.765112</td>\n",
       "    </tr>\n",
       "    <tr>\n",
       "      <th>2048</th>\n",
       "      <td>2025-05-05 14:00:00-04:00</td>\n",
       "      <td>5905</td>\n",
       "      <td>32</td>\n",
       "      <td>Broadway &amp; E 14 St</td>\n",
       "      <td>-73.990741</td>\n",
       "      <td>40.734546</td>\n",
       "    </tr>\n",
       "    <tr>\n",
       "      <th>2049</th>\n",
       "      <td>2025-05-05 15:00:00-04:00</td>\n",
       "      <td>6822</td>\n",
       "      <td>38</td>\n",
       "      <td>1 Ave &amp; E 68 St</td>\n",
       "      <td>-73.958115</td>\n",
       "      <td>40.765112</td>\n",
       "    </tr>\n",
       "    <tr>\n",
       "      <th>2050</th>\n",
       "      <td>2025-05-05 15:00:00-04:00</td>\n",
       "      <td>5905</td>\n",
       "      <td>26</td>\n",
       "      <td>Broadway &amp; E 14 St</td>\n",
       "      <td>-73.990741</td>\n",
       "      <td>40.734546</td>\n",
       "    </tr>\n",
       "    <tr>\n",
       "      <th>2051</th>\n",
       "      <td>2025-05-05 15:00:00-04:00</td>\n",
       "      <td>6140</td>\n",
       "      <td>53</td>\n",
       "      <td>W 21 St &amp; 6 Ave</td>\n",
       "      <td>-73.994156</td>\n",
       "      <td>40.741740</td>\n",
       "    </tr>\n",
       "  </tbody>\n",
       "</table>\n",
       "<p>2052 rows × 6 columns</p>\n",
       "</div>"
      ],
      "text/plain": [
       "                    start_hour  start_station_id  rides                name  \\\n",
       "0    2025-05-02 09:00:00-04:00              6822     17     1 Ave & E 68 St   \n",
       "1    2025-04-24 13:00:00-04:00              5905     21  Broadway & E 14 St   \n",
       "2    2025-05-02 23:00:00-04:00              6822      4     1 Ave & E 68 St   \n",
       "3    2025-04-23 23:00:00-04:00              5905      5  Broadway & E 14 St   \n",
       "4    2025-05-03 15:00:00-04:00              5905     47  Broadway & E 14 St   \n",
       "...                        ...               ...    ...                 ...   \n",
       "2047 2025-05-05 14:00:00-04:00              6822     29     1 Ave & E 68 St   \n",
       "2048 2025-05-05 14:00:00-04:00              5905     32  Broadway & E 14 St   \n",
       "2049 2025-05-05 15:00:00-04:00              6822     38     1 Ave & E 68 St   \n",
       "2050 2025-05-05 15:00:00-04:00              5905     26  Broadway & E 14 St   \n",
       "2051 2025-05-05 15:00:00-04:00              6140     53     W 21 St & 6 Ave   \n",
       "\n",
       "      longitude   latitude  \n",
       "0    -73.958115  40.765112  \n",
       "1    -73.990741  40.734546  \n",
       "2    -73.958115  40.765112  \n",
       "3    -73.990741  40.734546  \n",
       "4    -73.990741  40.734546  \n",
       "...         ...        ...  \n",
       "2047 -73.958115  40.765112  \n",
       "2048 -73.990741  40.734546  \n",
       "2049 -73.958115  40.765112  \n",
       "2050 -73.990741  40.734546  \n",
       "2051 -73.994156  40.741740  \n",
       "\n",
       "[2052 rows x 6 columns]"
      ]
     },
     "execution_count": 67,
     "metadata": {},
     "output_type": "execute_result"
    }
   ],
   "source": [
    "rides"
   ]
  },
  {
   "cell_type": "code",
   "execution_count": 68,
   "id": "bd78d174",
   "metadata": {},
   "outputs": [],
   "source": [
    "selected_station = \"Broadway & E 14 St\""
   ]
  },
  {
   "cell_type": "code",
   "execution_count": 69,
   "id": "5f10efd2",
   "metadata": {},
   "outputs": [],
   "source": [
    "# Filter data for the selected station\n",
    "preds_station_data = preds[preds[\"name\"] == selected_station].sort_values(\"start_hour\")\n",
    "rides_station_data = rides[rides[\"name\"] == selected_station].sort_values(\"start_hour\")"
   ]
  },
  {
   "cell_type": "code",
   "execution_count": 71,
   "id": "dffbeb3d",
   "metadata": {},
   "outputs": [
    {
     "data": {
      "text/html": [
       "<div>\n",
       "<style scoped>\n",
       "    .dataframe tbody tr th:only-of-type {\n",
       "        vertical-align: middle;\n",
       "    }\n",
       "\n",
       "    .dataframe tbody tr th {\n",
       "        vertical-align: top;\n",
       "    }\n",
       "\n",
       "    .dataframe thead th {\n",
       "        text-align: right;\n",
       "    }\n",
       "</style>\n",
       "<table border=\"1\" class=\"dataframe\">\n",
       "  <thead>\n",
       "    <tr style=\"text-align: right;\">\n",
       "      <th></th>\n",
       "      <th>start_station_id</th>\n",
       "      <th>predicted_demand</th>\n",
       "      <th>start_hour</th>\n",
       "      <th>name</th>\n",
       "      <th>longitude</th>\n",
       "      <th>latitude</th>\n",
       "    </tr>\n",
       "  </thead>\n",
       "  <tbody>\n",
       "    <tr>\n",
       "      <th>1</th>\n",
       "      <td>5905</td>\n",
       "      <td>21.0</td>\n",
       "      <td>2025-05-04 12:00:00-04:00</td>\n",
       "      <td>Broadway &amp; E 14 St</td>\n",
       "      <td>-73.990741</td>\n",
       "      <td>40.734546</td>\n",
       "    </tr>\n",
       "    <tr>\n",
       "      <th>4</th>\n",
       "      <td>5905</td>\n",
       "      <td>23.0</td>\n",
       "      <td>2025-05-04 14:00:00-04:00</td>\n",
       "      <td>Broadway &amp; E 14 St</td>\n",
       "      <td>-73.990741</td>\n",
       "      <td>40.734546</td>\n",
       "    </tr>\n",
       "    <tr>\n",
       "      <th>7</th>\n",
       "      <td>5905</td>\n",
       "      <td>18.0</td>\n",
       "      <td>2025-05-04 16:00:00-04:00</td>\n",
       "      <td>Broadway &amp; E 14 St</td>\n",
       "      <td>-73.990741</td>\n",
       "      <td>40.734546</td>\n",
       "    </tr>\n",
       "    <tr>\n",
       "      <th>9</th>\n",
       "      <td>5905</td>\n",
       "      <td>12.0</td>\n",
       "      <td>2025-05-04 17:00:00-04:00</td>\n",
       "      <td>Broadway &amp; E 14 St</td>\n",
       "      <td>-73.990741</td>\n",
       "      <td>40.734546</td>\n",
       "    </tr>\n",
       "    <tr>\n",
       "      <th>12</th>\n",
       "      <td>5905</td>\n",
       "      <td>3.0</td>\n",
       "      <td>2025-05-04 18:00:00-04:00</td>\n",
       "      <td>Broadway &amp; E 14 St</td>\n",
       "      <td>-73.990741</td>\n",
       "      <td>40.734546</td>\n",
       "    </tr>\n",
       "    <tr>\n",
       "      <th>16</th>\n",
       "      <td>5905</td>\n",
       "      <td>18.0</td>\n",
       "      <td>2025-05-04 19:00:00-04:00</td>\n",
       "      <td>Broadway &amp; E 14 St</td>\n",
       "      <td>-73.990741</td>\n",
       "      <td>40.734546</td>\n",
       "    </tr>\n",
       "    <tr>\n",
       "      <th>20</th>\n",
       "      <td>5905</td>\n",
       "      <td>20.0</td>\n",
       "      <td>2025-05-04 20:00:00-04:00</td>\n",
       "      <td>Broadway &amp; E 14 St</td>\n",
       "      <td>-73.990741</td>\n",
       "      <td>40.734546</td>\n",
       "    </tr>\n",
       "    <tr>\n",
       "      <th>23</th>\n",
       "      <td>5905</td>\n",
       "      <td>5.0</td>\n",
       "      <td>2025-05-04 21:00:00-04:00</td>\n",
       "      <td>Broadway &amp; E 14 St</td>\n",
       "      <td>-73.990741</td>\n",
       "      <td>40.734546</td>\n",
       "    </tr>\n",
       "    <tr>\n",
       "      <th>24</th>\n",
       "      <td>5905</td>\n",
       "      <td>28.0</td>\n",
       "      <td>2025-05-04 23:00:00-04:00</td>\n",
       "      <td>Broadway &amp; E 14 St</td>\n",
       "      <td>-73.990741</td>\n",
       "      <td>40.734546</td>\n",
       "    </tr>\n",
       "    <tr>\n",
       "      <th>27</th>\n",
       "      <td>5905</td>\n",
       "      <td>24.0</td>\n",
       "      <td>2025-05-05 00:00:00-04:00</td>\n",
       "      <td>Broadway &amp; E 14 St</td>\n",
       "      <td>-73.990741</td>\n",
       "      <td>40.734546</td>\n",
       "    </tr>\n",
       "    <tr>\n",
       "      <th>31</th>\n",
       "      <td>5905</td>\n",
       "      <td>23.0</td>\n",
       "      <td>2025-05-05 01:00:00-04:00</td>\n",
       "      <td>Broadway &amp; E 14 St</td>\n",
       "      <td>-73.990741</td>\n",
       "      <td>40.734546</td>\n",
       "    </tr>\n",
       "    <tr>\n",
       "      <th>35</th>\n",
       "      <td>5905</td>\n",
       "      <td>22.0</td>\n",
       "      <td>2025-05-05 02:00:00-04:00</td>\n",
       "      <td>Broadway &amp; E 14 St</td>\n",
       "      <td>-73.990741</td>\n",
       "      <td>40.734546</td>\n",
       "    </tr>\n",
       "    <tr>\n",
       "      <th>36</th>\n",
       "      <td>5905</td>\n",
       "      <td>10.0</td>\n",
       "      <td>2025-05-05 03:00:00-04:00</td>\n",
       "      <td>Broadway &amp; E 14 St</td>\n",
       "      <td>-73.990741</td>\n",
       "      <td>40.734546</td>\n",
       "    </tr>\n",
       "    <tr>\n",
       "      <th>41</th>\n",
       "      <td>5905</td>\n",
       "      <td>24.0</td>\n",
       "      <td>2025-05-05 04:00:00-04:00</td>\n",
       "      <td>Broadway &amp; E 14 St</td>\n",
       "      <td>-73.990741</td>\n",
       "      <td>40.734546</td>\n",
       "    </tr>\n",
       "    <tr>\n",
       "      <th>43</th>\n",
       "      <td>5905</td>\n",
       "      <td>37.0</td>\n",
       "      <td>2025-05-05 05:00:00-04:00</td>\n",
       "      <td>Broadway &amp; E 14 St</td>\n",
       "      <td>-73.990741</td>\n",
       "      <td>40.734546</td>\n",
       "    </tr>\n",
       "    <tr>\n",
       "      <th>46</th>\n",
       "      <td>5905</td>\n",
       "      <td>32.0</td>\n",
       "      <td>2025-05-05 06:00:00-04:00</td>\n",
       "      <td>Broadway &amp; E 14 St</td>\n",
       "      <td>-73.990741</td>\n",
       "      <td>40.734546</td>\n",
       "    </tr>\n",
       "    <tr>\n",
       "      <th>49</th>\n",
       "      <td>5905</td>\n",
       "      <td>19.0</td>\n",
       "      <td>2025-05-05 07:00:00-04:00</td>\n",
       "      <td>Broadway &amp; E 14 St</td>\n",
       "      <td>-73.990741</td>\n",
       "      <td>40.734546</td>\n",
       "    </tr>\n",
       "    <tr>\n",
       "      <th>52</th>\n",
       "      <td>5905</td>\n",
       "      <td>12.0</td>\n",
       "      <td>2025-05-05 08:00:00-04:00</td>\n",
       "      <td>Broadway &amp; E 14 St</td>\n",
       "      <td>-73.990741</td>\n",
       "      <td>40.734546</td>\n",
       "    </tr>\n",
       "    <tr>\n",
       "      <th>54</th>\n",
       "      <td>5905</td>\n",
       "      <td>36.0</td>\n",
       "      <td>2025-05-05 09:00:00-04:00</td>\n",
       "      <td>Broadway &amp; E 14 St</td>\n",
       "      <td>-73.990741</td>\n",
       "      <td>40.734546</td>\n",
       "    </tr>\n",
       "    <tr>\n",
       "      <th>59</th>\n",
       "      <td>5905</td>\n",
       "      <td>42.0</td>\n",
       "      <td>2025-05-05 10:00:00-04:00</td>\n",
       "      <td>Broadway &amp; E 14 St</td>\n",
       "      <td>-73.990741</td>\n",
       "      <td>40.734546</td>\n",
       "    </tr>\n",
       "    <tr>\n",
       "      <th>62</th>\n",
       "      <td>5905</td>\n",
       "      <td>13.0</td>\n",
       "      <td>2025-05-05 11:00:00-04:00</td>\n",
       "      <td>Broadway &amp; E 14 St</td>\n",
       "      <td>-73.990741</td>\n",
       "      <td>40.734546</td>\n",
       "    </tr>\n",
       "    <tr>\n",
       "      <th>64</th>\n",
       "      <td>5905</td>\n",
       "      <td>6.0</td>\n",
       "      <td>2025-05-05 12:00:00-04:00</td>\n",
       "      <td>Broadway &amp; E 14 St</td>\n",
       "      <td>-73.990741</td>\n",
       "      <td>40.734546</td>\n",
       "    </tr>\n",
       "  </tbody>\n",
       "</table>\n",
       "</div>"
      ],
      "text/plain": [
       "    start_station_id  predicted_demand                start_hour  \\\n",
       "1               5905              21.0 2025-05-04 12:00:00-04:00   \n",
       "4               5905              23.0 2025-05-04 14:00:00-04:00   \n",
       "7               5905              18.0 2025-05-04 16:00:00-04:00   \n",
       "9               5905              12.0 2025-05-04 17:00:00-04:00   \n",
       "12              5905               3.0 2025-05-04 18:00:00-04:00   \n",
       "16              5905              18.0 2025-05-04 19:00:00-04:00   \n",
       "20              5905              20.0 2025-05-04 20:00:00-04:00   \n",
       "23              5905               5.0 2025-05-04 21:00:00-04:00   \n",
       "24              5905              28.0 2025-05-04 23:00:00-04:00   \n",
       "27              5905              24.0 2025-05-05 00:00:00-04:00   \n",
       "31              5905              23.0 2025-05-05 01:00:00-04:00   \n",
       "35              5905              22.0 2025-05-05 02:00:00-04:00   \n",
       "36              5905              10.0 2025-05-05 03:00:00-04:00   \n",
       "41              5905              24.0 2025-05-05 04:00:00-04:00   \n",
       "43              5905              37.0 2025-05-05 05:00:00-04:00   \n",
       "46              5905              32.0 2025-05-05 06:00:00-04:00   \n",
       "49              5905              19.0 2025-05-05 07:00:00-04:00   \n",
       "52              5905              12.0 2025-05-05 08:00:00-04:00   \n",
       "54              5905              36.0 2025-05-05 09:00:00-04:00   \n",
       "59              5905              42.0 2025-05-05 10:00:00-04:00   \n",
       "62              5905              13.0 2025-05-05 11:00:00-04:00   \n",
       "64              5905               6.0 2025-05-05 12:00:00-04:00   \n",
       "\n",
       "                  name  longitude   latitude  \n",
       "1   Broadway & E 14 St -73.990741  40.734546  \n",
       "4   Broadway & E 14 St -73.990741  40.734546  \n",
       "7   Broadway & E 14 St -73.990741  40.734546  \n",
       "9   Broadway & E 14 St -73.990741  40.734546  \n",
       "12  Broadway & E 14 St -73.990741  40.734546  \n",
       "16  Broadway & E 14 St -73.990741  40.734546  \n",
       "20  Broadway & E 14 St -73.990741  40.734546  \n",
       "23  Broadway & E 14 St -73.990741  40.734546  \n",
       "24  Broadway & E 14 St -73.990741  40.734546  \n",
       "27  Broadway & E 14 St -73.990741  40.734546  \n",
       "31  Broadway & E 14 St -73.990741  40.734546  \n",
       "35  Broadway & E 14 St -73.990741  40.734546  \n",
       "36  Broadway & E 14 St -73.990741  40.734546  \n",
       "41  Broadway & E 14 St -73.990741  40.734546  \n",
       "43  Broadway & E 14 St -73.990741  40.734546  \n",
       "46  Broadway & E 14 St -73.990741  40.734546  \n",
       "49  Broadway & E 14 St -73.990741  40.734546  \n",
       "52  Broadway & E 14 St -73.990741  40.734546  \n",
       "54  Broadway & E 14 St -73.990741  40.734546  \n",
       "59  Broadway & E 14 St -73.990741  40.734546  \n",
       "62  Broadway & E 14 St -73.990741  40.734546  \n",
       "64  Broadway & E 14 St -73.990741  40.734546  "
      ]
     },
     "execution_count": 71,
     "metadata": {},
     "output_type": "execute_result"
    }
   ],
   "source": [
    "rides_station_data\n",
    "preds_station_data"
   ]
  },
  {
   "cell_type": "code",
   "execution_count": 74,
   "id": "0e6ce351",
   "metadata": {},
   "outputs": [
    {
     "data": {
      "application/vnd.plotly.v1+json": {
       "config": {
        "plotlyServerURL": "https://plot.ly"
       },
       "data": [
        {
         "mode": "lines+markers",
         "name": "Actual Rides",
         "type": "scatter",
         "x": [
          "2025-04-07T04:00:00.000000",
          "2025-04-07T05:00:00.000000",
          "2025-04-07T06:00:00.000000",
          "2025-04-07T07:00:00.000000",
          "2025-04-07T08:00:00.000000",
          "2025-04-07T09:00:00.000000",
          "2025-04-07T10:00:00.000000",
          "2025-04-07T11:00:00.000000",
          "2025-04-07T12:00:00.000000",
          "2025-04-07T13:00:00.000000",
          "2025-04-07T14:00:00.000000",
          "2025-04-07T15:00:00.000000",
          "2025-04-07T16:00:00.000000",
          "2025-04-07T17:00:00.000000",
          "2025-04-07T18:00:00.000000",
          "2025-04-07T19:00:00.000000",
          "2025-04-07T20:00:00.000000",
          "2025-04-07T21:00:00.000000",
          "2025-04-07T22:00:00.000000",
          "2025-04-07T23:00:00.000000",
          "2025-04-08T00:00:00.000000",
          "2025-04-08T01:00:00.000000",
          "2025-04-08T02:00:00.000000",
          "2025-04-08T03:00:00.000000",
          "2025-04-08T04:00:00.000000",
          "2025-04-08T05:00:00.000000",
          "2025-04-08T06:00:00.000000",
          "2025-04-08T07:00:00.000000",
          "2025-04-08T08:00:00.000000",
          "2025-04-08T09:00:00.000000",
          "2025-04-08T10:00:00.000000",
          "2025-04-08T11:00:00.000000",
          "2025-04-08T12:00:00.000000",
          "2025-04-08T13:00:00.000000",
          "2025-04-08T14:00:00.000000",
          "2025-04-08T15:00:00.000000",
          "2025-04-08T16:00:00.000000",
          "2025-04-08T17:00:00.000000",
          "2025-04-08T18:00:00.000000",
          "2025-04-08T19:00:00.000000",
          "2025-04-08T20:00:00.000000",
          "2025-04-08T21:00:00.000000",
          "2025-04-08T22:00:00.000000",
          "2025-04-08T23:00:00.000000",
          "2025-04-09T00:00:00.000000",
          "2025-04-09T01:00:00.000000",
          "2025-04-09T02:00:00.000000",
          "2025-04-09T03:00:00.000000",
          "2025-04-09T04:00:00.000000",
          "2025-04-09T05:00:00.000000",
          "2025-04-09T06:00:00.000000",
          "2025-04-09T07:00:00.000000",
          "2025-04-09T08:00:00.000000",
          "2025-04-09T09:00:00.000000",
          "2025-04-09T10:00:00.000000",
          "2025-04-09T11:00:00.000000",
          "2025-04-09T12:00:00.000000",
          "2025-04-09T13:00:00.000000",
          "2025-04-09T14:00:00.000000",
          "2025-04-09T15:00:00.000000",
          "2025-04-09T16:00:00.000000",
          "2025-04-09T17:00:00.000000",
          "2025-04-09T18:00:00.000000",
          "2025-04-09T19:00:00.000000",
          "2025-04-09T20:00:00.000000",
          "2025-04-09T21:00:00.000000",
          "2025-04-09T22:00:00.000000",
          "2025-04-09T23:00:00.000000",
          "2025-04-10T00:00:00.000000",
          "2025-04-10T01:00:00.000000",
          "2025-04-10T02:00:00.000000",
          "2025-04-10T03:00:00.000000",
          "2025-04-10T04:00:00.000000",
          "2025-04-10T05:00:00.000000",
          "2025-04-10T06:00:00.000000",
          "2025-04-10T07:00:00.000000",
          "2025-04-10T08:00:00.000000",
          "2025-04-10T09:00:00.000000",
          "2025-04-10T10:00:00.000000",
          "2025-04-10T11:00:00.000000",
          "2025-04-10T12:00:00.000000",
          "2025-04-10T13:00:00.000000",
          "2025-04-10T14:00:00.000000",
          "2025-04-10T15:00:00.000000",
          "2025-04-10T16:00:00.000000",
          "2025-04-10T17:00:00.000000",
          "2025-04-10T18:00:00.000000",
          "2025-04-10T19:00:00.000000",
          "2025-04-10T20:00:00.000000",
          "2025-04-10T21:00:00.000000",
          "2025-04-10T22:00:00.000000",
          "2025-04-10T23:00:00.000000",
          "2025-04-11T00:00:00.000000",
          "2025-04-11T01:00:00.000000",
          "2025-04-11T02:00:00.000000",
          "2025-04-11T03:00:00.000000",
          "2025-04-11T04:00:00.000000",
          "2025-04-11T05:00:00.000000",
          "2025-04-11T06:00:00.000000",
          "2025-04-11T07:00:00.000000",
          "2025-04-11T08:00:00.000000",
          "2025-04-11T09:00:00.000000",
          "2025-04-11T10:00:00.000000",
          "2025-04-11T11:00:00.000000",
          "2025-04-11T12:00:00.000000",
          "2025-04-11T13:00:00.000000",
          "2025-04-11T14:00:00.000000",
          "2025-04-11T15:00:00.000000",
          "2025-04-11T16:00:00.000000",
          "2025-04-11T17:00:00.000000",
          "2025-04-11T18:00:00.000000",
          "2025-04-11T19:00:00.000000",
          "2025-04-11T20:00:00.000000",
          "2025-04-11T21:00:00.000000",
          "2025-04-11T22:00:00.000000",
          "2025-04-11T23:00:00.000000",
          "2025-04-12T00:00:00.000000",
          "2025-04-12T01:00:00.000000",
          "2025-04-12T02:00:00.000000",
          "2025-04-12T03:00:00.000000",
          "2025-04-12T04:00:00.000000",
          "2025-04-12T05:00:00.000000",
          "2025-04-12T06:00:00.000000",
          "2025-04-12T07:00:00.000000",
          "2025-04-12T08:00:00.000000",
          "2025-04-12T09:00:00.000000",
          "2025-04-12T10:00:00.000000",
          "2025-04-12T11:00:00.000000",
          "2025-04-12T12:00:00.000000",
          "2025-04-12T13:00:00.000000",
          "2025-04-12T14:00:00.000000",
          "2025-04-12T15:00:00.000000",
          "2025-04-12T16:00:00.000000",
          "2025-04-12T17:00:00.000000",
          "2025-04-12T18:00:00.000000",
          "2025-04-12T19:00:00.000000",
          "2025-04-12T20:00:00.000000",
          "2025-04-12T21:00:00.000000",
          "2025-04-12T22:00:00.000000",
          "2025-04-12T23:00:00.000000",
          "2025-04-13T00:00:00.000000",
          "2025-04-13T01:00:00.000000",
          "2025-04-13T02:00:00.000000",
          "2025-04-13T03:00:00.000000",
          "2025-04-13T04:00:00.000000",
          "2025-04-13T05:00:00.000000",
          "2025-04-13T06:00:00.000000",
          "2025-04-13T07:00:00.000000",
          "2025-04-13T08:00:00.000000",
          "2025-04-13T09:00:00.000000",
          "2025-04-13T10:00:00.000000",
          "2025-04-13T11:00:00.000000",
          "2025-04-13T12:00:00.000000",
          "2025-04-13T13:00:00.000000",
          "2025-04-13T14:00:00.000000",
          "2025-04-13T15:00:00.000000",
          "2025-04-13T16:00:00.000000",
          "2025-04-13T17:00:00.000000",
          "2025-04-13T18:00:00.000000",
          "2025-04-13T19:00:00.000000",
          "2025-04-13T20:00:00.000000",
          "2025-04-13T21:00:00.000000",
          "2025-04-13T22:00:00.000000",
          "2025-04-13T23:00:00.000000",
          "2025-04-14T00:00:00.000000",
          "2025-04-14T01:00:00.000000",
          "2025-04-14T02:00:00.000000",
          "2025-04-14T03:00:00.000000",
          "2025-04-14T04:00:00.000000",
          "2025-04-14T05:00:00.000000",
          "2025-04-14T06:00:00.000000",
          "2025-04-14T07:00:00.000000",
          "2025-04-14T08:00:00.000000",
          "2025-04-14T09:00:00.000000",
          "2025-04-14T10:00:00.000000",
          "2025-04-14T11:00:00.000000",
          "2025-04-14T12:00:00.000000",
          "2025-04-14T13:00:00.000000",
          "2025-04-14T14:00:00.000000",
          "2025-04-14T15:00:00.000000",
          "2025-04-14T16:00:00.000000",
          "2025-04-14T17:00:00.000000",
          "2025-04-14T18:00:00.000000",
          "2025-04-14T19:00:00.000000",
          "2025-04-14T20:00:00.000000",
          "2025-04-14T21:00:00.000000",
          "2025-04-14T22:00:00.000000",
          "2025-04-14T23:00:00.000000",
          "2025-04-15T00:00:00.000000",
          "2025-04-15T01:00:00.000000",
          "2025-04-15T02:00:00.000000",
          "2025-04-15T03:00:00.000000",
          "2025-04-15T04:00:00.000000",
          "2025-04-15T05:00:00.000000",
          "2025-04-15T06:00:00.000000",
          "2025-04-15T07:00:00.000000",
          "2025-04-15T08:00:00.000000",
          "2025-04-15T09:00:00.000000",
          "2025-04-15T10:00:00.000000",
          "2025-04-15T11:00:00.000000",
          "2025-04-15T12:00:00.000000",
          "2025-04-15T13:00:00.000000",
          "2025-04-15T14:00:00.000000",
          "2025-04-15T15:00:00.000000",
          "2025-04-15T16:00:00.000000",
          "2025-04-15T17:00:00.000000",
          "2025-04-15T18:00:00.000000",
          "2025-04-15T19:00:00.000000",
          "2025-04-15T20:00:00.000000",
          "2025-04-15T21:00:00.000000",
          "2025-04-15T22:00:00.000000",
          "2025-04-15T23:00:00.000000",
          "2025-04-16T00:00:00.000000",
          "2025-04-16T01:00:00.000000",
          "2025-04-16T02:00:00.000000",
          "2025-04-16T03:00:00.000000",
          "2025-04-16T04:00:00.000000",
          "2025-04-16T05:00:00.000000",
          "2025-04-16T06:00:00.000000",
          "2025-04-16T07:00:00.000000",
          "2025-04-16T08:00:00.000000",
          "2025-04-16T09:00:00.000000",
          "2025-04-16T10:00:00.000000",
          "2025-04-16T11:00:00.000000",
          "2025-04-16T12:00:00.000000",
          "2025-04-16T13:00:00.000000",
          "2025-04-16T14:00:00.000000",
          "2025-04-16T15:00:00.000000",
          "2025-04-16T16:00:00.000000",
          "2025-04-16T17:00:00.000000",
          "2025-04-16T18:00:00.000000",
          "2025-04-16T19:00:00.000000",
          "2025-04-16T20:00:00.000000",
          "2025-04-16T21:00:00.000000",
          "2025-04-16T22:00:00.000000",
          "2025-04-16T23:00:00.000000",
          "2025-04-17T00:00:00.000000",
          "2025-04-17T01:00:00.000000",
          "2025-04-17T02:00:00.000000",
          "2025-04-17T03:00:00.000000",
          "2025-04-17T04:00:00.000000",
          "2025-04-17T05:00:00.000000",
          "2025-04-17T06:00:00.000000",
          "2025-04-17T07:00:00.000000",
          "2025-04-17T08:00:00.000000",
          "2025-04-17T09:00:00.000000",
          "2025-04-17T10:00:00.000000",
          "2025-04-17T11:00:00.000000",
          "2025-04-17T12:00:00.000000",
          "2025-04-17T13:00:00.000000",
          "2025-04-17T14:00:00.000000",
          "2025-04-17T15:00:00.000000",
          "2025-04-17T16:00:00.000000",
          "2025-04-17T17:00:00.000000",
          "2025-04-17T18:00:00.000000",
          "2025-04-17T19:00:00.000000",
          "2025-04-17T20:00:00.000000",
          "2025-04-17T21:00:00.000000",
          "2025-04-17T22:00:00.000000",
          "2025-04-17T23:00:00.000000",
          "2025-04-18T00:00:00.000000",
          "2025-04-18T01:00:00.000000",
          "2025-04-18T02:00:00.000000",
          "2025-04-18T03:00:00.000000",
          "2025-04-18T04:00:00.000000",
          "2025-04-18T05:00:00.000000",
          "2025-04-18T06:00:00.000000",
          "2025-04-18T07:00:00.000000",
          "2025-04-18T08:00:00.000000",
          "2025-04-18T09:00:00.000000",
          "2025-04-18T10:00:00.000000",
          "2025-04-18T11:00:00.000000",
          "2025-04-18T12:00:00.000000",
          "2025-04-18T13:00:00.000000",
          "2025-04-18T14:00:00.000000",
          "2025-04-18T15:00:00.000000",
          "2025-04-18T16:00:00.000000",
          "2025-04-18T17:00:00.000000",
          "2025-04-18T18:00:00.000000",
          "2025-04-18T19:00:00.000000",
          "2025-04-18T20:00:00.000000",
          "2025-04-18T21:00:00.000000",
          "2025-04-18T22:00:00.000000",
          "2025-04-18T23:00:00.000000",
          "2025-04-19T00:00:00.000000",
          "2025-04-19T01:00:00.000000",
          "2025-04-19T02:00:00.000000",
          "2025-04-19T03:00:00.000000",
          "2025-04-19T04:00:00.000000",
          "2025-04-19T05:00:00.000000",
          "2025-04-19T06:00:00.000000",
          "2025-04-19T07:00:00.000000",
          "2025-04-19T08:00:00.000000",
          "2025-04-19T09:00:00.000000",
          "2025-04-19T10:00:00.000000",
          "2025-04-19T11:00:00.000000",
          "2025-04-19T12:00:00.000000",
          "2025-04-19T13:00:00.000000",
          "2025-04-19T14:00:00.000000",
          "2025-04-19T15:00:00.000000",
          "2025-04-19T16:00:00.000000",
          "2025-04-19T17:00:00.000000",
          "2025-04-19T18:00:00.000000",
          "2025-04-19T19:00:00.000000",
          "2025-04-19T20:00:00.000000",
          "2025-04-19T21:00:00.000000",
          "2025-04-19T22:00:00.000000",
          "2025-04-19T23:00:00.000000",
          "2025-04-20T00:00:00.000000",
          "2025-04-20T01:00:00.000000",
          "2025-04-20T02:00:00.000000",
          "2025-04-20T03:00:00.000000",
          "2025-04-20T04:00:00.000000",
          "2025-04-20T05:00:00.000000",
          "2025-04-20T06:00:00.000000",
          "2025-04-20T07:00:00.000000",
          "2025-04-20T08:00:00.000000",
          "2025-04-20T09:00:00.000000",
          "2025-04-20T10:00:00.000000",
          "2025-04-20T11:00:00.000000",
          "2025-04-20T12:00:00.000000",
          "2025-04-20T13:00:00.000000",
          "2025-04-20T14:00:00.000000",
          "2025-04-20T15:00:00.000000",
          "2025-04-20T16:00:00.000000",
          "2025-04-20T17:00:00.000000",
          "2025-04-20T18:00:00.000000",
          "2025-04-20T19:00:00.000000",
          "2025-04-20T20:00:00.000000",
          "2025-04-20T21:00:00.000000",
          "2025-04-20T22:00:00.000000",
          "2025-04-20T23:00:00.000000",
          "2025-04-21T00:00:00.000000",
          "2025-04-21T01:00:00.000000",
          "2025-04-21T02:00:00.000000",
          "2025-04-21T03:00:00.000000",
          "2025-04-21T04:00:00.000000",
          "2025-04-21T05:00:00.000000",
          "2025-04-21T06:00:00.000000",
          "2025-04-21T07:00:00.000000",
          "2025-04-21T08:00:00.000000",
          "2025-04-21T09:00:00.000000",
          "2025-04-21T10:00:00.000000",
          "2025-04-21T11:00:00.000000",
          "2025-04-21T12:00:00.000000",
          "2025-04-21T13:00:00.000000",
          "2025-04-21T14:00:00.000000",
          "2025-04-21T15:00:00.000000",
          "2025-04-21T16:00:00.000000",
          "2025-04-21T17:00:00.000000",
          "2025-04-21T18:00:00.000000",
          "2025-04-21T19:00:00.000000",
          "2025-04-21T20:00:00.000000",
          "2025-04-21T21:00:00.000000",
          "2025-04-21T22:00:00.000000",
          "2025-04-21T23:00:00.000000",
          "2025-04-22T00:00:00.000000",
          "2025-04-22T01:00:00.000000",
          "2025-04-22T02:00:00.000000",
          "2025-04-22T03:00:00.000000",
          "2025-04-22T04:00:00.000000",
          "2025-04-22T05:00:00.000000",
          "2025-04-22T06:00:00.000000",
          "2025-04-22T07:00:00.000000",
          "2025-04-22T08:00:00.000000",
          "2025-04-22T09:00:00.000000",
          "2025-04-22T10:00:00.000000",
          "2025-04-22T11:00:00.000000",
          "2025-04-22T12:00:00.000000",
          "2025-04-22T13:00:00.000000",
          "2025-04-22T14:00:00.000000",
          "2025-04-22T15:00:00.000000",
          "2025-04-22T16:00:00.000000",
          "2025-04-22T17:00:00.000000",
          "2025-04-22T18:00:00.000000",
          "2025-04-22T19:00:00.000000",
          "2025-04-22T20:00:00.000000",
          "2025-04-22T21:00:00.000000",
          "2025-04-22T22:00:00.000000",
          "2025-04-22T23:00:00.000000",
          "2025-04-23T00:00:00.000000",
          "2025-04-23T01:00:00.000000",
          "2025-04-23T02:00:00.000000",
          "2025-04-23T03:00:00.000000",
          "2025-04-23T04:00:00.000000",
          "2025-04-23T05:00:00.000000",
          "2025-04-23T06:00:00.000000",
          "2025-04-23T07:00:00.000000",
          "2025-04-23T08:00:00.000000",
          "2025-04-23T09:00:00.000000",
          "2025-04-23T10:00:00.000000",
          "2025-04-23T11:00:00.000000",
          "2025-04-23T12:00:00.000000",
          "2025-04-23T13:00:00.000000",
          "2025-04-23T14:00:00.000000",
          "2025-04-23T15:00:00.000000",
          "2025-04-23T16:00:00.000000",
          "2025-04-23T17:00:00.000000",
          "2025-04-23T18:00:00.000000",
          "2025-04-23T19:00:00.000000",
          "2025-04-23T20:00:00.000000",
          "2025-04-23T21:00:00.000000",
          "2025-04-23T22:00:00.000000",
          "2025-04-23T23:00:00.000000",
          "2025-04-24T00:00:00.000000",
          "2025-04-24T01:00:00.000000",
          "2025-04-24T02:00:00.000000",
          "2025-04-24T03:00:00.000000",
          "2025-04-24T04:00:00.000000",
          "2025-04-24T05:00:00.000000",
          "2025-04-24T06:00:00.000000",
          "2025-04-24T07:00:00.000000",
          "2025-04-24T08:00:00.000000",
          "2025-04-24T09:00:00.000000",
          "2025-04-24T10:00:00.000000",
          "2025-04-24T11:00:00.000000",
          "2025-04-24T12:00:00.000000",
          "2025-04-24T13:00:00.000000",
          "2025-04-24T14:00:00.000000",
          "2025-04-24T15:00:00.000000",
          "2025-04-24T16:00:00.000000",
          "2025-04-24T17:00:00.000000",
          "2025-04-24T18:00:00.000000",
          "2025-04-24T19:00:00.000000",
          "2025-04-24T20:00:00.000000",
          "2025-04-24T21:00:00.000000",
          "2025-04-24T22:00:00.000000",
          "2025-04-24T23:00:00.000000",
          "2025-04-25T00:00:00.000000",
          "2025-04-25T01:00:00.000000",
          "2025-04-25T02:00:00.000000",
          "2025-04-25T03:00:00.000000",
          "2025-04-25T04:00:00.000000",
          "2025-04-25T05:00:00.000000",
          "2025-04-25T06:00:00.000000",
          "2025-04-25T07:00:00.000000",
          "2025-04-25T08:00:00.000000",
          "2025-04-25T09:00:00.000000",
          "2025-04-25T10:00:00.000000",
          "2025-04-25T11:00:00.000000",
          "2025-04-25T12:00:00.000000",
          "2025-04-25T13:00:00.000000",
          "2025-04-25T14:00:00.000000",
          "2025-04-25T15:00:00.000000",
          "2025-04-25T16:00:00.000000",
          "2025-04-25T17:00:00.000000",
          "2025-04-25T18:00:00.000000",
          "2025-04-25T19:00:00.000000",
          "2025-04-25T20:00:00.000000",
          "2025-04-25T21:00:00.000000",
          "2025-04-25T22:00:00.000000",
          "2025-04-25T23:00:00.000000",
          "2025-04-26T00:00:00.000000",
          "2025-04-26T01:00:00.000000",
          "2025-04-26T02:00:00.000000",
          "2025-04-26T03:00:00.000000",
          "2025-04-26T04:00:00.000000",
          "2025-04-26T05:00:00.000000",
          "2025-04-26T06:00:00.000000",
          "2025-04-26T07:00:00.000000",
          "2025-04-26T08:00:00.000000",
          "2025-04-26T09:00:00.000000",
          "2025-04-26T10:00:00.000000",
          "2025-04-26T11:00:00.000000",
          "2025-04-26T12:00:00.000000",
          "2025-04-26T13:00:00.000000",
          "2025-04-26T14:00:00.000000",
          "2025-04-26T15:00:00.000000",
          "2025-04-26T16:00:00.000000",
          "2025-04-26T17:00:00.000000",
          "2025-04-26T18:00:00.000000",
          "2025-04-26T19:00:00.000000",
          "2025-04-26T20:00:00.000000",
          "2025-04-26T21:00:00.000000",
          "2025-04-26T22:00:00.000000",
          "2025-04-26T23:00:00.000000",
          "2025-04-27T00:00:00.000000",
          "2025-04-27T01:00:00.000000",
          "2025-04-27T02:00:00.000000",
          "2025-04-27T03:00:00.000000",
          "2025-04-27T04:00:00.000000",
          "2025-04-27T05:00:00.000000",
          "2025-04-27T06:00:00.000000",
          "2025-04-27T07:00:00.000000",
          "2025-04-27T08:00:00.000000",
          "2025-04-27T09:00:00.000000",
          "2025-04-27T10:00:00.000000",
          "2025-04-27T11:00:00.000000",
          "2025-04-27T12:00:00.000000",
          "2025-04-27T13:00:00.000000",
          "2025-04-27T14:00:00.000000",
          "2025-04-27T15:00:00.000000",
          "2025-04-27T16:00:00.000000",
          "2025-04-27T17:00:00.000000",
          "2025-04-27T18:00:00.000000",
          "2025-04-27T19:00:00.000000",
          "2025-04-27T20:00:00.000000",
          "2025-04-27T21:00:00.000000",
          "2025-04-27T22:00:00.000000",
          "2025-04-27T23:00:00.000000",
          "2025-04-28T00:00:00.000000",
          "2025-04-28T01:00:00.000000",
          "2025-04-28T02:00:00.000000",
          "2025-04-28T03:00:00.000000",
          "2025-04-28T04:00:00.000000",
          "2025-04-28T05:00:00.000000",
          "2025-04-28T06:00:00.000000",
          "2025-04-28T07:00:00.000000",
          "2025-04-28T08:00:00.000000",
          "2025-04-28T09:00:00.000000",
          "2025-04-28T10:00:00.000000",
          "2025-04-28T11:00:00.000000",
          "2025-04-28T12:00:00.000000",
          "2025-04-28T13:00:00.000000",
          "2025-04-28T14:00:00.000000",
          "2025-04-28T15:00:00.000000",
          "2025-04-28T16:00:00.000000",
          "2025-04-28T17:00:00.000000",
          "2025-04-28T18:00:00.000000",
          "2025-04-28T19:00:00.000000",
          "2025-04-28T20:00:00.000000",
          "2025-04-28T21:00:00.000000",
          "2025-04-28T22:00:00.000000",
          "2025-04-28T23:00:00.000000",
          "2025-04-29T00:00:00.000000",
          "2025-04-29T01:00:00.000000",
          "2025-04-29T02:00:00.000000",
          "2025-04-29T03:00:00.000000",
          "2025-04-29T04:00:00.000000",
          "2025-04-29T05:00:00.000000",
          "2025-04-29T06:00:00.000000",
          "2025-04-29T07:00:00.000000",
          "2025-04-29T08:00:00.000000",
          "2025-04-29T09:00:00.000000",
          "2025-04-29T10:00:00.000000",
          "2025-04-29T11:00:00.000000",
          "2025-04-29T12:00:00.000000",
          "2025-04-29T13:00:00.000000",
          "2025-04-29T14:00:00.000000",
          "2025-04-29T15:00:00.000000",
          "2025-04-29T16:00:00.000000",
          "2025-04-29T17:00:00.000000",
          "2025-04-29T18:00:00.000000",
          "2025-04-29T19:00:00.000000",
          "2025-04-29T20:00:00.000000",
          "2025-04-29T21:00:00.000000",
          "2025-04-29T22:00:00.000000",
          "2025-04-29T23:00:00.000000",
          "2025-04-30T00:00:00.000000",
          "2025-04-30T01:00:00.000000",
          "2025-04-30T02:00:00.000000",
          "2025-04-30T03:00:00.000000",
          "2025-04-30T04:00:00.000000",
          "2025-04-30T05:00:00.000000",
          "2025-04-30T06:00:00.000000",
          "2025-04-30T07:00:00.000000",
          "2025-04-30T08:00:00.000000",
          "2025-04-30T09:00:00.000000",
          "2025-04-30T10:00:00.000000",
          "2025-04-30T11:00:00.000000",
          "2025-04-30T12:00:00.000000",
          "2025-04-30T13:00:00.000000",
          "2025-04-30T14:00:00.000000",
          "2025-04-30T15:00:00.000000",
          "2025-04-30T16:00:00.000000",
          "2025-04-30T17:00:00.000000",
          "2025-04-30T18:00:00.000000",
          "2025-04-30T19:00:00.000000",
          "2025-04-30T20:00:00.000000",
          "2025-04-30T21:00:00.000000",
          "2025-04-30T22:00:00.000000",
          "2025-04-30T23:00:00.000000",
          "2025-05-01T00:00:00.000000",
          "2025-05-01T01:00:00.000000",
          "2025-05-01T02:00:00.000000",
          "2025-05-01T03:00:00.000000",
          "2025-05-01T04:00:00.000000",
          "2025-05-01T05:00:00.000000",
          "2025-05-01T06:00:00.000000",
          "2025-05-01T07:00:00.000000",
          "2025-05-01T08:00:00.000000",
          "2025-05-01T09:00:00.000000",
          "2025-05-01T10:00:00.000000",
          "2025-05-01T11:00:00.000000",
          "2025-05-01T12:00:00.000000",
          "2025-05-01T13:00:00.000000",
          "2025-05-01T14:00:00.000000",
          "2025-05-01T15:00:00.000000",
          "2025-05-01T16:00:00.000000",
          "2025-05-01T17:00:00.000000",
          "2025-05-01T18:00:00.000000",
          "2025-05-01T19:00:00.000000",
          "2025-05-01T20:00:00.000000",
          "2025-05-01T21:00:00.000000",
          "2025-05-01T22:00:00.000000",
          "2025-05-01T23:00:00.000000",
          "2025-05-02T00:00:00.000000",
          "2025-05-02T01:00:00.000000",
          "2025-05-02T02:00:00.000000",
          "2025-05-02T03:00:00.000000",
          "2025-05-02T04:00:00.000000",
          "2025-05-02T05:00:00.000000",
          "2025-05-02T06:00:00.000000",
          "2025-05-02T07:00:00.000000",
          "2025-05-02T08:00:00.000000",
          "2025-05-02T09:00:00.000000",
          "2025-05-02T10:00:00.000000",
          "2025-05-02T11:00:00.000000",
          "2025-05-02T12:00:00.000000",
          "2025-05-02T13:00:00.000000",
          "2025-05-02T14:00:00.000000",
          "2025-05-02T15:00:00.000000",
          "2025-05-02T16:00:00.000000",
          "2025-05-02T17:00:00.000000",
          "2025-05-02T18:00:00.000000",
          "2025-05-02T19:00:00.000000",
          "2025-05-02T20:00:00.000000",
          "2025-05-02T21:00:00.000000",
          "2025-05-02T22:00:00.000000",
          "2025-05-02T23:00:00.000000",
          "2025-05-03T00:00:00.000000",
          "2025-05-03T01:00:00.000000",
          "2025-05-03T02:00:00.000000",
          "2025-05-03T03:00:00.000000",
          "2025-05-03T04:00:00.000000",
          "2025-05-03T05:00:00.000000",
          "2025-05-03T06:00:00.000000",
          "2025-05-03T07:00:00.000000",
          "2025-05-03T08:00:00.000000",
          "2025-05-03T09:00:00.000000",
          "2025-05-03T10:00:00.000000",
          "2025-05-03T11:00:00.000000",
          "2025-05-03T12:00:00.000000",
          "2025-05-03T13:00:00.000000",
          "2025-05-03T14:00:00.000000",
          "2025-05-03T15:00:00.000000",
          "2025-05-03T16:00:00.000000",
          "2025-05-03T17:00:00.000000",
          "2025-05-03T18:00:00.000000",
          "2025-05-03T19:00:00.000000",
          "2025-05-03T20:00:00.000000",
          "2025-05-03T21:00:00.000000",
          "2025-05-03T22:00:00.000000",
          "2025-05-03T23:00:00.000000",
          "2025-05-04T00:00:00.000000",
          "2025-05-04T01:00:00.000000",
          "2025-05-04T02:00:00.000000",
          "2025-05-04T03:00:00.000000",
          "2025-05-04T04:00:00.000000",
          "2025-05-04T05:00:00.000000",
          "2025-05-04T06:00:00.000000",
          "2025-05-04T07:00:00.000000",
          "2025-05-04T08:00:00.000000",
          "2025-05-04T09:00:00.000000",
          "2025-05-04T10:00:00.000000",
          "2025-05-04T11:00:00.000000",
          "2025-05-04T12:00:00.000000",
          "2025-05-04T13:00:00.000000",
          "2025-05-04T14:00:00.000000",
          "2025-05-04T15:00:00.000000",
          "2025-05-04T16:00:00.000000",
          "2025-05-04T17:00:00.000000",
          "2025-05-04T18:00:00.000000",
          "2025-05-04T19:00:00.000000",
          "2025-05-04T20:00:00.000000",
          "2025-05-04T21:00:00.000000",
          "2025-05-04T22:00:00.000000",
          "2025-05-04T23:00:00.000000",
          "2025-05-05T00:00:00.000000",
          "2025-05-05T01:00:00.000000",
          "2025-05-05T02:00:00.000000",
          "2025-05-05T03:00:00.000000",
          "2025-05-05T04:00:00.000000",
          "2025-05-05T05:00:00.000000",
          "2025-05-05T06:00:00.000000",
          "2025-05-05T07:00:00.000000",
          "2025-05-05T08:00:00.000000",
          "2025-05-05T09:00:00.000000",
          "2025-05-05T10:00:00.000000",
          "2025-05-05T11:00:00.000000",
          "2025-05-05T12:00:00.000000",
          "2025-05-05T13:00:00.000000",
          "2025-05-05T14:00:00.000000",
          "2025-05-05T15:00:00.000000"
         ],
         "y": {
          "bdata": "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",
          "dtype": "i4"
         }
        },
        {
         "line": {
          "color": "orange",
          "dash": "dash"
         },
         "mode": "lines+markers",
         "name": "Predicted Demand",
         "type": "scatter",
         "x": [
          "2025-05-04T12:00:00.000000",
          "2025-05-04T14:00:00.000000",
          "2025-05-04T16:00:00.000000",
          "2025-05-04T17:00:00.000000",
          "2025-05-04T18:00:00.000000",
          "2025-05-04T19:00:00.000000",
          "2025-05-04T20:00:00.000000",
          "2025-05-04T21:00:00.000000",
          "2025-05-04T23:00:00.000000",
          "2025-05-05T00:00:00.000000",
          "2025-05-05T01:00:00.000000",
          "2025-05-05T02:00:00.000000",
          "2025-05-05T03:00:00.000000",
          "2025-05-05T04:00:00.000000",
          "2025-05-05T05:00:00.000000",
          "2025-05-05T06:00:00.000000",
          "2025-05-05T07:00:00.000000",
          "2025-05-05T08:00:00.000000",
          "2025-05-05T09:00:00.000000",
          "2025-05-05T10:00:00.000000",
          "2025-05-05T11:00:00.000000",
          "2025-05-05T12:00:00.000000"
         ],
         "y": {
          "bdata": "AAAAAAAANUAAAAAAAAA3QAAAAAAAADJAAAAAAAAAKEAAAAAAAAAIQAAAAAAAADJAAAAAAAAANEAAAAAAAAAUQAAAAAAAADxAAAAAAAAAOEAAAAAAAAA3QAAAAAAAADZAAAAAAAAAJEAAAAAAAAA4QAAAAAAAgEJAAAAAAAAAQEAAAAAAAAAzQAAAAAAAAChAAAAAAAAAQkAAAAAAAABFQAAAAAAAACpAAAAAAAAAGEA=",
          "dtype": "f8"
         }
        }
       ],
       "layout": {
        "template": {
         "data": {
          "bar": [
           {
            "error_x": {
             "color": "#2a3f5f"
            },
            "error_y": {
             "color": "#2a3f5f"
            },
            "marker": {
             "line": {
              "color": "white",
              "width": 0.5
             },
             "pattern": {
              "fillmode": "overlay",
              "size": 10,
              "solidity": 0.2
             }
            },
            "type": "bar"
           }
          ],
          "barpolar": [
           {
            "marker": {
             "line": {
              "color": "white",
              "width": 0.5
             },
             "pattern": {
              "fillmode": "overlay",
              "size": 10,
              "solidity": 0.2
             }
            },
            "type": "barpolar"
           }
          ],
          "carpet": [
           {
            "aaxis": {
             "endlinecolor": "#2a3f5f",
             "gridcolor": "#C8D4E3",
             "linecolor": "#C8D4E3",
             "minorgridcolor": "#C8D4E3",
             "startlinecolor": "#2a3f5f"
            },
            "baxis": {
             "endlinecolor": "#2a3f5f",
             "gridcolor": "#C8D4E3",
             "linecolor": "#C8D4E3",
             "minorgridcolor": "#C8D4E3",
             "startlinecolor": "#2a3f5f"
            },
            "type": "carpet"
           }
          ],
          "choropleth": [
           {
            "colorbar": {
             "outlinewidth": 0,
             "ticks": ""
            },
            "type": "choropleth"
           }
          ],
          "contour": [
           {
            "colorbar": {
             "outlinewidth": 0,
             "ticks": ""
            },
            "colorscale": [
             [
              0,
              "#0d0887"
             ],
             [
              0.1111111111111111,
              "#46039f"
             ],
             [
              0.2222222222222222,
              "#7201a8"
             ],
             [
              0.3333333333333333,
              "#9c179e"
             ],
             [
              0.4444444444444444,
              "#bd3786"
             ],
             [
              0.5555555555555556,
              "#d8576b"
             ],
             [
              0.6666666666666666,
              "#ed7953"
             ],
             [
              0.7777777777777778,
              "#fb9f3a"
             ],
             [
              0.8888888888888888,
              "#fdca26"
             ],
             [
              1,
              "#f0f921"
             ]
            ],
            "type": "contour"
           }
          ],
          "contourcarpet": [
           {
            "colorbar": {
             "outlinewidth": 0,
             "ticks": ""
            },
            "type": "contourcarpet"
           }
          ],
          "heatmap": [
           {
            "colorbar": {
             "outlinewidth": 0,
             "ticks": ""
            },
            "colorscale": [
             [
              0,
              "#0d0887"
             ],
             [
              0.1111111111111111,
              "#46039f"
             ],
             [
              0.2222222222222222,
              "#7201a8"
             ],
             [
              0.3333333333333333,
              "#9c179e"
             ],
             [
              0.4444444444444444,
              "#bd3786"
             ],
             [
              0.5555555555555556,
              "#d8576b"
             ],
             [
              0.6666666666666666,
              "#ed7953"
             ],
             [
              0.7777777777777778,
              "#fb9f3a"
             ],
             [
              0.8888888888888888,
              "#fdca26"
             ],
             [
              1,
              "#f0f921"
             ]
            ],
            "type": "heatmap"
           }
          ],
          "histogram": [
           {
            "marker": {
             "pattern": {
              "fillmode": "overlay",
              "size": 10,
              "solidity": 0.2
             }
            },
            "type": "histogram"
           }
          ],
          "histogram2d": [
           {
            "colorbar": {
             "outlinewidth": 0,
             "ticks": ""
            },
            "colorscale": [
             [
              0,
              "#0d0887"
             ],
             [
              0.1111111111111111,
              "#46039f"
             ],
             [
              0.2222222222222222,
              "#7201a8"
             ],
             [
              0.3333333333333333,
              "#9c179e"
             ],
             [
              0.4444444444444444,
              "#bd3786"
             ],
             [
              0.5555555555555556,
              "#d8576b"
             ],
             [
              0.6666666666666666,
              "#ed7953"
             ],
             [
              0.7777777777777778,
              "#fb9f3a"
             ],
             [
              0.8888888888888888,
              "#fdca26"
             ],
             [
              1,
              "#f0f921"
             ]
            ],
            "type": "histogram2d"
           }
          ],
          "histogram2dcontour": [
           {
            "colorbar": {
             "outlinewidth": 0,
             "ticks": ""
            },
            "colorscale": [
             [
              0,
              "#0d0887"
             ],
             [
              0.1111111111111111,
              "#46039f"
             ],
             [
              0.2222222222222222,
              "#7201a8"
             ],
             [
              0.3333333333333333,
              "#9c179e"
             ],
             [
              0.4444444444444444,
              "#bd3786"
             ],
             [
              0.5555555555555556,
              "#d8576b"
             ],
             [
              0.6666666666666666,
              "#ed7953"
             ],
             [
              0.7777777777777778,
              "#fb9f3a"
             ],
             [
              0.8888888888888888,
              "#fdca26"
             ],
             [
              1,
              "#f0f921"
             ]
            ],
            "type": "histogram2dcontour"
           }
          ],
          "mesh3d": [
           {
            "colorbar": {
             "outlinewidth": 0,
             "ticks": ""
            },
            "type": "mesh3d"
           }
          ],
          "parcoords": [
           {
            "line": {
             "colorbar": {
              "outlinewidth": 0,
              "ticks": ""
             }
            },
            "type": "parcoords"
           }
          ],
          "pie": [
           {
            "automargin": true,
            "type": "pie"
           }
          ],
          "scatter": [
           {
            "fillpattern": {
             "fillmode": "overlay",
             "size": 10,
             "solidity": 0.2
            },
            "type": "scatter"
           }
          ],
          "scatter3d": [
           {
            "line": {
             "colorbar": {
              "outlinewidth": 0,
              "ticks": ""
             }
            },
            "marker": {
             "colorbar": {
              "outlinewidth": 0,
              "ticks": ""
             }
            },
            "type": "scatter3d"
           }
          ],
          "scattercarpet": [
           {
            "marker": {
             "colorbar": {
              "outlinewidth": 0,
              "ticks": ""
             }
            },
            "type": "scattercarpet"
           }
          ],
          "scattergeo": [
           {
            "marker": {
             "colorbar": {
              "outlinewidth": 0,
              "ticks": ""
             }
            },
            "type": "scattergeo"
           }
          ],
          "scattergl": [
           {
            "marker": {
             "colorbar": {
              "outlinewidth": 0,
              "ticks": ""
             }
            },
            "type": "scattergl"
           }
          ],
          "scattermap": [
           {
            "marker": {
             "colorbar": {
              "outlinewidth": 0,
              "ticks": ""
             }
            },
            "type": "scattermap"
           }
          ],
          "scattermapbox": [
           {
            "marker": {
             "colorbar": {
              "outlinewidth": 0,
              "ticks": ""
             }
            },
            "type": "scattermapbox"
           }
          ],
          "scatterpolar": [
           {
            "marker": {
             "colorbar": {
              "outlinewidth": 0,
              "ticks": ""
             }
            },
            "type": "scatterpolar"
           }
          ],
          "scatterpolargl": [
           {
            "marker": {
             "colorbar": {
              "outlinewidth": 0,
              "ticks": ""
             }
            },
            "type": "scatterpolargl"
           }
          ],
          "scatterternary": [
           {
            "marker": {
             "colorbar": {
              "outlinewidth": 0,
              "ticks": ""
             }
            },
            "type": "scatterternary"
           }
          ],
          "surface": [
           {
            "colorbar": {
             "outlinewidth": 0,
             "ticks": ""
            },
            "colorscale": [
             [
              0,
              "#0d0887"
             ],
             [
              0.1111111111111111,
              "#46039f"
             ],
             [
              0.2222222222222222,
              "#7201a8"
             ],
             [
              0.3333333333333333,
              "#9c179e"
             ],
             [
              0.4444444444444444,
              "#bd3786"
             ],
             [
              0.5555555555555556,
              "#d8576b"
             ],
             [
              0.6666666666666666,
              "#ed7953"
             ],
             [
              0.7777777777777778,
              "#fb9f3a"
             ],
             [
              0.8888888888888888,
              "#fdca26"
             ],
             [
              1,
              "#f0f921"
             ]
            ],
            "type": "surface"
           }
          ],
          "table": [
           {
            "cells": {
             "fill": {
              "color": "#EBF0F8"
             },
             "line": {
              "color": "white"
             }
            },
            "header": {
             "fill": {
              "color": "#C8D4E3"
             },
             "line": {
              "color": "white"
             }
            },
            "type": "table"
           }
          ]
         },
         "layout": {
          "annotationdefaults": {
           "arrowcolor": "#2a3f5f",
           "arrowhead": 0,
           "arrowwidth": 1
          },
          "autotypenumbers": "strict",
          "coloraxis": {
           "colorbar": {
            "outlinewidth": 0,
            "ticks": ""
           }
          },
          "colorscale": {
           "diverging": [
            [
             0,
             "#8e0152"
            ],
            [
             0.1,
             "#c51b7d"
            ],
            [
             0.2,
             "#de77ae"
            ],
            [
             0.3,
             "#f1b6da"
            ],
            [
             0.4,
             "#fde0ef"
            ],
            [
             0.5,
             "#f7f7f7"
            ],
            [
             0.6,
             "#e6f5d0"
            ],
            [
             0.7,
             "#b8e186"
            ],
            [
             0.8,
             "#7fbc41"
            ],
            [
             0.9,
             "#4d9221"
            ],
            [
             1,
             "#276419"
            ]
           ],
           "sequential": [
            [
             0,
             "#0d0887"
            ],
            [
             0.1111111111111111,
             "#46039f"
            ],
            [
             0.2222222222222222,
             "#7201a8"
            ],
            [
             0.3333333333333333,
             "#9c179e"
            ],
            [
             0.4444444444444444,
             "#bd3786"
            ],
            [
             0.5555555555555556,
             "#d8576b"
            ],
            [
             0.6666666666666666,
             "#ed7953"
            ],
            [
             0.7777777777777778,
             "#fb9f3a"
            ],
            [
             0.8888888888888888,
             "#fdca26"
            ],
            [
             1,
             "#f0f921"
            ]
           ],
           "sequentialminus": [
            [
             0,
             "#0d0887"
            ],
            [
             0.1111111111111111,
             "#46039f"
            ],
            [
             0.2222222222222222,
             "#7201a8"
            ],
            [
             0.3333333333333333,
             "#9c179e"
            ],
            [
             0.4444444444444444,
             "#bd3786"
            ],
            [
             0.5555555555555556,
             "#d8576b"
            ],
            [
             0.6666666666666666,
             "#ed7953"
            ],
            [
             0.7777777777777778,
             "#fb9f3a"
            ],
            [
             0.8888888888888888,
             "#fdca26"
            ],
            [
             1,
             "#f0f921"
            ]
           ]
          },
          "colorway": [
           "#636efa",
           "#EF553B",
           "#00cc96",
           "#ab63fa",
           "#FFA15A",
           "#19d3f3",
           "#FF6692",
           "#B6E880",
           "#FF97FF",
           "#FECB52"
          ],
          "font": {
           "color": "#2a3f5f"
          },
          "geo": {
           "bgcolor": "white",
           "lakecolor": "white",
           "landcolor": "white",
           "showlakes": true,
           "showland": true,
           "subunitcolor": "#C8D4E3"
          },
          "hoverlabel": {
           "align": "left"
          },
          "hovermode": "closest",
          "mapbox": {
           "style": "light"
          },
          "paper_bgcolor": "white",
          "plot_bgcolor": "white",
          "polar": {
           "angularaxis": {
            "gridcolor": "#EBF0F8",
            "linecolor": "#EBF0F8",
            "ticks": ""
           },
           "bgcolor": "white",
           "radialaxis": {
            "gridcolor": "#EBF0F8",
            "linecolor": "#EBF0F8",
            "ticks": ""
           }
          },
          "scene": {
           "xaxis": {
            "backgroundcolor": "white",
            "gridcolor": "#DFE8F3",
            "gridwidth": 2,
            "linecolor": "#EBF0F8",
            "showbackground": true,
            "ticks": "",
            "zerolinecolor": "#EBF0F8"
           },
           "yaxis": {
            "backgroundcolor": "white",
            "gridcolor": "#DFE8F3",
            "gridwidth": 2,
            "linecolor": "#EBF0F8",
            "showbackground": true,
            "ticks": "",
            "zerolinecolor": "#EBF0F8"
           },
           "zaxis": {
            "backgroundcolor": "white",
            "gridcolor": "#DFE8F3",
            "gridwidth": 2,
            "linecolor": "#EBF0F8",
            "showbackground": true,
            "ticks": "",
            "zerolinecolor": "#EBF0F8"
           }
          },
          "shapedefaults": {
           "line": {
            "color": "#2a3f5f"
           }
          },
          "ternary": {
           "aaxis": {
            "gridcolor": "#DFE8F3",
            "linecolor": "#A2B1C6",
            "ticks": ""
           },
           "baxis": {
            "gridcolor": "#DFE8F3",
            "linecolor": "#A2B1C6",
            "ticks": ""
           },
           "bgcolor": "white",
           "caxis": {
            "gridcolor": "#DFE8F3",
            "linecolor": "#A2B1C6",
            "ticks": ""
           }
          },
          "title": {
           "x": 0.05
          },
          "xaxis": {
           "automargin": true,
           "gridcolor": "#EBF0F8",
           "linecolor": "#EBF0F8",
           "ticks": "",
           "title": {
            "standoff": 15
           },
           "zerolinecolor": "#EBF0F8",
           "zerolinewidth": 2
          },
          "yaxis": {
           "automargin": true,
           "gridcolor": "#EBF0F8",
           "linecolor": "#EBF0F8",
           "ticks": "",
           "title": {
            "standoff": 15
           },
           "zerolinecolor": "#EBF0F8",
           "zerolinewidth": 2
          }
         }
        },
        "title": {
         "text": "Ride Counts and Predicted Demand for Station @ Broadway & E 14 St"
        },
        "xaxis": {
         "title": {
          "text": "Time"
         }
        },
        "yaxis": {
         "title": {
          "text": "Rides"
         }
        }
       }
      }
     },
     "metadata": {},
     "output_type": "display_data"
    }
   ],
   "source": [
    "import plotly.graph_objects as go\n",
    "\n",
    "fig = go.Figure()\n",
    "# Base plot\n",
    "fig.add_trace(go.Scatter(\n",
    "    x=rides_station_data[\"start_hour\"],\n",
    "    y=rides_station_data[\"rides\"],\n",
    "    mode=\"lines+markers\",\n",
    "    name=\"Actual Rides\"\n",
    "))\n",
    "\n",
    "fig.add_trace(go.Scatter(\n",
    "    x=preds_station_data[\"start_hour\"],\n",
    "    y=preds_station_data[\"predicted_demand\"],\n",
    "    mode=\"lines+markers\",\n",
    "    name=\"Predicted Demand\",\n",
    "    line=dict(dash='dash', color=\"orange\")\n",
    "))\n",
    "\n",
    "fig.update_layout(\n",
    "    title=f\"Ride Counts and Predicted Demand for Station @ {selected_station}\",\n",
    "    xaxis_title=\"Time\",\n",
    "    yaxis_title=\"Rides\",\n",
    "    template=\"plotly_white\"\n",
    ")\n",
    "\n",
    "fig.show()"
   ]
  },
  {
   "cell_type": "code",
   "execution_count": 59,
   "id": "daa82c06",
   "metadata": {},
   "outputs": [
    {
     "data": {
      "application/vnd.plotly.v1+json": {
       "config": {
        "plotlyServerURL": "https://plot.ly"
       },
       "data": [
        {
         "mode": "lines+markers",
         "name": "Actual Rides",
         "type": "scatter",
         "x": [
          "2025-04-07T04:00:00.000000",
          "2025-04-07T05:00:00.000000",
          "2025-04-07T06:00:00.000000",
          "2025-04-07T07:00:00.000000",
          "2025-04-07T08:00:00.000000",
          "2025-04-07T09:00:00.000000",
          "2025-04-07T10:00:00.000000",
          "2025-04-07T11:00:00.000000",
          "2025-04-07T12:00:00.000000",
          "2025-04-07T13:00:00.000000",
          "2025-04-07T14:00:00.000000",
          "2025-04-07T15:00:00.000000",
          "2025-04-07T16:00:00.000000",
          "2025-04-07T17:00:00.000000",
          "2025-04-07T18:00:00.000000",
          "2025-04-07T19:00:00.000000",
          "2025-04-07T20:00:00.000000",
          "2025-04-07T21:00:00.000000",
          "2025-04-07T22:00:00.000000",
          "2025-04-07T23:00:00.000000",
          "2025-04-08T00:00:00.000000",
          "2025-04-08T01:00:00.000000",
          "2025-04-08T02:00:00.000000",
          "2025-04-08T03:00:00.000000",
          "2025-04-08T04:00:00.000000",
          "2025-04-08T05:00:00.000000",
          "2025-04-08T06:00:00.000000",
          "2025-04-08T07:00:00.000000",
          "2025-04-08T08:00:00.000000",
          "2025-04-08T09:00:00.000000",
          "2025-04-08T10:00:00.000000",
          "2025-04-08T11:00:00.000000",
          "2025-04-08T12:00:00.000000",
          "2025-04-08T13:00:00.000000",
          "2025-04-08T14:00:00.000000",
          "2025-04-08T15:00:00.000000",
          "2025-04-08T16:00:00.000000",
          "2025-04-08T17:00:00.000000",
          "2025-04-08T18:00:00.000000",
          "2025-04-08T19:00:00.000000",
          "2025-04-08T20:00:00.000000",
          "2025-04-08T21:00:00.000000",
          "2025-04-08T22:00:00.000000",
          "2025-04-08T23:00:00.000000",
          "2025-04-09T00:00:00.000000",
          "2025-04-09T01:00:00.000000",
          "2025-04-09T02:00:00.000000",
          "2025-04-09T03:00:00.000000",
          "2025-04-09T04:00:00.000000",
          "2025-04-09T05:00:00.000000",
          "2025-04-09T06:00:00.000000",
          "2025-04-09T07:00:00.000000",
          "2025-04-09T08:00:00.000000",
          "2025-04-09T09:00:00.000000",
          "2025-04-09T10:00:00.000000",
          "2025-04-09T11:00:00.000000",
          "2025-04-09T12:00:00.000000",
          "2025-04-09T13:00:00.000000",
          "2025-04-09T14:00:00.000000",
          "2025-04-09T15:00:00.000000",
          "2025-04-09T16:00:00.000000",
          "2025-04-09T17:00:00.000000",
          "2025-04-09T18:00:00.000000",
          "2025-04-09T19:00:00.000000",
          "2025-04-09T20:00:00.000000",
          "2025-04-09T21:00:00.000000",
          "2025-04-09T22:00:00.000000",
          "2025-04-09T23:00:00.000000",
          "2025-04-10T00:00:00.000000",
          "2025-04-10T01:00:00.000000",
          "2025-04-10T02:00:00.000000",
          "2025-04-10T03:00:00.000000",
          "2025-04-10T04:00:00.000000",
          "2025-04-10T05:00:00.000000",
          "2025-04-10T06:00:00.000000",
          "2025-04-10T07:00:00.000000",
          "2025-04-10T08:00:00.000000",
          "2025-04-10T09:00:00.000000",
          "2025-04-10T10:00:00.000000",
          "2025-04-10T11:00:00.000000",
          "2025-04-10T12:00:00.000000",
          "2025-04-10T13:00:00.000000",
          "2025-04-10T14:00:00.000000",
          "2025-04-10T15:00:00.000000",
          "2025-04-10T16:00:00.000000",
          "2025-04-10T17:00:00.000000",
          "2025-04-10T18:00:00.000000",
          "2025-04-10T19:00:00.000000",
          "2025-04-10T20:00:00.000000",
          "2025-04-10T21:00:00.000000",
          "2025-04-10T22:00:00.000000",
          "2025-04-10T23:00:00.000000",
          "2025-04-11T00:00:00.000000",
          "2025-04-11T01:00:00.000000",
          "2025-04-11T02:00:00.000000",
          "2025-04-11T03:00:00.000000",
          "2025-04-11T04:00:00.000000",
          "2025-04-11T05:00:00.000000",
          "2025-04-11T06:00:00.000000",
          "2025-04-11T07:00:00.000000",
          "2025-04-11T08:00:00.000000",
          "2025-04-11T09:00:00.000000",
          "2025-04-11T10:00:00.000000",
          "2025-04-11T11:00:00.000000",
          "2025-04-11T12:00:00.000000",
          "2025-04-11T13:00:00.000000",
          "2025-04-11T14:00:00.000000",
          "2025-04-11T15:00:00.000000",
          "2025-04-11T16:00:00.000000",
          "2025-04-11T17:00:00.000000",
          "2025-04-11T18:00:00.000000",
          "2025-04-11T19:00:00.000000",
          "2025-04-11T20:00:00.000000",
          "2025-04-11T21:00:00.000000",
          "2025-04-11T22:00:00.000000",
          "2025-04-11T23:00:00.000000",
          "2025-04-12T00:00:00.000000",
          "2025-04-12T01:00:00.000000",
          "2025-04-12T02:00:00.000000",
          "2025-04-12T03:00:00.000000",
          "2025-04-12T04:00:00.000000",
          "2025-04-12T05:00:00.000000",
          "2025-04-12T06:00:00.000000",
          "2025-04-12T07:00:00.000000",
          "2025-04-12T08:00:00.000000",
          "2025-04-12T09:00:00.000000",
          "2025-04-12T10:00:00.000000",
          "2025-04-12T11:00:00.000000",
          "2025-04-12T12:00:00.000000",
          "2025-04-12T13:00:00.000000",
          "2025-04-12T14:00:00.000000",
          "2025-04-12T15:00:00.000000",
          "2025-04-12T16:00:00.000000",
          "2025-04-12T17:00:00.000000",
          "2025-04-12T18:00:00.000000",
          "2025-04-12T19:00:00.000000",
          "2025-04-12T20:00:00.000000",
          "2025-04-12T21:00:00.000000",
          "2025-04-12T22:00:00.000000",
          "2025-04-12T23:00:00.000000",
          "2025-04-13T00:00:00.000000",
          "2025-04-13T01:00:00.000000",
          "2025-04-13T02:00:00.000000",
          "2025-04-13T03:00:00.000000",
          "2025-04-13T04:00:00.000000",
          "2025-04-13T05:00:00.000000",
          "2025-04-13T06:00:00.000000",
          "2025-04-13T07:00:00.000000",
          "2025-04-13T08:00:00.000000",
          "2025-04-13T09:00:00.000000",
          "2025-04-13T10:00:00.000000",
          "2025-04-13T11:00:00.000000",
          "2025-04-13T12:00:00.000000",
          "2025-04-13T13:00:00.000000",
          "2025-04-13T14:00:00.000000",
          "2025-04-13T15:00:00.000000",
          "2025-04-13T16:00:00.000000",
          "2025-04-13T17:00:00.000000",
          "2025-04-13T18:00:00.000000",
          "2025-04-13T19:00:00.000000",
          "2025-04-13T20:00:00.000000",
          "2025-04-13T21:00:00.000000",
          "2025-04-13T22:00:00.000000",
          "2025-04-13T23:00:00.000000",
          "2025-04-14T00:00:00.000000",
          "2025-04-14T01:00:00.000000",
          "2025-04-14T02:00:00.000000",
          "2025-04-14T03:00:00.000000",
          "2025-04-14T04:00:00.000000",
          "2025-04-14T05:00:00.000000",
          "2025-04-14T06:00:00.000000",
          "2025-04-14T07:00:00.000000",
          "2025-04-14T08:00:00.000000",
          "2025-04-14T09:00:00.000000",
          "2025-04-14T10:00:00.000000",
          "2025-04-14T11:00:00.000000",
          "2025-04-14T12:00:00.000000",
          "2025-04-14T13:00:00.000000",
          "2025-04-14T14:00:00.000000",
          "2025-04-14T15:00:00.000000",
          "2025-04-14T16:00:00.000000",
          "2025-04-14T17:00:00.000000",
          "2025-04-14T18:00:00.000000",
          "2025-04-14T19:00:00.000000",
          "2025-04-14T20:00:00.000000",
          "2025-04-14T21:00:00.000000",
          "2025-04-14T22:00:00.000000",
          "2025-04-14T23:00:00.000000",
          "2025-04-15T00:00:00.000000",
          "2025-04-15T01:00:00.000000",
          "2025-04-15T02:00:00.000000",
          "2025-04-15T03:00:00.000000",
          "2025-04-15T04:00:00.000000",
          "2025-04-15T05:00:00.000000",
          "2025-04-15T06:00:00.000000",
          "2025-04-15T07:00:00.000000",
          "2025-04-15T08:00:00.000000",
          "2025-04-15T09:00:00.000000",
          "2025-04-15T10:00:00.000000",
          "2025-04-15T11:00:00.000000",
          "2025-04-15T12:00:00.000000",
          "2025-04-15T13:00:00.000000",
          "2025-04-15T14:00:00.000000",
          "2025-04-15T15:00:00.000000",
          "2025-04-15T16:00:00.000000",
          "2025-04-15T17:00:00.000000",
          "2025-04-15T18:00:00.000000",
          "2025-04-15T19:00:00.000000",
          "2025-04-15T20:00:00.000000",
          "2025-04-15T21:00:00.000000",
          "2025-04-15T22:00:00.000000",
          "2025-04-15T23:00:00.000000",
          "2025-04-16T00:00:00.000000",
          "2025-04-16T01:00:00.000000",
          "2025-04-16T02:00:00.000000",
          "2025-04-16T03:00:00.000000",
          "2025-04-16T04:00:00.000000",
          "2025-04-16T05:00:00.000000",
          "2025-04-16T06:00:00.000000",
          "2025-04-16T07:00:00.000000",
          "2025-04-16T08:00:00.000000",
          "2025-04-16T09:00:00.000000",
          "2025-04-16T10:00:00.000000",
          "2025-04-16T11:00:00.000000",
          "2025-04-16T12:00:00.000000",
          "2025-04-16T13:00:00.000000",
          "2025-04-16T14:00:00.000000",
          "2025-04-16T15:00:00.000000",
          "2025-04-16T16:00:00.000000",
          "2025-04-16T17:00:00.000000",
          "2025-04-16T18:00:00.000000",
          "2025-04-16T19:00:00.000000",
          "2025-04-16T20:00:00.000000",
          "2025-04-16T21:00:00.000000",
          "2025-04-16T22:00:00.000000",
          "2025-04-16T23:00:00.000000",
          "2025-04-17T00:00:00.000000",
          "2025-04-17T01:00:00.000000",
          "2025-04-17T02:00:00.000000",
          "2025-04-17T03:00:00.000000",
          "2025-04-17T04:00:00.000000",
          "2025-04-17T05:00:00.000000",
          "2025-04-17T06:00:00.000000",
          "2025-04-17T07:00:00.000000",
          "2025-04-17T08:00:00.000000",
          "2025-04-17T09:00:00.000000",
          "2025-04-17T10:00:00.000000",
          "2025-04-17T11:00:00.000000",
          "2025-04-17T12:00:00.000000",
          "2025-04-17T13:00:00.000000",
          "2025-04-17T14:00:00.000000",
          "2025-04-17T15:00:00.000000",
          "2025-04-17T16:00:00.000000",
          "2025-04-17T17:00:00.000000",
          "2025-04-17T18:00:00.000000",
          "2025-04-17T19:00:00.000000",
          "2025-04-17T20:00:00.000000",
          "2025-04-17T21:00:00.000000",
          "2025-04-17T22:00:00.000000",
          "2025-04-17T23:00:00.000000",
          "2025-04-18T00:00:00.000000",
          "2025-04-18T01:00:00.000000",
          "2025-04-18T02:00:00.000000",
          "2025-04-18T03:00:00.000000",
          "2025-04-18T04:00:00.000000",
          "2025-04-18T05:00:00.000000",
          "2025-04-18T06:00:00.000000",
          "2025-04-18T07:00:00.000000",
          "2025-04-18T08:00:00.000000",
          "2025-04-18T09:00:00.000000",
          "2025-04-18T10:00:00.000000",
          "2025-04-18T11:00:00.000000",
          "2025-04-18T12:00:00.000000",
          "2025-04-18T13:00:00.000000",
          "2025-04-18T14:00:00.000000",
          "2025-04-18T15:00:00.000000",
          "2025-04-18T16:00:00.000000",
          "2025-04-18T17:00:00.000000",
          "2025-04-18T18:00:00.000000",
          "2025-04-18T19:00:00.000000",
          "2025-04-18T20:00:00.000000",
          "2025-04-18T21:00:00.000000",
          "2025-04-18T22:00:00.000000",
          "2025-04-18T23:00:00.000000",
          "2025-04-19T00:00:00.000000",
          "2025-04-19T01:00:00.000000",
          "2025-04-19T02:00:00.000000",
          "2025-04-19T03:00:00.000000",
          "2025-04-19T04:00:00.000000",
          "2025-04-19T05:00:00.000000",
          "2025-04-19T06:00:00.000000",
          "2025-04-19T07:00:00.000000",
          "2025-04-19T08:00:00.000000",
          "2025-04-19T09:00:00.000000",
          "2025-04-19T10:00:00.000000",
          "2025-04-19T11:00:00.000000",
          "2025-04-19T12:00:00.000000",
          "2025-04-19T13:00:00.000000",
          "2025-04-19T14:00:00.000000",
          "2025-04-19T15:00:00.000000",
          "2025-04-19T16:00:00.000000",
          "2025-04-19T17:00:00.000000",
          "2025-04-19T18:00:00.000000",
          "2025-04-19T19:00:00.000000",
          "2025-04-19T20:00:00.000000",
          "2025-04-19T21:00:00.000000",
          "2025-04-19T22:00:00.000000",
          "2025-04-19T23:00:00.000000",
          "2025-04-20T00:00:00.000000",
          "2025-04-20T01:00:00.000000",
          "2025-04-20T02:00:00.000000",
          "2025-04-20T03:00:00.000000",
          "2025-04-20T04:00:00.000000",
          "2025-04-20T05:00:00.000000",
          "2025-04-20T06:00:00.000000",
          "2025-04-20T07:00:00.000000",
          "2025-04-20T08:00:00.000000",
          "2025-04-20T09:00:00.000000",
          "2025-04-20T10:00:00.000000",
          "2025-04-20T11:00:00.000000",
          "2025-04-20T12:00:00.000000",
          "2025-04-20T13:00:00.000000",
          "2025-04-20T14:00:00.000000",
          "2025-04-20T15:00:00.000000",
          "2025-04-20T16:00:00.000000",
          "2025-04-20T17:00:00.000000",
          "2025-04-20T18:00:00.000000",
          "2025-04-20T19:00:00.000000",
          "2025-04-20T20:00:00.000000",
          "2025-04-20T21:00:00.000000",
          "2025-04-20T22:00:00.000000",
          "2025-04-20T23:00:00.000000",
          "2025-04-21T00:00:00.000000",
          "2025-04-21T01:00:00.000000",
          "2025-04-21T02:00:00.000000",
          "2025-04-21T03:00:00.000000",
          "2025-04-21T04:00:00.000000",
          "2025-04-21T05:00:00.000000",
          "2025-04-21T06:00:00.000000",
          "2025-04-21T07:00:00.000000",
          "2025-04-21T08:00:00.000000",
          "2025-04-21T09:00:00.000000",
          "2025-04-21T10:00:00.000000",
          "2025-04-21T11:00:00.000000",
          "2025-04-21T12:00:00.000000",
          "2025-04-21T13:00:00.000000",
          "2025-04-21T14:00:00.000000",
          "2025-04-21T15:00:00.000000",
          "2025-04-21T16:00:00.000000",
          "2025-04-21T17:00:00.000000",
          "2025-04-21T18:00:00.000000",
          "2025-04-21T19:00:00.000000",
          "2025-04-21T20:00:00.000000",
          "2025-04-21T21:00:00.000000",
          "2025-04-21T22:00:00.000000",
          "2025-04-21T23:00:00.000000",
          "2025-04-22T00:00:00.000000",
          "2025-04-22T01:00:00.000000",
          "2025-04-22T02:00:00.000000",
          "2025-04-22T03:00:00.000000",
          "2025-04-22T04:00:00.000000",
          "2025-04-22T05:00:00.000000",
          "2025-04-22T06:00:00.000000",
          "2025-04-22T07:00:00.000000",
          "2025-04-22T08:00:00.000000",
          "2025-04-22T09:00:00.000000",
          "2025-04-22T10:00:00.000000",
          "2025-04-22T11:00:00.000000",
          "2025-04-22T12:00:00.000000",
          "2025-04-22T13:00:00.000000",
          "2025-04-22T14:00:00.000000",
          "2025-04-22T15:00:00.000000",
          "2025-04-22T16:00:00.000000",
          "2025-04-22T17:00:00.000000",
          "2025-04-22T18:00:00.000000",
          "2025-04-22T19:00:00.000000",
          "2025-04-22T20:00:00.000000",
          "2025-04-22T21:00:00.000000",
          "2025-04-22T22:00:00.000000",
          "2025-04-22T23:00:00.000000",
          "2025-04-23T00:00:00.000000",
          "2025-04-23T01:00:00.000000",
          "2025-04-23T02:00:00.000000",
          "2025-04-23T03:00:00.000000",
          "2025-04-23T04:00:00.000000",
          "2025-04-23T05:00:00.000000",
          "2025-04-23T06:00:00.000000",
          "2025-04-23T07:00:00.000000",
          "2025-04-23T08:00:00.000000",
          "2025-04-23T09:00:00.000000",
          "2025-04-23T10:00:00.000000",
          "2025-04-23T11:00:00.000000",
          "2025-04-23T12:00:00.000000",
          "2025-04-23T13:00:00.000000",
          "2025-04-23T14:00:00.000000",
          "2025-04-23T15:00:00.000000",
          "2025-04-23T16:00:00.000000",
          "2025-04-23T17:00:00.000000",
          "2025-04-23T18:00:00.000000",
          "2025-04-23T19:00:00.000000",
          "2025-04-23T20:00:00.000000",
          "2025-04-23T21:00:00.000000",
          "2025-04-23T22:00:00.000000",
          "2025-04-23T23:00:00.000000",
          "2025-04-24T00:00:00.000000",
          "2025-04-24T01:00:00.000000",
          "2025-04-24T02:00:00.000000",
          "2025-04-24T03:00:00.000000",
          "2025-04-24T04:00:00.000000",
          "2025-04-24T05:00:00.000000",
          "2025-04-24T06:00:00.000000",
          "2025-04-24T07:00:00.000000",
          "2025-04-24T08:00:00.000000",
          "2025-04-24T09:00:00.000000",
          "2025-04-24T10:00:00.000000",
          "2025-04-24T11:00:00.000000",
          "2025-04-24T12:00:00.000000",
          "2025-04-24T13:00:00.000000",
          "2025-04-24T14:00:00.000000",
          "2025-04-24T15:00:00.000000",
          "2025-04-24T16:00:00.000000",
          "2025-04-24T17:00:00.000000",
          "2025-04-24T18:00:00.000000",
          "2025-04-24T19:00:00.000000",
          "2025-04-24T20:00:00.000000",
          "2025-04-24T21:00:00.000000",
          "2025-04-24T22:00:00.000000",
          "2025-04-24T23:00:00.000000",
          "2025-04-25T00:00:00.000000",
          "2025-04-25T01:00:00.000000",
          "2025-04-25T02:00:00.000000",
          "2025-04-25T03:00:00.000000",
          "2025-04-25T04:00:00.000000",
          "2025-04-25T05:00:00.000000",
          "2025-04-25T06:00:00.000000",
          "2025-04-25T07:00:00.000000",
          "2025-04-25T08:00:00.000000",
          "2025-04-25T09:00:00.000000",
          "2025-04-25T10:00:00.000000",
          "2025-04-25T11:00:00.000000",
          "2025-04-25T12:00:00.000000",
          "2025-04-25T13:00:00.000000",
          "2025-04-25T14:00:00.000000",
          "2025-04-25T15:00:00.000000",
          "2025-04-25T16:00:00.000000",
          "2025-04-25T17:00:00.000000",
          "2025-04-25T18:00:00.000000",
          "2025-04-25T19:00:00.000000",
          "2025-04-25T20:00:00.000000",
          "2025-04-25T21:00:00.000000",
          "2025-04-25T22:00:00.000000",
          "2025-04-25T23:00:00.000000",
          "2025-04-26T00:00:00.000000",
          "2025-04-26T01:00:00.000000",
          "2025-04-26T02:00:00.000000",
          "2025-04-26T03:00:00.000000",
          "2025-04-26T04:00:00.000000",
          "2025-04-26T05:00:00.000000",
          "2025-04-26T06:00:00.000000",
          "2025-04-26T07:00:00.000000",
          "2025-04-26T08:00:00.000000",
          "2025-04-26T09:00:00.000000",
          "2025-04-26T10:00:00.000000",
          "2025-04-26T11:00:00.000000",
          "2025-04-26T12:00:00.000000",
          "2025-04-26T13:00:00.000000",
          "2025-04-26T14:00:00.000000",
          "2025-04-26T15:00:00.000000",
          "2025-04-26T16:00:00.000000",
          "2025-04-26T17:00:00.000000",
          "2025-04-26T18:00:00.000000",
          "2025-04-26T19:00:00.000000",
          "2025-04-26T20:00:00.000000",
          "2025-04-26T21:00:00.000000",
          "2025-04-26T22:00:00.000000",
          "2025-04-26T23:00:00.000000",
          "2025-04-27T00:00:00.000000",
          "2025-04-27T01:00:00.000000",
          "2025-04-27T02:00:00.000000",
          "2025-04-27T03:00:00.000000",
          "2025-04-27T04:00:00.000000",
          "2025-04-27T05:00:00.000000",
          "2025-04-27T06:00:00.000000",
          "2025-04-27T07:00:00.000000",
          "2025-04-27T08:00:00.000000",
          "2025-04-27T09:00:00.000000",
          "2025-04-27T10:00:00.000000",
          "2025-04-27T11:00:00.000000",
          "2025-04-27T12:00:00.000000",
          "2025-04-27T13:00:00.000000",
          "2025-04-27T14:00:00.000000",
          "2025-04-27T15:00:00.000000",
          "2025-04-27T16:00:00.000000",
          "2025-04-27T17:00:00.000000",
          "2025-04-27T18:00:00.000000",
          "2025-04-27T19:00:00.000000",
          "2025-04-27T20:00:00.000000",
          "2025-04-27T21:00:00.000000",
          "2025-04-27T22:00:00.000000",
          "2025-04-27T23:00:00.000000",
          "2025-04-28T00:00:00.000000",
          "2025-04-28T01:00:00.000000",
          "2025-04-28T02:00:00.000000",
          "2025-04-28T03:00:00.000000",
          "2025-04-28T04:00:00.000000",
          "2025-04-28T05:00:00.000000",
          "2025-04-28T06:00:00.000000",
          "2025-04-28T07:00:00.000000",
          "2025-04-28T08:00:00.000000",
          "2025-04-28T09:00:00.000000",
          "2025-04-28T10:00:00.000000",
          "2025-04-28T11:00:00.000000",
          "2025-04-28T12:00:00.000000",
          "2025-04-28T13:00:00.000000",
          "2025-04-28T14:00:00.000000",
          "2025-04-28T15:00:00.000000",
          "2025-04-28T16:00:00.000000",
          "2025-04-28T17:00:00.000000",
          "2025-04-28T18:00:00.000000",
          "2025-04-28T19:00:00.000000",
          "2025-04-28T20:00:00.000000",
          "2025-04-28T21:00:00.000000",
          "2025-04-28T22:00:00.000000",
          "2025-04-28T23:00:00.000000",
          "2025-04-29T00:00:00.000000",
          "2025-04-29T01:00:00.000000",
          "2025-04-29T02:00:00.000000",
          "2025-04-29T03:00:00.000000",
          "2025-04-29T04:00:00.000000",
          "2025-04-29T05:00:00.000000",
          "2025-04-29T06:00:00.000000",
          "2025-04-29T07:00:00.000000",
          "2025-04-29T08:00:00.000000",
          "2025-04-29T09:00:00.000000",
          "2025-04-29T10:00:00.000000",
          "2025-04-29T11:00:00.000000",
          "2025-04-29T12:00:00.000000",
          "2025-04-29T13:00:00.000000",
          "2025-04-29T14:00:00.000000",
          "2025-04-29T15:00:00.000000",
          "2025-04-29T16:00:00.000000",
          "2025-04-29T17:00:00.000000",
          "2025-04-29T18:00:00.000000",
          "2025-04-29T19:00:00.000000",
          "2025-04-29T20:00:00.000000",
          "2025-04-29T21:00:00.000000",
          "2025-04-29T22:00:00.000000",
          "2025-04-29T23:00:00.000000",
          "2025-04-30T00:00:00.000000",
          "2025-04-30T01:00:00.000000",
          "2025-04-30T02:00:00.000000",
          "2025-04-30T03:00:00.000000",
          "2025-04-30T04:00:00.000000",
          "2025-04-30T05:00:00.000000",
          "2025-04-30T06:00:00.000000",
          "2025-04-30T07:00:00.000000",
          "2025-04-30T08:00:00.000000",
          "2025-04-30T09:00:00.000000",
          "2025-04-30T10:00:00.000000",
          "2025-04-30T11:00:00.000000",
          "2025-04-30T12:00:00.000000",
          "2025-04-30T13:00:00.000000",
          "2025-04-30T14:00:00.000000",
          "2025-04-30T15:00:00.000000",
          "2025-04-30T16:00:00.000000",
          "2025-04-30T17:00:00.000000",
          "2025-04-30T18:00:00.000000",
          "2025-04-30T19:00:00.000000",
          "2025-04-30T20:00:00.000000",
          "2025-04-30T21:00:00.000000",
          "2025-04-30T22:00:00.000000",
          "2025-04-30T23:00:00.000000",
          "2025-05-01T00:00:00.000000",
          "2025-05-01T01:00:00.000000",
          "2025-05-01T02:00:00.000000",
          "2025-05-01T03:00:00.000000",
          "2025-05-01T04:00:00.000000",
          "2025-05-01T05:00:00.000000",
          "2025-05-01T06:00:00.000000",
          "2025-05-01T07:00:00.000000",
          "2025-05-01T08:00:00.000000",
          "2025-05-01T09:00:00.000000",
          "2025-05-01T10:00:00.000000",
          "2025-05-01T11:00:00.000000",
          "2025-05-01T12:00:00.000000",
          "2025-05-01T13:00:00.000000",
          "2025-05-01T14:00:00.000000",
          "2025-05-01T15:00:00.000000",
          "2025-05-01T16:00:00.000000",
          "2025-05-01T17:00:00.000000",
          "2025-05-01T18:00:00.000000",
          "2025-05-01T19:00:00.000000",
          "2025-05-01T20:00:00.000000",
          "2025-05-01T21:00:00.000000",
          "2025-05-01T22:00:00.000000",
          "2025-05-01T23:00:00.000000",
          "2025-05-02T00:00:00.000000",
          "2025-05-02T01:00:00.000000",
          "2025-05-02T02:00:00.000000",
          "2025-05-02T03:00:00.000000",
          "2025-05-02T04:00:00.000000",
          "2025-05-02T05:00:00.000000",
          "2025-05-02T06:00:00.000000",
          "2025-05-02T07:00:00.000000",
          "2025-05-02T08:00:00.000000",
          "2025-05-02T09:00:00.000000",
          "2025-05-02T10:00:00.000000",
          "2025-05-02T11:00:00.000000",
          "2025-05-02T12:00:00.000000",
          "2025-05-02T13:00:00.000000",
          "2025-05-02T14:00:00.000000",
          "2025-05-02T15:00:00.000000",
          "2025-05-02T16:00:00.000000",
          "2025-05-02T17:00:00.000000",
          "2025-05-02T18:00:00.000000",
          "2025-05-02T19:00:00.000000",
          "2025-05-02T20:00:00.000000",
          "2025-05-02T21:00:00.000000",
          "2025-05-02T22:00:00.000000",
          "2025-05-02T23:00:00.000000",
          "2025-05-03T00:00:00.000000",
          "2025-05-03T01:00:00.000000",
          "2025-05-03T02:00:00.000000",
          "2025-05-03T03:00:00.000000",
          "2025-05-03T04:00:00.000000",
          "2025-05-03T05:00:00.000000",
          "2025-05-03T06:00:00.000000",
          "2025-05-03T07:00:00.000000",
          "2025-05-03T08:00:00.000000",
          "2025-05-03T09:00:00.000000",
          "2025-05-03T10:00:00.000000",
          "2025-05-03T11:00:00.000000",
          "2025-05-03T12:00:00.000000",
          "2025-05-03T13:00:00.000000",
          "2025-05-03T14:00:00.000000",
          "2025-05-03T15:00:00.000000",
          "2025-05-03T16:00:00.000000",
          "2025-05-03T17:00:00.000000",
          "2025-05-03T18:00:00.000000",
          "2025-05-03T19:00:00.000000",
          "2025-05-03T20:00:00.000000",
          "2025-05-03T21:00:00.000000",
          "2025-05-03T22:00:00.000000",
          "2025-05-03T23:00:00.000000",
          "2025-05-04T00:00:00.000000",
          "2025-05-04T01:00:00.000000",
          "2025-05-04T02:00:00.000000",
          "2025-05-04T03:00:00.000000",
          "2025-05-04T04:00:00.000000",
          "2025-05-04T05:00:00.000000",
          "2025-05-04T06:00:00.000000",
          "2025-05-04T07:00:00.000000",
          "2025-05-04T08:00:00.000000",
          "2025-05-04T09:00:00.000000",
          "2025-05-04T10:00:00.000000",
          "2025-05-04T11:00:00.000000",
          "2025-05-04T12:00:00.000000",
          "2025-05-04T13:00:00.000000",
          "2025-05-04T14:00:00.000000",
          "2025-05-04T15:00:00.000000",
          "2025-05-04T16:00:00.000000",
          "2025-05-04T17:00:00.000000",
          "2025-05-04T18:00:00.000000",
          "2025-05-04T19:00:00.000000",
          "2025-05-04T20:00:00.000000",
          "2025-05-04T21:00:00.000000",
          "2025-05-04T22:00:00.000000",
          "2025-05-04T23:00:00.000000",
          "2025-05-05T00:00:00.000000",
          "2025-05-05T01:00:00.000000",
          "2025-05-05T02:00:00.000000",
          "2025-05-05T03:00:00.000000",
          "2025-05-05T04:00:00.000000",
          "2025-05-05T05:00:00.000000",
          "2025-05-05T06:00:00.000000",
          "2025-05-05T07:00:00.000000",
          "2025-05-05T08:00:00.000000",
          "2025-05-05T09:00:00.000000",
          "2025-05-05T10:00:00.000000",
          "2025-05-05T11:00:00.000000",
          "2025-05-05T12:00:00.000000",
          "2025-05-05T13:00:00.000000",
          "2025-05-05T14:00:00.000000",
          "2025-05-05T15:00:00.000000"
         ],
         "y": {
          "bdata": "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",
          "dtype": "i4"
         }
        },
        {
         "line": {
          "color": "orange",
          "dash": "dash"
         },
         "mode": "lines+markers",
         "name": "Predicted Demand",
         "type": "scatter",
         "x": [
          "2025-05-04T12:00:00.000000",
          "2025-05-04T14:00:00.000000",
          "2025-05-04T16:00:00.000000",
          "2025-05-04T17:00:00.000000",
          "2025-05-04T18:00:00.000000",
          "2025-05-04T19:00:00.000000",
          "2025-05-04T20:00:00.000000",
          "2025-05-04T21:00:00.000000",
          "2025-05-04T23:00:00.000000",
          "2025-05-05T00:00:00.000000",
          "2025-05-05T01:00:00.000000",
          "2025-05-05T02:00:00.000000",
          "2025-05-05T03:00:00.000000",
          "2025-05-05T04:00:00.000000",
          "2025-05-05T05:00:00.000000",
          "2025-05-05T06:00:00.000000",
          "2025-05-05T07:00:00.000000",
          "2025-05-05T08:00:00.000000",
          "2025-05-05T09:00:00.000000",
          "2025-05-05T10:00:00.000000",
          "2025-05-05T11:00:00.000000",
          "2025-05-05T12:00:00.000000"
         ],
         "y": {
          "bdata": "AAAAAAAANUAAAAAAAAA3QAAAAAAAADJAAAAAAAAAKEAAAAAAAAAIQAAAAAAAADJAAAAAAAAANEAAAAAAAAAUQAAAAAAAADxAAAAAAAAAOEAAAAAAAAA3QAAAAAAAADZAAAAAAAAAJEAAAAAAAAA4QAAAAAAAgEJAAAAAAAAAQEAAAAAAAAAzQAAAAAAAAChAAAAAAAAAQkAAAAAAAABFQAAAAAAAACpAAAAAAAAAGEA=",
          "dtype": "f8"
         }
        }
       ],
       "layout": {
        "template": {
         "data": {
          "bar": [
           {
            "error_x": {
             "color": "#2a3f5f"
            },
            "error_y": {
             "color": "#2a3f5f"
            },
            "marker": {
             "line": {
              "color": "white",
              "width": 0.5
             },
             "pattern": {
              "fillmode": "overlay",
              "size": 10,
              "solidity": 0.2
             }
            },
            "type": "bar"
           }
          ],
          "barpolar": [
           {
            "marker": {
             "line": {
              "color": "white",
              "width": 0.5
             },
             "pattern": {
              "fillmode": "overlay",
              "size": 10,
              "solidity": 0.2
             }
            },
            "type": "barpolar"
           }
          ],
          "carpet": [
           {
            "aaxis": {
             "endlinecolor": "#2a3f5f",
             "gridcolor": "#C8D4E3",
             "linecolor": "#C8D4E3",
             "minorgridcolor": "#C8D4E3",
             "startlinecolor": "#2a3f5f"
            },
            "baxis": {
             "endlinecolor": "#2a3f5f",
             "gridcolor": "#C8D4E3",
             "linecolor": "#C8D4E3",
             "minorgridcolor": "#C8D4E3",
             "startlinecolor": "#2a3f5f"
            },
            "type": "carpet"
           }
          ],
          "choropleth": [
           {
            "colorbar": {
             "outlinewidth": 0,
             "ticks": ""
            },
            "type": "choropleth"
           }
          ],
          "contour": [
           {
            "colorbar": {
             "outlinewidth": 0,
             "ticks": ""
            },
            "colorscale": [
             [
              0,
              "#0d0887"
             ],
             [
              0.1111111111111111,
              "#46039f"
             ],
             [
              0.2222222222222222,
              "#7201a8"
             ],
             [
              0.3333333333333333,
              "#9c179e"
             ],
             [
              0.4444444444444444,
              "#bd3786"
             ],
             [
              0.5555555555555556,
              "#d8576b"
             ],
             [
              0.6666666666666666,
              "#ed7953"
             ],
             [
              0.7777777777777778,
              "#fb9f3a"
             ],
             [
              0.8888888888888888,
              "#fdca26"
             ],
             [
              1,
              "#f0f921"
             ]
            ],
            "type": "contour"
           }
          ],
          "contourcarpet": [
           {
            "colorbar": {
             "outlinewidth": 0,
             "ticks": ""
            },
            "type": "contourcarpet"
           }
          ],
          "heatmap": [
           {
            "colorbar": {
             "outlinewidth": 0,
             "ticks": ""
            },
            "colorscale": [
             [
              0,
              "#0d0887"
             ],
             [
              0.1111111111111111,
              "#46039f"
             ],
             [
              0.2222222222222222,
              "#7201a8"
             ],
             [
              0.3333333333333333,
              "#9c179e"
             ],
             [
              0.4444444444444444,
              "#bd3786"
             ],
             [
              0.5555555555555556,
              "#d8576b"
             ],
             [
              0.6666666666666666,
              "#ed7953"
             ],
             [
              0.7777777777777778,
              "#fb9f3a"
             ],
             [
              0.8888888888888888,
              "#fdca26"
             ],
             [
              1,
              "#f0f921"
             ]
            ],
            "type": "heatmap"
           }
          ],
          "histogram": [
           {
            "marker": {
             "pattern": {
              "fillmode": "overlay",
              "size": 10,
              "solidity": 0.2
             }
            },
            "type": "histogram"
           }
          ],
          "histogram2d": [
           {
            "colorbar": {
             "outlinewidth": 0,
             "ticks": ""
            },
            "colorscale": [
             [
              0,
              "#0d0887"
             ],
             [
              0.1111111111111111,
              "#46039f"
             ],
             [
              0.2222222222222222,
              "#7201a8"
             ],
             [
              0.3333333333333333,
              "#9c179e"
             ],
             [
              0.4444444444444444,
              "#bd3786"
             ],
             [
              0.5555555555555556,
              "#d8576b"
             ],
             [
              0.6666666666666666,
              "#ed7953"
             ],
             [
              0.7777777777777778,
              "#fb9f3a"
             ],
             [
              0.8888888888888888,
              "#fdca26"
             ],
             [
              1,
              "#f0f921"
             ]
            ],
            "type": "histogram2d"
           }
          ],
          "histogram2dcontour": [
           {
            "colorbar": {
             "outlinewidth": 0,
             "ticks": ""
            },
            "colorscale": [
             [
              0,
              "#0d0887"
             ],
             [
              0.1111111111111111,
              "#46039f"
             ],
             [
              0.2222222222222222,
              "#7201a8"
             ],
             [
              0.3333333333333333,
              "#9c179e"
             ],
             [
              0.4444444444444444,
              "#bd3786"
             ],
             [
              0.5555555555555556,
              "#d8576b"
             ],
             [
              0.6666666666666666,
              "#ed7953"
             ],
             [
              0.7777777777777778,
              "#fb9f3a"
             ],
             [
              0.8888888888888888,
              "#fdca26"
             ],
             [
              1,
              "#f0f921"
             ]
            ],
            "type": "histogram2dcontour"
           }
          ],
          "mesh3d": [
           {
            "colorbar": {
             "outlinewidth": 0,
             "ticks": ""
            },
            "type": "mesh3d"
           }
          ],
          "parcoords": [
           {
            "line": {
             "colorbar": {
              "outlinewidth": 0,
              "ticks": ""
             }
            },
            "type": "parcoords"
           }
          ],
          "pie": [
           {
            "automargin": true,
            "type": "pie"
           }
          ],
          "scatter": [
           {
            "fillpattern": {
             "fillmode": "overlay",
             "size": 10,
             "solidity": 0.2
            },
            "type": "scatter"
           }
          ],
          "scatter3d": [
           {
            "line": {
             "colorbar": {
              "outlinewidth": 0,
              "ticks": ""
             }
            },
            "marker": {
             "colorbar": {
              "outlinewidth": 0,
              "ticks": ""
             }
            },
            "type": "scatter3d"
           }
          ],
          "scattercarpet": [
           {
            "marker": {
             "colorbar": {
              "outlinewidth": 0,
              "ticks": ""
             }
            },
            "type": "scattercarpet"
           }
          ],
          "scattergeo": [
           {
            "marker": {
             "colorbar": {
              "outlinewidth": 0,
              "ticks": ""
             }
            },
            "type": "scattergeo"
           }
          ],
          "scattergl": [
           {
            "marker": {
             "colorbar": {
              "outlinewidth": 0,
              "ticks": ""
             }
            },
            "type": "scattergl"
           }
          ],
          "scattermap": [
           {
            "marker": {
             "colorbar": {
              "outlinewidth": 0,
              "ticks": ""
             }
            },
            "type": "scattermap"
           }
          ],
          "scattermapbox": [
           {
            "marker": {
             "colorbar": {
              "outlinewidth": 0,
              "ticks": ""
             }
            },
            "type": "scattermapbox"
           }
          ],
          "scatterpolar": [
           {
            "marker": {
             "colorbar": {
              "outlinewidth": 0,
              "ticks": ""
             }
            },
            "type": "scatterpolar"
           }
          ],
          "scatterpolargl": [
           {
            "marker": {
             "colorbar": {
              "outlinewidth": 0,
              "ticks": ""
             }
            },
            "type": "scatterpolargl"
           }
          ],
          "scatterternary": [
           {
            "marker": {
             "colorbar": {
              "outlinewidth": 0,
              "ticks": ""
             }
            },
            "type": "scatterternary"
           }
          ],
          "surface": [
           {
            "colorbar": {
             "outlinewidth": 0,
             "ticks": ""
            },
            "colorscale": [
             [
              0,
              "#0d0887"
             ],
             [
              0.1111111111111111,
              "#46039f"
             ],
             [
              0.2222222222222222,
              "#7201a8"
             ],
             [
              0.3333333333333333,
              "#9c179e"
             ],
             [
              0.4444444444444444,
              "#bd3786"
             ],
             [
              0.5555555555555556,
              "#d8576b"
             ],
             [
              0.6666666666666666,
              "#ed7953"
             ],
             [
              0.7777777777777778,
              "#fb9f3a"
             ],
             [
              0.8888888888888888,
              "#fdca26"
             ],
             [
              1,
              "#f0f921"
             ]
            ],
            "type": "surface"
           }
          ],
          "table": [
           {
            "cells": {
             "fill": {
              "color": "#EBF0F8"
             },
             "line": {
              "color": "white"
             }
            },
            "header": {
             "fill": {
              "color": "#C8D4E3"
             },
             "line": {
              "color": "white"
             }
            },
            "type": "table"
           }
          ]
         },
         "layout": {
          "annotationdefaults": {
           "arrowcolor": "#2a3f5f",
           "arrowhead": 0,
           "arrowwidth": 1
          },
          "autotypenumbers": "strict",
          "coloraxis": {
           "colorbar": {
            "outlinewidth": 0,
            "ticks": ""
           }
          },
          "colorscale": {
           "diverging": [
            [
             0,
             "#8e0152"
            ],
            [
             0.1,
             "#c51b7d"
            ],
            [
             0.2,
             "#de77ae"
            ],
            [
             0.3,
             "#f1b6da"
            ],
            [
             0.4,
             "#fde0ef"
            ],
            [
             0.5,
             "#f7f7f7"
            ],
            [
             0.6,
             "#e6f5d0"
            ],
            [
             0.7,
             "#b8e186"
            ],
            [
             0.8,
             "#7fbc41"
            ],
            [
             0.9,
             "#4d9221"
            ],
            [
             1,
             "#276419"
            ]
           ],
           "sequential": [
            [
             0,
             "#0d0887"
            ],
            [
             0.1111111111111111,
             "#46039f"
            ],
            [
             0.2222222222222222,
             "#7201a8"
            ],
            [
             0.3333333333333333,
             "#9c179e"
            ],
            [
             0.4444444444444444,
             "#bd3786"
            ],
            [
             0.5555555555555556,
             "#d8576b"
            ],
            [
             0.6666666666666666,
             "#ed7953"
            ],
            [
             0.7777777777777778,
             "#fb9f3a"
            ],
            [
             0.8888888888888888,
             "#fdca26"
            ],
            [
             1,
             "#f0f921"
            ]
           ],
           "sequentialminus": [
            [
             0,
             "#0d0887"
            ],
            [
             0.1111111111111111,
             "#46039f"
            ],
            [
             0.2222222222222222,
             "#7201a8"
            ],
            [
             0.3333333333333333,
             "#9c179e"
            ],
            [
             0.4444444444444444,
             "#bd3786"
            ],
            [
             0.5555555555555556,
             "#d8576b"
            ],
            [
             0.6666666666666666,
             "#ed7953"
            ],
            [
             0.7777777777777778,
             "#fb9f3a"
            ],
            [
             0.8888888888888888,
             "#fdca26"
            ],
            [
             1,
             "#f0f921"
            ]
           ]
          },
          "colorway": [
           "#636efa",
           "#EF553B",
           "#00cc96",
           "#ab63fa",
           "#FFA15A",
           "#19d3f3",
           "#FF6692",
           "#B6E880",
           "#FF97FF",
           "#FECB52"
          ],
          "font": {
           "color": "#2a3f5f"
          },
          "geo": {
           "bgcolor": "white",
           "lakecolor": "white",
           "landcolor": "white",
           "showlakes": true,
           "showland": true,
           "subunitcolor": "#C8D4E3"
          },
          "hoverlabel": {
           "align": "left"
          },
          "hovermode": "closest",
          "mapbox": {
           "style": "light"
          },
          "paper_bgcolor": "white",
          "plot_bgcolor": "white",
          "polar": {
           "angularaxis": {
            "gridcolor": "#EBF0F8",
            "linecolor": "#EBF0F8",
            "ticks": ""
           },
           "bgcolor": "white",
           "radialaxis": {
            "gridcolor": "#EBF0F8",
            "linecolor": "#EBF0F8",
            "ticks": ""
           }
          },
          "scene": {
           "xaxis": {
            "backgroundcolor": "white",
            "gridcolor": "#DFE8F3",
            "gridwidth": 2,
            "linecolor": "#EBF0F8",
            "showbackground": true,
            "ticks": "",
            "zerolinecolor": "#EBF0F8"
           },
           "yaxis": {
            "backgroundcolor": "white",
            "gridcolor": "#DFE8F3",
            "gridwidth": 2,
            "linecolor": "#EBF0F8",
            "showbackground": true,
            "ticks": "",
            "zerolinecolor": "#EBF0F8"
           },
           "zaxis": {
            "backgroundcolor": "white",
            "gridcolor": "#DFE8F3",
            "gridwidth": 2,
            "linecolor": "#EBF0F8",
            "showbackground": true,
            "ticks": "",
            "zerolinecolor": "#EBF0F8"
           }
          },
          "shapedefaults": {
           "line": {
            "color": "#2a3f5f"
           }
          },
          "ternary": {
           "aaxis": {
            "gridcolor": "#DFE8F3",
            "linecolor": "#A2B1C6",
            "ticks": ""
           },
           "baxis": {
            "gridcolor": "#DFE8F3",
            "linecolor": "#A2B1C6",
            "ticks": ""
           },
           "bgcolor": "white",
           "caxis": {
            "gridcolor": "#DFE8F3",
            "linecolor": "#A2B1C6",
            "ticks": ""
           }
          },
          "title": {
           "x": 0.05
          },
          "xaxis": {
           "automargin": true,
           "gridcolor": "#EBF0F8",
           "linecolor": "#EBF0F8",
           "ticks": "",
           "title": {
            "standoff": 15
           },
           "zerolinecolor": "#EBF0F8",
           "zerolinewidth": 2
          },
          "yaxis": {
           "automargin": true,
           "gridcolor": "#EBF0F8",
           "linecolor": "#EBF0F8",
           "ticks": "",
           "title": {
            "standoff": 15
           },
           "zerolinecolor": "#EBF0F8",
           "zerolinewidth": 2
          }
         }
        },
        "title": {
         "text": "Ride Counts and Predicted Demand for Station 5905.14013671875"
        },
        "xaxis": {
         "title": {
          "text": "Time"
         }
        },
        "yaxis": {
         "title": {
          "text": "Rides"
         }
        }
       }
      }
     },
     "metadata": {},
     "output_type": "display_data"
    }
   ],
   "source": [
    "import plotly.graph_objects as go\n",
    "\n",
    "fig = go.Figure()\n",
    "# Base plot\n",
    "fig.add_trace(go.Scatter(\n",
    "    x=location_features[\"start_hour\"],\n",
    "    y=location_features[\"rides\"],\n",
    "    mode=\"lines+markers\",\n",
    "    name=\"Actual Rides\"\n",
    "))\n",
    "\n",
    "fig.add_trace(go.Scatter(\n",
    "    x=location_preds[\"start_hour\"],\n",
    "    y=location_preds[\"predicted_demand\"],\n",
    "    mode=\"lines+markers\",\n",
    "    name=\"Predicted Demand\",\n",
    "    line=dict(dash='dash', color=\"orange\")\n",
    "))\n",
    "\n",
    "fig.update_layout(\n",
    "    title=f\"Ride Counts and Predicted Demand for Station {location_features['start_station_id'].iloc[0]}\",\n",
    "    xaxis_title=\"Time\",\n",
    "    yaxis_title=\"Rides\",\n",
    "    template=\"plotly_white\"\n",
    ")\n",
    "\n",
    "fig.show()"
   ]
  },
  {
   "cell_type": "code",
   "execution_count": 22,
   "id": "637c81c4",
   "metadata": {},
   "outputs": [
    {
     "ename": "ValueError",
     "evalue": "All arguments should have the same length. The length of argument `wide_variable_0` is 1, whereas the length of previously-processed arguments ['x'] is 673",
     "output_type": "error",
     "traceback": [
      "\u001b[31m---------------------------------------------------------------------------\u001b[39m",
      "\u001b[31mValueError\u001b[39m                                Traceback (most recent call last)",
      "\u001b[36mCell\u001b[39m\u001b[36m \u001b[39m\u001b[32mIn[22]\u001b[39m\u001b[32m, line 1\u001b[39m\n\u001b[32m----> \u001b[39m\u001b[32m1\u001b[39m \u001b[43mplot_ts\u001b[49m\u001b[43m(\u001b[49m\u001b[43mfeatures\u001b[49m\u001b[43m,\u001b[49m\u001b[43m \u001b[49m\u001b[43mpredictions\u001b[49m\u001b[43m,\u001b[49m\u001b[43m \u001b[49m\u001b[43mlocation_id\u001b[49m\u001b[43m=\u001b[49m\u001b[32;43m5905.140137\u001b[39;49m\u001b[43m)\u001b[49m\n",
      "\u001b[36mCell\u001b[39m\u001b[36m \u001b[39m\u001b[32mIn[21]\u001b[39m\u001b[32m, line 24\u001b[39m, in \u001b[36mplot_ts\u001b[39m\u001b[34m(features, predictions, location_id)\u001b[39m\n\u001b[32m     21\u001b[39m title = \u001b[33mf\u001b[39m\u001b[33m\"\u001b[39m\u001b[33mStart Hour: \u001b[39m\u001b[38;5;132;01m{\u001b[39;00mlocation_features[\u001b[33m'\u001b[39m\u001b[33mstart_hour\u001b[39m\u001b[33m'\u001b[39m]\u001b[38;5;132;01m}\u001b[39;00m\u001b[33m, Start Station ID: \u001b[39m\u001b[38;5;132;01m{\u001b[39;00mlocation_features[\u001b[33m'\u001b[39m\u001b[33mstart_station_id\u001b[39m\u001b[33m'\u001b[39m]\u001b[38;5;132;01m}\u001b[39;00m\u001b[33m\"\u001b[39m\n\u001b[32m     23\u001b[39m \u001b[38;5;66;03m# Base plot\u001b[39;00m\n\u001b[32m---> \u001b[39m\u001b[32m24\u001b[39m fig = \u001b[43mpx\u001b[49m\u001b[43m.\u001b[49m\u001b[43mline\u001b[49m\u001b[43m(\u001b[49m\n\u001b[32m     25\u001b[39m \u001b[43m    \u001b[49m\u001b[43mx\u001b[49m\u001b[43m=\u001b[49m\u001b[43mtime_series_dates\u001b[49m\u001b[43m,\u001b[49m\n\u001b[32m     26\u001b[39m \u001b[43m    \u001b[49m\u001b[43my\u001b[49m\u001b[43m=\u001b[49m\u001b[43mts_values\u001b[49m\u001b[43m,\u001b[49m\n\u001b[32m     27\u001b[39m \u001b[43m    \u001b[49m\u001b[43mtemplate\u001b[49m\u001b[43m=\u001b[49m\u001b[33;43m\"\u001b[39;49m\u001b[33;43mplotly_white\u001b[39;49m\u001b[33;43m\"\u001b[39;49m\u001b[43m,\u001b[49m\n\u001b[32m     28\u001b[39m \u001b[43m    \u001b[49m\u001b[43mmarkers\u001b[49m\u001b[43m=\u001b[49m\u001b[38;5;28;43;01mTrue\u001b[39;49;00m\u001b[43m,\u001b[49m\n\u001b[32m     29\u001b[39m \u001b[43m    \u001b[49m\u001b[43mtitle\u001b[49m\u001b[43m=\u001b[49m\u001b[43mtitle\u001b[49m\u001b[43m,\u001b[49m\n\u001b[32m     30\u001b[39m \u001b[43m    \u001b[49m\u001b[43mlabels\u001b[49m\u001b[43m=\u001b[49m\u001b[43m{\u001b[49m\u001b[33;43m\"\u001b[39;49m\u001b[33;43mx\u001b[39;49m\u001b[33;43m\"\u001b[39;49m\u001b[43m:\u001b[49m\u001b[43m \u001b[49m\u001b[33;43m\"\u001b[39;49m\u001b[33;43mTime\u001b[39;49m\u001b[33;43m\"\u001b[39;49m\u001b[43m,\u001b[49m\u001b[43m \u001b[49m\u001b[33;43m\"\u001b[39;49m\u001b[33;43my\u001b[39;49m\u001b[33;43m\"\u001b[39;49m\u001b[43m:\u001b[49m\u001b[43m \u001b[49m\u001b[33;43m\"\u001b[39;49m\u001b[33;43mRide Counts\u001b[39;49m\u001b[33;43m\"\u001b[39;49m\u001b[43m}\u001b[49m\u001b[43m,\u001b[49m\n\u001b[32m     31\u001b[39m \u001b[43m\u001b[49m\u001b[43m)\u001b[49m\n\u001b[32m     33\u001b[39m \u001b[38;5;28;01mreturn\u001b[39;00m fig\n",
      "\u001b[36mFile \u001b[39m\u001b[32mc:\\Users\\nolan\\anaconda3\\envs\\citi\\Lib\\site-packages\\plotly\\express\\_chart_types.py:270\u001b[39m, in \u001b[36mline\u001b[39m\u001b[34m(data_frame, x, y, line_group, color, line_dash, symbol, hover_name, hover_data, custom_data, text, facet_row, facet_col, facet_col_wrap, facet_row_spacing, facet_col_spacing, error_x, error_x_minus, error_y, error_y_minus, animation_frame, animation_group, category_orders, labels, orientation, color_discrete_sequence, color_discrete_map, line_dash_sequence, line_dash_map, symbol_sequence, symbol_map, markers, log_x, log_y, range_x, range_y, line_shape, render_mode, title, subtitle, template, width, height)\u001b[39m\n\u001b[32m    221\u001b[39m \u001b[38;5;28;01mdef\u001b[39;00m\u001b[38;5;250m \u001b[39m\u001b[34mline\u001b[39m(\n\u001b[32m    222\u001b[39m     data_frame=\u001b[38;5;28;01mNone\u001b[39;00m,\n\u001b[32m    223\u001b[39m     x=\u001b[38;5;28;01mNone\u001b[39;00m,\n\u001b[32m   (...)\u001b[39m\u001b[32m    264\u001b[39m     height=\u001b[38;5;28;01mNone\u001b[39;00m,\n\u001b[32m    265\u001b[39m ) -> go.Figure:\n\u001b[32m    266\u001b[39m \u001b[38;5;250m    \u001b[39m\u001b[33;03m\"\"\"\u001b[39;00m\n\u001b[32m    267\u001b[39m \u001b[33;03m    In a 2D line plot, each row of `data_frame` is represented as a vertex of\u001b[39;00m\n\u001b[32m    268\u001b[39m \u001b[33;03m    a polyline mark in 2D space.\u001b[39;00m\n\u001b[32m    269\u001b[39m \u001b[33;03m    \"\"\"\u001b[39;00m\n\u001b[32m--> \u001b[39m\u001b[32m270\u001b[39m     \u001b[38;5;28;01mreturn\u001b[39;00m \u001b[43mmake_figure\u001b[49m\u001b[43m(\u001b[49m\u001b[43margs\u001b[49m\u001b[43m=\u001b[49m\u001b[38;5;28;43mlocals\u001b[39;49m\u001b[43m(\u001b[49m\u001b[43m)\u001b[49m\u001b[43m,\u001b[49m\u001b[43m \u001b[49m\u001b[43mconstructor\u001b[49m\u001b[43m=\u001b[49m\u001b[43mgo\u001b[49m\u001b[43m.\u001b[49m\u001b[43mScatter\u001b[49m\u001b[43m)\u001b[49m\n",
      "\u001b[36mFile \u001b[39m\u001b[32mc:\\Users\\nolan\\anaconda3\\envs\\citi\\Lib\\site-packages\\plotly\\express\\_core.py:2479\u001b[39m, in \u001b[36mmake_figure\u001b[39m\u001b[34m(args, constructor, trace_patch, layout_patch)\u001b[39m\n\u001b[32m   2476\u001b[39m layout_patch = layout_patch \u001b[38;5;129;01mor\u001b[39;00m {}\n\u001b[32m   2477\u001b[39m apply_default_cascade(args)\n\u001b[32m-> \u001b[39m\u001b[32m2479\u001b[39m args = \u001b[43mbuild_dataframe\u001b[49m\u001b[43m(\u001b[49m\u001b[43margs\u001b[49m\u001b[43m,\u001b[49m\u001b[43m \u001b[49m\u001b[43mconstructor\u001b[49m\u001b[43m)\u001b[49m\n\u001b[32m   2480\u001b[39m \u001b[38;5;28;01mif\u001b[39;00m constructor \u001b[38;5;129;01min\u001b[39;00m [go.Treemap, go.Sunburst, go.Icicle] \u001b[38;5;129;01mand\u001b[39;00m args[\u001b[33m\"\u001b[39m\u001b[33mpath\u001b[39m\u001b[33m\"\u001b[39m] \u001b[38;5;129;01mis\u001b[39;00m \u001b[38;5;129;01mnot\u001b[39;00m \u001b[38;5;28;01mNone\u001b[39;00m:\n\u001b[32m   2481\u001b[39m     args = process_dataframe_hierarchy(args)\n",
      "\u001b[36mFile \u001b[39m\u001b[32mc:\\Users\\nolan\\anaconda3\\envs\\citi\\Lib\\site-packages\\plotly\\express\\_core.py:1727\u001b[39m, in \u001b[36mbuild_dataframe\u001b[39m\u001b[34m(args, constructor)\u001b[39m\n\u001b[32m   1724\u001b[39m     args[\u001b[33m\"\u001b[39m\u001b[33mcolor\u001b[39m\u001b[33m\"\u001b[39m] = \u001b[38;5;28;01mNone\u001b[39;00m\n\u001b[32m   1725\u001b[39m \u001b[38;5;66;03m# now that things have been prepped, we do the systematic rewriting of `args`\u001b[39;00m\n\u001b[32m-> \u001b[39m\u001b[32m1727\u001b[39m df_output, wide_id_vars = \u001b[43mprocess_args_into_dataframe\u001b[49m\u001b[43m(\u001b[49m\n\u001b[32m   1728\u001b[39m \u001b[43m    \u001b[49m\u001b[43margs\u001b[49m\u001b[43m,\u001b[49m\n\u001b[32m   1729\u001b[39m \u001b[43m    \u001b[49m\u001b[43mwide_mode\u001b[49m\u001b[43m,\u001b[49m\n\u001b[32m   1730\u001b[39m \u001b[43m    \u001b[49m\u001b[43mvar_name\u001b[49m\u001b[43m,\u001b[49m\n\u001b[32m   1731\u001b[39m \u001b[43m    \u001b[49m\u001b[43mvalue_name\u001b[49m\u001b[43m,\u001b[49m\n\u001b[32m   1732\u001b[39m \u001b[43m    \u001b[49m\u001b[43mis_pd_like\u001b[49m\u001b[43m,\u001b[49m\n\u001b[32m   1733\u001b[39m \u001b[43m    \u001b[49m\u001b[43mnative_namespace\u001b[49m\u001b[43m,\u001b[49m\n\u001b[32m   1734\u001b[39m \u001b[43m\u001b[49m\u001b[43m)\u001b[49m\n\u001b[32m   1735\u001b[39m df_output: nw.DataFrame\n\u001b[32m   1736\u001b[39m \u001b[38;5;66;03m# now that `df_output` exists and `args` contains only references, we complete\u001b[39;00m\n\u001b[32m   1737\u001b[39m \u001b[38;5;66;03m# the special-case and wide-mode handling by further rewriting args and/or mutating\u001b[39;00m\n\u001b[32m   1738\u001b[39m \u001b[38;5;66;03m# df_output\u001b[39;00m\n",
      "\u001b[36mFile \u001b[39m\u001b[32mc:\\Users\\nolan\\anaconda3\\envs\\citi\\Lib\\site-packages\\plotly\\express\\_core.py:1373\u001b[39m, in \u001b[36mprocess_args_into_dataframe\u001b[39m\u001b[34m(args, wide_mode, var_name, value_name, is_pd_like, native_namespace)\u001b[39m\n\u001b[32m   1370\u001b[39m         col_name = _check_name_not_reserved(field, reserved_names)\n\u001b[32m   1372\u001b[39m     \u001b[38;5;28;01mif\u001b[39;00m length \u001b[38;5;129;01mand\u001b[39;00m (len_arg := \u001b[38;5;28mlen\u001b[39m(argument)) != length:\n\u001b[32m-> \u001b[39m\u001b[32m1373\u001b[39m         \u001b[38;5;28;01mraise\u001b[39;00m \u001b[38;5;167;01mValueError\u001b[39;00m(\n\u001b[32m   1374\u001b[39m             \u001b[33m\"\u001b[39m\u001b[33mAll arguments should have the same length. \u001b[39m\u001b[33m\"\u001b[39m\n\u001b[32m   1375\u001b[39m             \u001b[33m\"\u001b[39m\u001b[33mThe length of argument `\u001b[39m\u001b[38;5;132;01m%s\u001b[39;00m\u001b[33m` is \u001b[39m\u001b[38;5;132;01m%d\u001b[39;00m\u001b[33m, whereas the \u001b[39m\u001b[33m\"\u001b[39m\n\u001b[32m   1376\u001b[39m             \u001b[33m\"\u001b[39m\u001b[33mlength of previously-processed arguments \u001b[39m\u001b[38;5;132;01m%s\u001b[39;00m\u001b[33m is \u001b[39m\u001b[38;5;132;01m%d\u001b[39;00m\u001b[33m\"\u001b[39m\n\u001b[32m   1377\u001b[39m             % (field, len_arg, \u001b[38;5;28mstr\u001b[39m(\u001b[38;5;28mlist\u001b[39m(df_output.keys())), length)\n\u001b[32m   1378\u001b[39m         )\n\u001b[32m   1380\u001b[39m     df_output[\u001b[38;5;28mstr\u001b[39m(col_name)] = to_named_series(\n\u001b[32m   1381\u001b[39m         x=argument,\n\u001b[32m   1382\u001b[39m         name=\u001b[38;5;28mstr\u001b[39m(col_name),\n\u001b[32m   1383\u001b[39m         native_namespace=native_namespace,\n\u001b[32m   1384\u001b[39m     )\n\u001b[32m   1386\u001b[39m \u001b[38;5;66;03m# Finally, update argument with column name now that column exists\u001b[39;00m\n",
      "\u001b[31mValueError\u001b[39m: All arguments should have the same length. The length of argument `wide_variable_0` is 1, whereas the length of previously-processed arguments ['x'] is 673"
     ]
    }
   ],
   "source": [
    "plot_ts(features, predictions, location_id=5905.140137)"
   ]
  },
  {
   "cell_type": "code",
   "execution_count": null,
   "id": "6ca6e9b2",
   "metadata": {},
   "outputs": [
    {
     "ename": "AttributeError",
     "evalue": "'NoneType' object has no attribute 'columns'",
     "output_type": "error",
     "traceback": [
      "\u001b[31m---------------------------------------------------------------------------\u001b[39m",
      "\u001b[31mAttributeError\u001b[39m                            Traceback (most recent call last)",
      "\u001b[36mCell\u001b[39m\u001b[36m \u001b[39m\u001b[32mIn[17]\u001b[39m\u001b[32m, line 3\u001b[39m\n\u001b[32m      1\u001b[39m \u001b[38;5;28;01mfrom\u001b[39;00m\u001b[38;5;250m \u001b[39m\u001b[34;01msrc\u001b[39;00m\u001b[34;01m.\u001b[39;00m\u001b[34;01mplot_utils\u001b[39;00m\u001b[38;5;250m \u001b[39m\u001b[38;5;28;01mimport\u001b[39;00m plot_prediction2\n\u001b[32m----> \u001b[39m\u001b[32m3\u001b[39m \u001b[43mplot_prediction2\u001b[49m\u001b[43m(\u001b[49m\u001b[43mfeatures\u001b[49m\u001b[43m=\u001b[49m\u001b[43mfeatures\u001b[49m\u001b[43m,\u001b[49m\u001b[43m \u001b[49m\u001b[43mprediction\u001b[49m\u001b[43m=\u001b[49m\u001b[38;5;28;43;01mNone\u001b[39;49;00m\u001b[43m)\u001b[49m\n",
      "\u001b[36mFile \u001b[39m\u001b[32mc:\\Users\\nolan\\cda500\\citi_bike\\src\\plot_utils.py:140\u001b[39m, in \u001b[36mplot_prediction2\u001b[39m\u001b[34m(features, prediction)\u001b[39m\n\u001b[32m    133\u001b[39m df_hist = pd.DataFrame({\n\u001b[32m    134\u001b[39m     \u001b[33m\"\u001b[39m\u001b[33mdatetime\u001b[39m\u001b[33m\"\u001b[39m: hist_dates,\n\u001b[32m    135\u001b[39m     \u001b[33m\"\u001b[39m\u001b[33mrides\u001b[39m\u001b[33m\"\u001b[39m: ride_values,\n\u001b[32m    136\u001b[39m     \u001b[33m\"\u001b[39m\u001b[33mtype\u001b[39m\u001b[33m\"\u001b[39m: \u001b[33m\"\u001b[39m\u001b[33mHistorical\u001b[39m\u001b[33m\"\u001b[39m\n\u001b[32m    137\u001b[39m })\n\u001b[32m    139\u001b[39m \u001b[38;5;66;03m# --- Predictions ---\u001b[39;00m\n\u001b[32m--> \u001b[39m\u001b[32m140\u001b[39m \u001b[38;5;28;01mif\u001b[39;00m \u001b[38;5;129;01mnot\u001b[39;00m {\u001b[33m\"\u001b[39m\u001b[33mstart_hour\u001b[39m\u001b[33m\"\u001b[39m, \u001b[33m\"\u001b[39m\u001b[33mpredicted_demand\u001b[39m\u001b[33m\"\u001b[39m}.issubset(\u001b[43mprediction\u001b[49m\u001b[43m.\u001b[49m\u001b[43mcolumns\u001b[49m):\n\u001b[32m    141\u001b[39m     \u001b[38;5;28;01mraise\u001b[39;00m \u001b[38;5;167;01mValueError\u001b[39;00m(\u001b[33m\"\u001b[39m\u001b[33mPrediction DataFrame must contain \u001b[39m\u001b[33m'\u001b[39m\u001b[33mstart_hour\u001b[39m\u001b[33m'\u001b[39m\u001b[33m and \u001b[39m\u001b[33m'\u001b[39m\u001b[33mpredicted_demand\u001b[39m\u001b[33m'\u001b[39m\u001b[33m.\u001b[39m\u001b[33m\"\u001b[39m)\n\u001b[32m    143\u001b[39m df_pred = pd.DataFrame({\n\u001b[32m    144\u001b[39m     \u001b[33m\"\u001b[39m\u001b[33mdatetime\u001b[39m\u001b[33m\"\u001b[39m: prediction[\u001b[33m\"\u001b[39m\u001b[33mstart_hour\u001b[39m\u001b[33m\"\u001b[39m],\n\u001b[32m    145\u001b[39m     \u001b[33m\"\u001b[39m\u001b[33mrides\u001b[39m\u001b[33m\"\u001b[39m: prediction[\u001b[33m\"\u001b[39m\u001b[33mpredicted_demand\u001b[39m\u001b[33m\"\u001b[39m],\n\u001b[32m    146\u001b[39m     \u001b[33m\"\u001b[39m\u001b[33mtype\u001b[39m\u001b[33m\"\u001b[39m: \u001b[33m\"\u001b[39m\u001b[33mPredicted\u001b[39m\u001b[33m\"\u001b[39m\n\u001b[32m    147\u001b[39m })\n",
      "\u001b[31mAttributeError\u001b[39m: 'NoneType' object has no attribute 'columns'"
     ]
    }
   ],
   "source": [
    "from src.plot_utils import plot_prediction2\n"
   ]
  }
 ],
 "metadata": {
  "kernelspec": {
   "display_name": "citi",
   "language": "python",
   "name": "python3"
  },
  "language_info": {
   "codemirror_mode": {
    "name": "ipython",
    "version": 3
   },
   "file_extension": ".py",
   "mimetype": "text/x-python",
   "name": "python",
   "nbconvert_exporter": "python",
   "pygments_lexer": "ipython3",
   "version": "3.11.11"
  }
 },
 "nbformat": 4,
 "nbformat_minor": 5
}
