{
 "cells": [
  {
   "cell_type": "code",
   "execution_count": 1,
   "id": "26d4505b",
   "metadata": {},
   "outputs": [],
   "source": [
    "%load_ext autoreload\n",
    "%autoreload 2"
   ]
  },
  {
   "cell_type": "code",
   "execution_count": 2,
   "id": "80fd34ed",
   "metadata": {},
   "outputs": [],
   "source": [
    "import sys\n",
    "import os\n",
    "\n",
    "# Add the parent directory to the Python path\n",
    "sys.path.append(os.path.abspath(os.path.join(os.getcwd(), \"..\")))\n",
    "import src.config as config\n",
    "\n",
    "from src.inference import fetch_next_hour_predictions"
   ]
  },
  {
   "cell_type": "code",
   "execution_count": 14,
   "id": "45adefe6",
   "metadata": {},
   "outputs": [
    {
     "name": "stdout",
     "output_type": "stream",
     "text": [
      "2025-05-04 20:43:00,139 INFO: Closing external client and cleaning up certificates.\n",
      "Connection closed.\n",
      "2025-05-04 20:43:00,147 INFO: Initializing external client\n",
      "2025-05-04 20:43:00,148 INFO: Base URL: https://c.app.hopsworks.ai:443\n",
      "2025-05-04 20:43:00,960 INFO: Python Engine initialized.\n",
      "\n",
      "Logged in to project, explore it here https://c.app.hopsworks.ai:443/p/1212635\n",
      "Finished: Reading data from Hopsworks, using Hopsworks Feature Query Service (0.68s) \n",
      "Current EST time: 2025-05-04 20:43:00.139128\n",
      "Next hour: 2025-05-04 21:00:00\n",
      "Found 3 records\n"
     ]
    }
   ],
   "source": [
    "predictions = fetch_next_hour_predictions()"
   ]
  },
  {
   "cell_type": "code",
   "execution_count": 15,
   "id": "4ab37cd5",
   "metadata": {},
   "outputs": [],
   "source": [
    "import pandas as pd"
   ]
  },
  {
   "cell_type": "code",
   "execution_count": 10,
   "id": "6338112f",
   "metadata": {},
   "outputs": [],
   "source": [
    "import numpy as np"
   ]
  },
  {
   "cell_type": "code",
   "execution_count": 16,
   "id": "d9887118",
   "metadata": {},
   "outputs": [
    {
     "data": {
      "text/html": [
       "<div>\n",
       "<style scoped>\n",
       "    .dataframe tbody tr th:only-of-type {\n",
       "        vertical-align: middle;\n",
       "    }\n",
       "\n",
       "    .dataframe tbody tr th {\n",
       "        vertical-align: top;\n",
       "    }\n",
       "\n",
       "    .dataframe thead th {\n",
       "        text-align: right;\n",
       "    }\n",
       "</style>\n",
       "<table border=\"1\" class=\"dataframe\">\n",
       "  <thead>\n",
       "    <tr style=\"text-align: right;\">\n",
       "      <th></th>\n",
       "      <th>start_station_id</th>\n",
       "      <th>predicted_demand</th>\n",
       "      <th>start_hour</th>\n",
       "      <th>name</th>\n",
       "      <th>longitude</th>\n",
       "      <th>latitude</th>\n",
       "    </tr>\n",
       "  </thead>\n",
       "  <tbody>\n",
       "    <tr>\n",
       "      <th>0</th>\n",
       "      <td>6822.089844</td>\n",
       "      <td>13.0</td>\n",
       "      <td>2025-05-04 21:00:00</td>\n",
       "      <td>1 Ave &amp; E 68 St</td>\n",
       "      <td>-73.958115</td>\n",
       "      <td>40.765112</td>\n",
       "    </tr>\n",
       "    <tr>\n",
       "      <th>1</th>\n",
       "      <td>6140.049805</td>\n",
       "      <td>12.0</td>\n",
       "      <td>2025-05-04 21:00:00</td>\n",
       "      <td>W 21 St &amp; 6 Ave</td>\n",
       "      <td>-73.994156</td>\n",
       "      <td>40.741740</td>\n",
       "    </tr>\n",
       "    <tr>\n",
       "      <th>2</th>\n",
       "      <td>5905.140137</td>\n",
       "      <td>5.0</td>\n",
       "      <td>2025-05-04 21:00:00</td>\n",
       "      <td>Broadway &amp; E 14 St</td>\n",
       "      <td>-73.990741</td>\n",
       "      <td>40.734546</td>\n",
       "    </tr>\n",
       "  </tbody>\n",
       "</table>\n",
       "</div>"
      ],
      "text/plain": [
       "   start_station_id  predicted_demand          start_hour                name  \\\n",
       "0       6822.089844              13.0 2025-05-04 21:00:00     1 Ave & E 68 St   \n",
       "1       6140.049805              12.0 2025-05-04 21:00:00     W 21 St & 6 Ave   \n",
       "2       5905.140137               5.0 2025-05-04 21:00:00  Broadway & E 14 St   \n",
       "\n",
       "   longitude   latitude  \n",
       "0 -73.958115  40.765112  \n",
       "1 -73.994156  40.741740  \n",
       "2 -73.990741  40.734546  "
      ]
     },
     "execution_count": 16,
     "metadata": {},
     "output_type": "execute_result"
    }
   ],
   "source": [
    "station_dict = {\n",
    "    np.float32(5905.140137): {\"name\": \"Broadway & E 14 St\",\n",
    "           \"longitude\": -73.99074142,\n",
    "           \"latitude\": 40.73454567\n",
    "           },\n",
    "    np.float32(6140.049805): {\"name\": \"W 21 St & 6 Ave\",\n",
    "           \"longitude\": -73.99415556,\n",
    "           \"latitude\": 40.74173969},\n",
    "    np.float32(6822.089844): {\"name\": \"1 Ave & E 68 St\",\n",
    "           \"longitude\": -73.958115339,\n",
    "           \"latitude\": 40.765112281}\n",
    "}\n",
    "\n",
    "station_df = pd.DataFrame.from_dict(station_dict, orient='index').reset_index()\n",
    "station_df.rename(columns={'index': 'start_station_id'}, inplace=True)\n",
    "merged = pd.merge(predictions, station_df, on='start_station_id', how='left')\n",
    "merged"
   ]
  },
  {
   "cell_type": "code",
   "execution_count": 12,
   "id": "2e49ff20",
   "metadata": {},
   "outputs": [
    {
     "data": {
      "text/html": [
       "<div>\n",
       "<style scoped>\n",
       "    .dataframe tbody tr th:only-of-type {\n",
       "        vertical-align: middle;\n",
       "    }\n",
       "\n",
       "    .dataframe tbody tr th {\n",
       "        vertical-align: top;\n",
       "    }\n",
       "\n",
       "    .dataframe thead th {\n",
       "        text-align: right;\n",
       "    }\n",
       "</style>\n",
       "<table border=\"1\" class=\"dataframe\">\n",
       "  <thead>\n",
       "    <tr style=\"text-align: right;\">\n",
       "      <th></th>\n",
       "      <th>start_station_id</th>\n",
       "      <th>name</th>\n",
       "      <th>longitude</th>\n",
       "      <th>latitude</th>\n",
       "    </tr>\n",
       "  </thead>\n",
       "  <tbody>\n",
       "    <tr>\n",
       "      <th>0</th>\n",
       "      <td>5905.140137</td>\n",
       "      <td>Broadway &amp; E 14 St</td>\n",
       "      <td>-73.990741</td>\n",
       "      <td>40.734546</td>\n",
       "    </tr>\n",
       "    <tr>\n",
       "      <th>1</th>\n",
       "      <td>6140.049805</td>\n",
       "      <td>W 21 St &amp; 6 Ave</td>\n",
       "      <td>-73.994156</td>\n",
       "      <td>40.741740</td>\n",
       "    </tr>\n",
       "    <tr>\n",
       "      <th>2</th>\n",
       "      <td>6822.089844</td>\n",
       "      <td>1 Ave &amp; E 68 St</td>\n",
       "      <td>-73.958115</td>\n",
       "      <td>40.765112</td>\n",
       "    </tr>\n",
       "  </tbody>\n",
       "</table>\n",
       "</div>"
      ],
      "text/plain": [
       "   start_station_id                name  longitude   latitude\n",
       "0       5905.140137  Broadway & E 14 St -73.990741  40.734546\n",
       "1       6140.049805     W 21 St & 6 Ave -73.994156  40.741740\n",
       "2       6822.089844     1 Ave & E 68 St -73.958115  40.765112"
      ]
     },
     "execution_count": 12,
     "metadata": {},
     "output_type": "execute_result"
    }
   ],
   "source": [
    "station_df"
   ]
  },
  {
   "cell_type": "code",
   "execution_count": 13,
   "id": "3cccd55d",
   "metadata": {},
   "outputs": [
    {
     "name": "stdout",
     "output_type": "stream",
     "text": [
      "<class 'pandas.core.frame.DataFrame'>\n",
      "RangeIndex: 3 entries, 0 to 2\n",
      "Data columns (total 4 columns):\n",
      " #   Column            Non-Null Count  Dtype  \n",
      "---  ------            --------------  -----  \n",
      " 0   start_station_id  3 non-null      float32\n",
      " 1   name              3 non-null      object \n",
      " 2   longitude         3 non-null      float64\n",
      " 3   latitude          3 non-null      float64\n",
      "dtypes: float32(1), float64(2), object(1)\n",
      "memory usage: 216.0+ bytes\n"
     ]
    }
   ],
   "source": [
    "station_df.info()"
   ]
  },
  {
   "cell_type": "code",
   "execution_count": 9,
   "id": "aeed2e29",
   "metadata": {},
   "outputs": [
    {
     "name": "stdout",
     "output_type": "stream",
     "text": [
      "<class 'pandas.core.frame.DataFrame'>\n",
      "RangeIndex: 3 entries, 0 to 2\n",
      "Data columns (total 9 columns):\n",
      " #   Column            Non-Null Count  Dtype         \n",
      "---  ------            --------------  -----         \n",
      " 0   start_station_id  3 non-null      float32       \n",
      " 1   predicted_demand  3 non-null      float64       \n",
      " 2   start_hour        3 non-null      datetime64[us]\n",
      " 3   name_x            0 non-null      object        \n",
      " 4   longitude_x       0 non-null      float64       \n",
      " 5   latitude_x        0 non-null      float64       \n",
      " 6   name_y            0 non-null      object        \n",
      " 7   longitude_y       0 non-null      float64       \n",
      " 8   latitude_y        0 non-null      float64       \n",
      "dtypes: datetime64[us](1), float32(1), float64(5), object(2)\n",
      "memory usage: 336.0+ bytes\n"
     ]
    }
   ],
   "source": [
    "merged.info()"
   ]
  }
 ],
 "metadata": {
  "kernelspec": {
   "display_name": "citi",
   "language": "python",
   "name": "python3"
  },
  "language_info": {
   "codemirror_mode": {
    "name": "ipython",
    "version": 3
   },
   "file_extension": ".py",
   "mimetype": "text/x-python",
   "name": "python",
   "nbconvert_exporter": "python",
   "pygments_lexer": "ipython3",
   "version": "3.11.11"
  }
 },
 "nbformat": 4,
 "nbformat_minor": 5
}
