{
 "cells": [
  {
   "cell_type": "code",
   "execution_count": 1,
   "id": "db7f048b",
   "metadata": {},
   "outputs": [],
   "source": [
    "%load_ext autoreload\n",
    "%autoreload 2"
   ]
  },
  {
   "cell_type": "code",
   "execution_count": 2,
   "id": "57ffbad6",
   "metadata": {},
   "outputs": [],
   "source": [
    "import sys\n",
    "import os\n",
    "\n",
    "# Add the parent directory to the Python path\n",
    "sys.path.append(os.path.abspath(os.path.join(os.getcwd(), \"..\")))\n",
    "import src.config as config"
   ]
  },
  {
   "cell_type": "code",
   "execution_count": 3,
   "id": "93700afb",
   "metadata": {},
   "outputs": [],
   "source": [
    "from src.inference import get_feature_store"
   ]
  },
  {
   "cell_type": "code",
   "execution_count": 5,
   "id": "c69cd045",
   "metadata": {},
   "outputs": [
    {
     "name": "stdout",
     "output_type": "stream",
     "text": [
      "2025-05-04 10:34:07,257 INFO: Closing external client and cleaning up certificates.\n",
      "Connection closed.\n",
      "2025-05-04 10:34:07,267 INFO: Initializing external client\n",
      "2025-05-04 10:34:07,268 INFO: Base URL: https://c.app.hopsworks.ai:443\n",
      "2025-05-04 10:34:08,123 INFO: Python Engine initialized.\n",
      "\n",
      "Logged in to project, explore it here https://c.app.hopsworks.ai:443/p/1212635\n",
      "Fetching data from 2025-04-05 10:34:07.257254-04:00 to 2025-05-04 09:34:07.257254-04:00\n",
      "Finished: Reading data from Hopsworks, using Hopsworks Feature Query Service (1.25s) \n"
     ]
    }
   ],
   "source": [
    "from datetime import datetime, timedelta\n",
    "import pandas as pd\n",
    "\n",
    "# Get the current datetime64[us, Etc/UTC]\n",
    "current_date = pd.Timestamp.now(tz=\"US/Eastern\")\n",
    "feature_store = get_feature_store()\n",
    "\n",
    "# read time-series data from the feature store\n",
    "fetch_data_to = current_date - timedelta(hours=1)\n",
    "fetch_data_from = current_date - timedelta(days=1*29)\n",
    "print(f\"Fetching data from {fetch_data_from} to {fetch_data_to}\")\n",
    "feature_view = feature_store.get_feature_view(\n",
    "    name=config.FEATURE_VIEW_NAME, version=config.FEATURE_VIEW_VERSION\n",
    ")\n",
    "\n",
    "ts_data = feature_view.get_batch_data(\n",
    "    start_time=(fetch_data_from - timedelta(days=1)),\n",
    "    end_time=(fetch_data_to + timedelta(days=1)),\n",
    ")\n",
    "ts_data = ts_data[ts_data.start_hour.between(fetch_data_from, fetch_data_to)]"
   ]
  },
  {
   "cell_type": "code",
   "execution_count": 6,
   "id": "08c234c2",
   "metadata": {},
   "outputs": [
    {
     "data": {
      "text/html": [
       "<div>\n",
       "<style scoped>\n",
       "    .dataframe tbody tr th:only-of-type {\n",
       "        vertical-align: middle;\n",
       "    }\n",
       "\n",
       "    .dataframe tbody tr th {\n",
       "        vertical-align: top;\n",
       "    }\n",
       "\n",
       "    .dataframe thead th {\n",
       "        text-align: right;\n",
       "    }\n",
       "</style>\n",
       "<table border=\"1\" class=\"dataframe\">\n",
       "  <thead>\n",
       "    <tr style=\"text-align: right;\">\n",
       "      <th></th>\n",
       "      <th>start_hour</th>\n",
       "      <th>start_station_id</th>\n",
       "      <th>rides</th>\n",
       "    </tr>\n",
       "  </thead>\n",
       "  <tbody>\n",
       "    <tr>\n",
       "      <th>0</th>\n",
       "      <td>2025-04-05 15:00:00+00:00</td>\n",
       "      <td>5905.140137</td>\n",
       "      <td>28</td>\n",
       "    </tr>\n",
       "    <tr>\n",
       "      <th>1</th>\n",
       "      <td>2025-04-05 16:00:00+00:00</td>\n",
       "      <td>5905.140137</td>\n",
       "      <td>37</td>\n",
       "    </tr>\n",
       "    <tr>\n",
       "      <th>2</th>\n",
       "      <td>2025-04-05 17:00:00+00:00</td>\n",
       "      <td>5905.140137</td>\n",
       "      <td>44</td>\n",
       "    </tr>\n",
       "    <tr>\n",
       "      <th>3</th>\n",
       "      <td>2025-04-05 18:00:00+00:00</td>\n",
       "      <td>5905.140137</td>\n",
       "      <td>42</td>\n",
       "    </tr>\n",
       "    <tr>\n",
       "      <th>4</th>\n",
       "      <td>2025-04-05 19:00:00+00:00</td>\n",
       "      <td>5905.140137</td>\n",
       "      <td>72</td>\n",
       "    </tr>\n",
       "    <tr>\n",
       "      <th>...</th>\n",
       "      <td>...</td>\n",
       "      <td>...</td>\n",
       "      <td>...</td>\n",
       "    </tr>\n",
       "    <tr>\n",
       "      <th>2026</th>\n",
       "      <td>2025-05-03 15:00:00+00:00</td>\n",
       "      <td>6822.089844</td>\n",
       "      <td>20</td>\n",
       "    </tr>\n",
       "    <tr>\n",
       "      <th>2027</th>\n",
       "      <td>2025-05-03 16:00:00+00:00</td>\n",
       "      <td>6822.089844</td>\n",
       "      <td>16</td>\n",
       "    </tr>\n",
       "    <tr>\n",
       "      <th>2028</th>\n",
       "      <td>2025-05-03 17:00:00+00:00</td>\n",
       "      <td>6822.089844</td>\n",
       "      <td>25</td>\n",
       "    </tr>\n",
       "    <tr>\n",
       "      <th>2029</th>\n",
       "      <td>2025-05-03 18:00:00+00:00</td>\n",
       "      <td>6822.089844</td>\n",
       "      <td>13</td>\n",
       "    </tr>\n",
       "    <tr>\n",
       "      <th>2030</th>\n",
       "      <td>2025-05-03 19:00:00+00:00</td>\n",
       "      <td>6822.089844</td>\n",
       "      <td>18</td>\n",
       "    </tr>\n",
       "  </tbody>\n",
       "</table>\n",
       "<p>2031 rows × 3 columns</p>\n",
       "</div>"
      ],
      "text/plain": [
       "                    start_hour  start_station_id  rides\n",
       "0    2025-04-05 15:00:00+00:00       5905.140137     28\n",
       "1    2025-04-05 16:00:00+00:00       5905.140137     37\n",
       "2    2025-04-05 17:00:00+00:00       5905.140137     44\n",
       "3    2025-04-05 18:00:00+00:00       5905.140137     42\n",
       "4    2025-04-05 19:00:00+00:00       5905.140137     72\n",
       "...                        ...               ...    ...\n",
       "2026 2025-05-03 15:00:00+00:00       6822.089844     20\n",
       "2027 2025-05-03 16:00:00+00:00       6822.089844     16\n",
       "2028 2025-05-03 17:00:00+00:00       6822.089844     25\n",
       "2029 2025-05-03 18:00:00+00:00       6822.089844     13\n",
       "2030 2025-05-03 19:00:00+00:00       6822.089844     18\n",
       "\n",
       "[2031 rows x 3 columns]"
      ]
     },
     "execution_count": 6,
     "metadata": {},
     "output_type": "execute_result"
    }
   ],
   "source": [
    "ts_data.sort_values([\"start_station_id\", \"start_hour\"]).reset_index(drop=True)"
   ]
  },
  {
   "cell_type": "code",
   "execution_count": 8,
   "id": "96a057af",
   "metadata": {},
   "outputs": [
    {
     "name": "stdout",
     "output_type": "stream",
     "text": [
      "<class 'pandas.core.frame.DataFrame'>\n",
      "Index: 2031 entries, 0 to 2102\n",
      "Data columns (total 3 columns):\n",
      " #   Column            Non-Null Count  Dtype                  \n",
      "---  ------            --------------  -----                  \n",
      " 0   start_hour        2031 non-null   datetime64[us, Etc/UTC]\n",
      " 1   start_station_id  2031 non-null   float32                \n",
      " 2   rides             2031 non-null   int32                  \n",
      "dtypes: datetime64[us, Etc/UTC](1), float32(1), int32(1)\n",
      "memory usage: 47.6 KB\n"
     ]
    }
   ],
   "source": [
    "ts_data.info()"
   ]
  },
  {
   "cell_type": "code",
   "execution_count": 9,
   "id": "e919b01c",
   "metadata": {},
   "outputs": [],
   "source": [
    "ts_data[\"start_hour\"] = ts_data[\"start_hour\"].dt.tz_convert(\"US/Eastern\")"
   ]
  },
  {
   "cell_type": "code",
   "execution_count": 10,
   "id": "5286a8ff",
   "metadata": {},
   "outputs": [
    {
     "data": {
      "text/html": [
       "<div>\n",
       "<style scoped>\n",
       "    .dataframe tbody tr th:only-of-type {\n",
       "        vertical-align: middle;\n",
       "    }\n",
       "\n",
       "    .dataframe tbody tr th {\n",
       "        vertical-align: top;\n",
       "    }\n",
       "\n",
       "    .dataframe thead th {\n",
       "        text-align: right;\n",
       "    }\n",
       "</style>\n",
       "<table border=\"1\" class=\"dataframe\">\n",
       "  <thead>\n",
       "    <tr style=\"text-align: right;\">\n",
       "      <th></th>\n",
       "      <th>start_hour</th>\n",
       "      <th>start_station_id</th>\n",
       "      <th>rides</th>\n",
       "    </tr>\n",
       "  </thead>\n",
       "  <tbody>\n",
       "    <tr>\n",
       "      <th>0</th>\n",
       "      <td>2025-04-05 11:00:00-04:00</td>\n",
       "      <td>5905.140137</td>\n",
       "      <td>28</td>\n",
       "    </tr>\n",
       "    <tr>\n",
       "      <th>1</th>\n",
       "      <td>2025-04-05 12:00:00-04:00</td>\n",
       "      <td>5905.140137</td>\n",
       "      <td>37</td>\n",
       "    </tr>\n",
       "    <tr>\n",
       "      <th>2</th>\n",
       "      <td>2025-04-05 13:00:00-04:00</td>\n",
       "      <td>5905.140137</td>\n",
       "      <td>44</td>\n",
       "    </tr>\n",
       "    <tr>\n",
       "      <th>3</th>\n",
       "      <td>2025-04-05 14:00:00-04:00</td>\n",
       "      <td>5905.140137</td>\n",
       "      <td>42</td>\n",
       "    </tr>\n",
       "    <tr>\n",
       "      <th>4</th>\n",
       "      <td>2025-04-05 15:00:00-04:00</td>\n",
       "      <td>5905.140137</td>\n",
       "      <td>72</td>\n",
       "    </tr>\n",
       "    <tr>\n",
       "      <th>...</th>\n",
       "      <td>...</td>\n",
       "      <td>...</td>\n",
       "      <td>...</td>\n",
       "    </tr>\n",
       "    <tr>\n",
       "      <th>2026</th>\n",
       "      <td>2025-05-03 11:00:00-04:00</td>\n",
       "      <td>6822.089844</td>\n",
       "      <td>20</td>\n",
       "    </tr>\n",
       "    <tr>\n",
       "      <th>2027</th>\n",
       "      <td>2025-05-03 12:00:00-04:00</td>\n",
       "      <td>6822.089844</td>\n",
       "      <td>16</td>\n",
       "    </tr>\n",
       "    <tr>\n",
       "      <th>2028</th>\n",
       "      <td>2025-05-03 13:00:00-04:00</td>\n",
       "      <td>6822.089844</td>\n",
       "      <td>25</td>\n",
       "    </tr>\n",
       "    <tr>\n",
       "      <th>2029</th>\n",
       "      <td>2025-05-03 14:00:00-04:00</td>\n",
       "      <td>6822.089844</td>\n",
       "      <td>13</td>\n",
       "    </tr>\n",
       "    <tr>\n",
       "      <th>2030</th>\n",
       "      <td>2025-05-03 15:00:00-04:00</td>\n",
       "      <td>6822.089844</td>\n",
       "      <td>18</td>\n",
       "    </tr>\n",
       "  </tbody>\n",
       "</table>\n",
       "<p>2031 rows × 3 columns</p>\n",
       "</div>"
      ],
      "text/plain": [
       "                    start_hour  start_station_id  rides\n",
       "0    2025-04-05 11:00:00-04:00       5905.140137     28\n",
       "1    2025-04-05 12:00:00-04:00       5905.140137     37\n",
       "2    2025-04-05 13:00:00-04:00       5905.140137     44\n",
       "3    2025-04-05 14:00:00-04:00       5905.140137     42\n",
       "4    2025-04-05 15:00:00-04:00       5905.140137     72\n",
       "...                        ...               ...    ...\n",
       "2026 2025-05-03 11:00:00-04:00       6822.089844     20\n",
       "2027 2025-05-03 12:00:00-04:00       6822.089844     16\n",
       "2028 2025-05-03 13:00:00-04:00       6822.089844     25\n",
       "2029 2025-05-03 14:00:00-04:00       6822.089844     13\n",
       "2030 2025-05-03 15:00:00-04:00       6822.089844     18\n",
       "\n",
       "[2031 rows x 3 columns]"
      ]
     },
     "execution_count": 10,
     "metadata": {},
     "output_type": "execute_result"
    }
   ],
   "source": [
    "ts_data.sort_values([\"start_station_id\", \"start_hour\"]).reset_index(drop=True)"
   ]
  },
  {
   "cell_type": "code",
   "execution_count": 11,
   "id": "8a356dd8",
   "metadata": {},
   "outputs": [
    {
     "name": "stdout",
     "output_type": "stream",
     "text": [
      "<class 'pandas.core.frame.DataFrame'>\n",
      "Index: 2031 entries, 0 to 2102\n",
      "Data columns (total 3 columns):\n",
      " #   Column            Non-Null Count  Dtype                     \n",
      "---  ------            --------------  -----                     \n",
      " 0   start_hour        2031 non-null   datetime64[us, US/Eastern]\n",
      " 1   start_station_id  2031 non-null   float32                   \n",
      " 2   rides             2031 non-null   int32                     \n",
      "dtypes: datetime64[us, US/Eastern](1), float32(1), int32(1)\n",
      "memory usage: 47.6 KB\n"
     ]
    }
   ],
   "source": [
    "ts_data.info()"
   ]
  },
  {
   "cell_type": "code",
   "execution_count": 12,
   "id": "f6ea5a93",
   "metadata": {},
   "outputs": [],
   "source": [
    "from src.data_utils import transform_ts_data_into_features_and_target_loop\n",
    "\n",
    "features, targets = transform_ts_data_into_features_and_target_loop(ts_data, window_size=24*28, step_size=23)"
   ]
  },
  {
   "cell_type": "code",
   "execution_count": 13,
   "id": "f2ba2d4b",
   "metadata": {},
   "outputs": [
    {
     "data": {
      "text/html": [
       "<div>\n",
       "<style scoped>\n",
       "    .dataframe tbody tr th:only-of-type {\n",
       "        vertical-align: middle;\n",
       "    }\n",
       "\n",
       "    .dataframe tbody tr th {\n",
       "        vertical-align: top;\n",
       "    }\n",
       "\n",
       "    .dataframe thead th {\n",
       "        text-align: right;\n",
       "    }\n",
       "</style>\n",
       "<table border=\"1\" class=\"dataframe\">\n",
       "  <thead>\n",
       "    <tr style=\"text-align: right;\">\n",
       "      <th></th>\n",
       "      <th>rides_t-672</th>\n",
       "      <th>rides_t-671</th>\n",
       "      <th>rides_t-670</th>\n",
       "      <th>rides_t-669</th>\n",
       "      <th>rides_t-668</th>\n",
       "      <th>rides_t-667</th>\n",
       "      <th>rides_t-666</th>\n",
       "      <th>rides_t-665</th>\n",
       "      <th>rides_t-664</th>\n",
       "      <th>rides_t-663</th>\n",
       "      <th>...</th>\n",
       "      <th>rides_t-8</th>\n",
       "      <th>rides_t-7</th>\n",
       "      <th>rides_t-6</th>\n",
       "      <th>rides_t-5</th>\n",
       "      <th>rides_t-4</th>\n",
       "      <th>rides_t-3</th>\n",
       "      <th>rides_t-2</th>\n",
       "      <th>rides_t-1</th>\n",
       "      <th>start_hour</th>\n",
       "      <th>start_station_id</th>\n",
       "    </tr>\n",
       "  </thead>\n",
       "  <tbody>\n",
       "    <tr>\n",
       "      <th>0</th>\n",
       "      <td>17</td>\n",
       "      <td>4</td>\n",
       "      <td>26</td>\n",
       "      <td>4</td>\n",
       "      <td>2</td>\n",
       "      <td>82</td>\n",
       "      <td>16</td>\n",
       "      <td>2</td>\n",
       "      <td>16</td>\n",
       "      <td>0</td>\n",
       "      <td>...</td>\n",
       "      <td>10</td>\n",
       "      <td>9</td>\n",
       "      <td>1</td>\n",
       "      <td>1</td>\n",
       "      <td>4</td>\n",
       "      <td>15</td>\n",
       "      <td>4</td>\n",
       "      <td>22</td>\n",
       "      <td>2025-04-27 03:00:00</td>\n",
       "      <td>6822.089844</td>\n",
       "    </tr>\n",
       "    <tr>\n",
       "      <th>1</th>\n",
       "      <td>21</td>\n",
       "      <td>5</td>\n",
       "      <td>47</td>\n",
       "      <td>1</td>\n",
       "      <td>8</td>\n",
       "      <td>34</td>\n",
       "      <td>1</td>\n",
       "      <td>1</td>\n",
       "      <td>3</td>\n",
       "      <td>10</td>\n",
       "      <td>...</td>\n",
       "      <td>39</td>\n",
       "      <td>27</td>\n",
       "      <td>68</td>\n",
       "      <td>61</td>\n",
       "      <td>29</td>\n",
       "      <td>8</td>\n",
       "      <td>26</td>\n",
       "      <td>69</td>\n",
       "      <td>2025-04-11 01:00:00</td>\n",
       "      <td>5905.140137</td>\n",
       "    </tr>\n",
       "    <tr>\n",
       "      <th>2</th>\n",
       "      <td>1</td>\n",
       "      <td>40</td>\n",
       "      <td>67</td>\n",
       "      <td>28</td>\n",
       "      <td>17</td>\n",
       "      <td>42</td>\n",
       "      <td>0</td>\n",
       "      <td>0</td>\n",
       "      <td>64</td>\n",
       "      <td>4</td>\n",
       "      <td>...</td>\n",
       "      <td>4</td>\n",
       "      <td>35</td>\n",
       "      <td>25</td>\n",
       "      <td>0</td>\n",
       "      <td>67</td>\n",
       "      <td>2</td>\n",
       "      <td>0</td>\n",
       "      <td>39</td>\n",
       "      <td>2025-04-28 16:00:00</td>\n",
       "      <td>6140.049805</td>\n",
       "    </tr>\n",
       "  </tbody>\n",
       "</table>\n",
       "<p>3 rows × 674 columns</p>\n",
       "</div>"
      ],
      "text/plain": [
       "   rides_t-672  rides_t-671  rides_t-670  rides_t-669  rides_t-668  \\\n",
       "0           17            4           26            4            2   \n",
       "1           21            5           47            1            8   \n",
       "2            1           40           67           28           17   \n",
       "\n",
       "   rides_t-667  rides_t-666  rides_t-665  rides_t-664  rides_t-663  ...  \\\n",
       "0           82           16            2           16            0  ...   \n",
       "1           34            1            1            3           10  ...   \n",
       "2           42            0            0           64            4  ...   \n",
       "\n",
       "   rides_t-8  rides_t-7  rides_t-6  rides_t-5  rides_t-4  rides_t-3  \\\n",
       "0         10          9          1          1          4         15   \n",
       "1         39         27         68         61         29          8   \n",
       "2          4         35         25          0         67          2   \n",
       "\n",
       "   rides_t-2  rides_t-1          start_hour  start_station_id  \n",
       "0          4         22 2025-04-27 03:00:00       6822.089844  \n",
       "1         26         69 2025-04-11 01:00:00       5905.140137  \n",
       "2          0         39 2025-04-28 16:00:00       6140.049805  \n",
       "\n",
       "[3 rows x 674 columns]"
      ]
     },
     "execution_count": 13,
     "metadata": {},
     "output_type": "execute_result"
    }
   ],
   "source": [
    "features"
   ]
  },
  {
   "cell_type": "code",
   "execution_count": 14,
   "id": "39e7e3d9",
   "metadata": {},
   "outputs": [
    {
     "name": "stdout",
     "output_type": "stream",
     "text": [
      "<class 'pandas.core.frame.DataFrame'>\n",
      "RangeIndex: 3 entries, 0 to 2\n",
      "Columns: 674 entries, rides_t-672 to start_station_id\n",
      "dtypes: datetime64[ns](1), float32(1), int64(672)\n",
      "memory usage: 15.9 KB\n"
     ]
    }
   ],
   "source": [
    "features.info()"
   ]
  },
  {
   "cell_type": "code",
   "execution_count": 15,
   "id": "021653c5",
   "metadata": {},
   "outputs": [
    {
     "name": "stdout",
     "output_type": "stream",
     "text": [
      "2025-05-04 10:44:36,050 INFO: Closing external client and cleaning up certificates.\n",
      "Connection closed.\n",
      "2025-05-04 10:44:36,058 INFO: Initializing external client\n",
      "2025-05-04 10:44:36,058 INFO: Base URL: https://c.app.hopsworks.ai:443\n",
      "2025-05-04 10:44:36,949 INFO: Python Engine initialized.\n",
      "\n",
      "Logged in to project, explore it here https://c.app.hopsworks.ai:443/p/1212635\n",
      "Fetching data from 2025-04-05 10:44:36.050852-04:00 to 2025-05-04 09:44:36.050852-04:00\n",
      "Finished: Reading data from Hopsworks, using Hopsworks Feature Query Service (1.39s) \n"
     ]
    }
   ],
   "source": [
    "from src.inference import load_batch_of_features_from_store\n",
    "current_date = pd.Timestamp.now(tz='US/Eastern')\n",
    "features = load_batch_of_features_from_store(current_date)"
   ]
  },
  {
   "cell_type": "code",
   "execution_count": 16,
   "id": "73be09d6",
   "metadata": {},
   "outputs": [
    {
     "data": {
      "text/plain": [
       "Timestamp('2025-05-04 10:44:36.050852-0400', tz='US/Eastern')"
      ]
     },
     "execution_count": 16,
     "metadata": {},
     "output_type": "execute_result"
    }
   ],
   "source": [
    "current_date"
   ]
  },
  {
   "cell_type": "code",
   "execution_count": 17,
   "id": "4d002a7a",
   "metadata": {},
   "outputs": [
    {
     "data": {
      "text/html": [
       "<div>\n",
       "<style scoped>\n",
       "    .dataframe tbody tr th:only-of-type {\n",
       "        vertical-align: middle;\n",
       "    }\n",
       "\n",
       "    .dataframe tbody tr th {\n",
       "        vertical-align: top;\n",
       "    }\n",
       "\n",
       "    .dataframe thead th {\n",
       "        text-align: right;\n",
       "    }\n",
       "</style>\n",
       "<table border=\"1\" class=\"dataframe\">\n",
       "  <thead>\n",
       "    <tr style=\"text-align: right;\">\n",
       "      <th></th>\n",
       "      <th>rides_t-672</th>\n",
       "      <th>rides_t-671</th>\n",
       "      <th>rides_t-670</th>\n",
       "      <th>rides_t-669</th>\n",
       "      <th>rides_t-668</th>\n",
       "      <th>rides_t-667</th>\n",
       "      <th>rides_t-666</th>\n",
       "      <th>rides_t-665</th>\n",
       "      <th>rides_t-664</th>\n",
       "      <th>rides_t-663</th>\n",
       "      <th>...</th>\n",
       "      <th>rides_t-8</th>\n",
       "      <th>rides_t-7</th>\n",
       "      <th>rides_t-6</th>\n",
       "      <th>rides_t-5</th>\n",
       "      <th>rides_t-4</th>\n",
       "      <th>rides_t-3</th>\n",
       "      <th>rides_t-2</th>\n",
       "      <th>rides_t-1</th>\n",
       "      <th>start_hour</th>\n",
       "      <th>start_station_id</th>\n",
       "    </tr>\n",
       "  </thead>\n",
       "  <tbody>\n",
       "    <tr>\n",
       "      <th>0</th>\n",
       "      <td>28</td>\n",
       "      <td>37</td>\n",
       "      <td>44</td>\n",
       "      <td>42</td>\n",
       "      <td>72</td>\n",
       "      <td>38</td>\n",
       "      <td>54</td>\n",
       "      <td>43</td>\n",
       "      <td>23</td>\n",
       "      <td>19</td>\n",
       "      <td>...</td>\n",
       "      <td>3</td>\n",
       "      <td>3</td>\n",
       "      <td>3</td>\n",
       "      <td>3</td>\n",
       "      <td>6</td>\n",
       "      <td>17</td>\n",
       "      <td>32</td>\n",
       "      <td>35</td>\n",
       "      <td>2025-05-03 15:00:00</td>\n",
       "      <td>5905.140137</td>\n",
       "    </tr>\n",
       "    <tr>\n",
       "      <th>1</th>\n",
       "      <td>29</td>\n",
       "      <td>40</td>\n",
       "      <td>31</td>\n",
       "      <td>39</td>\n",
       "      <td>23</td>\n",
       "      <td>28</td>\n",
       "      <td>37</td>\n",
       "      <td>29</td>\n",
       "      <td>13</td>\n",
       "      <td>13</td>\n",
       "      <td>...</td>\n",
       "      <td>4</td>\n",
       "      <td>2</td>\n",
       "      <td>2</td>\n",
       "      <td>4</td>\n",
       "      <td>4</td>\n",
       "      <td>14</td>\n",
       "      <td>18</td>\n",
       "      <td>33</td>\n",
       "      <td>2025-05-03 15:00:00</td>\n",
       "      <td>6140.049805</td>\n",
       "    </tr>\n",
       "    <tr>\n",
       "      <th>2</th>\n",
       "      <td>17</td>\n",
       "      <td>11</td>\n",
       "      <td>12</td>\n",
       "      <td>20</td>\n",
       "      <td>10</td>\n",
       "      <td>5</td>\n",
       "      <td>15</td>\n",
       "      <td>9</td>\n",
       "      <td>10</td>\n",
       "      <td>10</td>\n",
       "      <td>...</td>\n",
       "      <td>0</td>\n",
       "      <td>3</td>\n",
       "      <td>0</td>\n",
       "      <td>4</td>\n",
       "      <td>12</td>\n",
       "      <td>14</td>\n",
       "      <td>8</td>\n",
       "      <td>23</td>\n",
       "      <td>2025-05-03 15:00:00</td>\n",
       "      <td>6822.089844</td>\n",
       "    </tr>\n",
       "  </tbody>\n",
       "</table>\n",
       "<p>3 rows × 674 columns</p>\n",
       "</div>"
      ],
      "text/plain": [
       "   rides_t-672  rides_t-671  rides_t-670  rides_t-669  rides_t-668  \\\n",
       "0           28           37           44           42           72   \n",
       "1           29           40           31           39           23   \n",
       "2           17           11           12           20           10   \n",
       "\n",
       "   rides_t-667  rides_t-666  rides_t-665  rides_t-664  rides_t-663  ...  \\\n",
       "0           38           54           43           23           19  ...   \n",
       "1           28           37           29           13           13  ...   \n",
       "2            5           15            9           10           10  ...   \n",
       "\n",
       "   rides_t-8  rides_t-7  rides_t-6  rides_t-5  rides_t-4  rides_t-3  \\\n",
       "0          3          3          3          3          6         17   \n",
       "1          4          2          2          4          4         14   \n",
       "2          0          3          0          4         12         14   \n",
       "\n",
       "   rides_t-2  rides_t-1          start_hour  start_station_id  \n",
       "0         32         35 2025-05-03 15:00:00       5905.140137  \n",
       "1         18         33 2025-05-03 15:00:00       6140.049805  \n",
       "2          8         23 2025-05-03 15:00:00       6822.089844  \n",
       "\n",
       "[3 rows x 674 columns]"
      ]
     },
     "execution_count": 17,
     "metadata": {},
     "output_type": "execute_result"
    }
   ],
   "source": [
    "features"
   ]
  },
  {
   "cell_type": "code",
   "execution_count": 18,
   "id": "62eaf371",
   "metadata": {},
   "outputs": [
    {
     "name": "stdout",
     "output_type": "stream",
     "text": [
      "2025-05-04 10:45:50,637 INFO: Closing external client and cleaning up certificates.\n",
      "Connection closed.\n",
      "2025-05-04 10:45:50,643 INFO: Initializing external client\n",
      "2025-05-04 10:45:50,643 INFO: Base URL: https://c.app.hopsworks.ai:443\n",
      "2025-05-04 10:45:51,412 INFO: Python Engine initialized.\n",
      "\n",
      "Logged in to project, explore it here https://c.app.hopsworks.ai:443/p/1212635\n"
     ]
    },
    {
     "data": {
      "application/vnd.jupyter.widget-view+json": {
       "model_id": "f2feff0908eb4bb7bb46724975b1dad9",
       "version_major": 2,
       "version_minor": 0
      },
      "text/plain": [
       "Downloading: 0.000%|          | 0/318399 elapsed<00:00 remaining<?"
      ]
     },
     "metadata": {},
     "output_type": "display_data"
    },
    {
     "name": "stdout",
     "output_type": "stream",
     "text": [
      "2025-05-04 10:45:53,693 INFO: Closing external client and cleaning up certificates.\n",
      "Connection closed.\n",
      "2025-05-04 10:45:53,703 INFO: Initializing external client\n",
      "2025-05-04 10:45:53,704 INFO: Base URL: https://c.app.hopsworks.ai:443\n",
      "2025-05-04 10:45:54,488 INFO: Python Engine initialized.\n",
      "\n",
      "Logged in to project, explore it here https://c.app.hopsworks.ai:443/p/1212635\n"
     ]
    },
    {
     "data": {
      "application/vnd.jupyter.widget-view+json": {
       "model_id": "cac057ab498e433897a700996e31b6a4",
       "version_major": 2,
       "version_minor": 0
      },
      "text/plain": [
       "Downloading: 0.000%|          | 0/318361 elapsed<00:00 remaining<?"
      ]
     },
     "metadata": {},
     "output_type": "display_data"
    },
    {
     "name": "stdout",
     "output_type": "stream",
     "text": [
      "2025-05-04 10:45:55,943 INFO: Closing external client and cleaning up certificates.\n",
      "Connection closed.\n",
      "2025-05-04 10:45:55,949 INFO: Initializing external client\n",
      "2025-05-04 10:45:55,950 INFO: Base URL: https://c.app.hopsworks.ai:443\n",
      "2025-05-04 10:45:56,755 INFO: Python Engine initialized.\n",
      "\n",
      "Logged in to project, explore it here https://c.app.hopsworks.ai:443/p/1212635\n"
     ]
    },
    {
     "data": {
      "application/vnd.jupyter.widget-view+json": {
       "model_id": "9e1876e374944dcf9dd5612b98533dbd",
       "version_major": 2,
       "version_minor": 0
      },
      "text/plain": [
       "Downloading: 0.000%|          | 0/319572 elapsed<00:00 remaining<?"
      ]
     },
     "metadata": {},
     "output_type": "display_data"
    },
    {
     "name": "stdout",
     "output_type": "stream",
     "text": [
      "Downloading model artifact (0 dirs, 1 files)... DONE\r"
     ]
    }
   ],
   "source": [
    "from src.inference import load_model_from_registry\n",
    "\n",
    "model_5905 = load_model_from_registry(station_id=5905)\n",
    "model_6140 = load_model_from_registry(station_id=6140)\n",
    "model_6822 = load_model_from_registry(station_id=6822)"
   ]
  },
  {
   "cell_type": "code",
   "execution_count": 19,
   "id": "7c7bba3e",
   "metadata": {},
   "outputs": [
    {
     "name": "stderr",
     "output_type": "stream",
     "text": [
      "SettingWithCopyWarning: \n",
      "A value is trying to be set on a copy of a slice from a DataFrame.\n",
      "Try using .loc[row_indexer,col_indexer] = value instead\n",
      "\n",
      "See the caveats in the documentation: https://pandas.pydata.org/pandas-docs/stable/user_guide/indexing.html#returning-a-view-versus-a-copy\n",
      "SettingWithCopyWarning: \n",
      "A value is trying to be set on a copy of a slice from a DataFrame.\n",
      "Try using .loc[row_indexer,col_indexer] = value instead\n",
      "\n",
      "See the caveats in the documentation: https://pandas.pydata.org/pandas-docs/stable/user_guide/indexing.html#returning-a-view-versus-a-copy\n",
      "SettingWithCopyWarning: \n",
      "A value is trying to be set on a copy of a slice from a DataFrame.\n",
      "Try using .loc[row_indexer,col_indexer] = value instead\n",
      "\n",
      "See the caveats in the documentation: https://pandas.pydata.org/pandas-docs/stable/user_guide/indexing.html#returning-a-view-versus-a-copy\n"
     ]
    }
   ],
   "source": [
    "from src.inference import get_model_predictions\n",
    "\n",
    "predictions_5905 = get_model_predictions(model_5905, features[features[\"start_station_id\"] == 5905.140137])\n",
    "predictions_6140 = get_model_predictions(model_6140, features[features[\"start_station_id\"] == 6140.049805])\n",
    "predictions_6822 = get_model_predictions(model_6822, features[features[\"start_station_id\"] == 6822.089844])"
   ]
  },
  {
   "cell_type": "code",
   "execution_count": 20,
   "id": "6d577c6c",
   "metadata": {},
   "outputs": [
    {
     "data": {
      "text/html": [
       "<div>\n",
       "<style scoped>\n",
       "    .dataframe tbody tr th:only-of-type {\n",
       "        vertical-align: middle;\n",
       "    }\n",
       "\n",
       "    .dataframe tbody tr th {\n",
       "        vertical-align: top;\n",
       "    }\n",
       "\n",
       "    .dataframe thead th {\n",
       "        text-align: right;\n",
       "    }\n",
       "</style>\n",
       "<table border=\"1\" class=\"dataframe\">\n",
       "  <thead>\n",
       "    <tr style=\"text-align: right;\">\n",
       "      <th></th>\n",
       "      <th>start_station_id</th>\n",
       "      <th>predicted_demand</th>\n",
       "    </tr>\n",
       "  </thead>\n",
       "  <tbody>\n",
       "    <tr>\n",
       "      <th>0</th>\n",
       "      <td>5905.140137</td>\n",
       "      <td>42.0</td>\n",
       "    </tr>\n",
       "  </tbody>\n",
       "</table>\n",
       "</div>"
      ],
      "text/plain": [
       "   start_station_id  predicted_demand\n",
       "0       5905.140137              42.0"
      ]
     },
     "execution_count": 20,
     "metadata": {},
     "output_type": "execute_result"
    }
   ],
   "source": [
    "predictions_5905"
   ]
  },
  {
   "cell_type": "code",
   "execution_count": 21,
   "id": "e6614195",
   "metadata": {},
   "outputs": [
    {
     "data": {
      "text/html": [
       "<div>\n",
       "<style scoped>\n",
       "    .dataframe tbody tr th:only-of-type {\n",
       "        vertical-align: middle;\n",
       "    }\n",
       "\n",
       "    .dataframe tbody tr th {\n",
       "        vertical-align: top;\n",
       "    }\n",
       "\n",
       "    .dataframe thead th {\n",
       "        text-align: right;\n",
       "    }\n",
       "</style>\n",
       "<table border=\"1\" class=\"dataframe\">\n",
       "  <thead>\n",
       "    <tr style=\"text-align: right;\">\n",
       "      <th></th>\n",
       "      <th>start_station_id</th>\n",
       "      <th>predicted_demand</th>\n",
       "    </tr>\n",
       "  </thead>\n",
       "  <tbody>\n",
       "    <tr>\n",
       "      <th>0</th>\n",
       "      <td>6140.049805</td>\n",
       "      <td>28.0</td>\n",
       "    </tr>\n",
       "  </tbody>\n",
       "</table>\n",
       "</div>"
      ],
      "text/plain": [
       "   start_station_id  predicted_demand\n",
       "0       6140.049805              28.0"
      ]
     },
     "execution_count": 21,
     "metadata": {},
     "output_type": "execute_result"
    }
   ],
   "source": [
    "predictions_6140"
   ]
  },
  {
   "cell_type": "code",
   "execution_count": 22,
   "id": "2b75b2e6",
   "metadata": {},
   "outputs": [
    {
     "data": {
      "text/html": [
       "<div>\n",
       "<style scoped>\n",
       "    .dataframe tbody tr th:only-of-type {\n",
       "        vertical-align: middle;\n",
       "    }\n",
       "\n",
       "    .dataframe tbody tr th {\n",
       "        vertical-align: top;\n",
       "    }\n",
       "\n",
       "    .dataframe thead th {\n",
       "        text-align: right;\n",
       "    }\n",
       "</style>\n",
       "<table border=\"1\" class=\"dataframe\">\n",
       "  <thead>\n",
       "    <tr style=\"text-align: right;\">\n",
       "      <th></th>\n",
       "      <th>start_station_id</th>\n",
       "      <th>predicted_demand</th>\n",
       "    </tr>\n",
       "  </thead>\n",
       "  <tbody>\n",
       "    <tr>\n",
       "      <th>0</th>\n",
       "      <td>6822.089844</td>\n",
       "      <td>13.0</td>\n",
       "    </tr>\n",
       "  </tbody>\n",
       "</table>\n",
       "</div>"
      ],
      "text/plain": [
       "   start_station_id  predicted_demand\n",
       "0       6822.089844              13.0"
      ]
     },
     "execution_count": 22,
     "metadata": {},
     "output_type": "execute_result"
    }
   ],
   "source": [
    "predictions_6822"
   ]
  },
  {
   "cell_type": "code",
   "execution_count": 23,
   "id": "3c9e57f7",
   "metadata": {},
   "outputs": [
    {
     "data": {
      "text/plain": [
       "array([5905.14, 6140.05, 6822.09], dtype=float32)"
      ]
     },
     "execution_count": 23,
     "metadata": {},
     "output_type": "execute_result"
    }
   ],
   "source": [
    "predictions = pd.concat([predictions_5905, predictions_6140, predictions_6822], ignore_index=True)\n",
    "predictions.sort_values(\"predicted_demand\", ascending=False).head(10)[\"start_station_id\"].values"
   ]
  }
 ],
 "metadata": {
  "kernelspec": {
   "display_name": "citi",
   "language": "python",
   "name": "python3"
  },
  "language_info": {
   "codemirror_mode": {
    "name": "ipython",
    "version": 3
   },
   "file_extension": ".py",
   "mimetype": "text/x-python",
   "name": "python",
   "nbconvert_exporter": "python",
   "pygments_lexer": "ipython3",
   "version": "3.11.11"
  }
 },
 "nbformat": 4,
 "nbformat_minor": 5
}
