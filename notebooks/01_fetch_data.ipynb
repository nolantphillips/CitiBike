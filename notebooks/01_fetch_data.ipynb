{
 "cells": [
  {
   "cell_type": "code",
   "execution_count": 10,
   "id": "28403412",
   "metadata": {},
   "outputs": [],
   "source": [
    "from pathlib import Path\n",
    "import pandas as pd\n",
    "from io import BytesIO\n",
    "import zipfile\n",
    "import requests\n",
    "import os"
   ]
  },
  {
   "cell_type": "code",
   "execution_count": 38,
   "id": "1984896b",
   "metadata": {},
   "outputs": [],
   "source": [
    "def fetch_raw_data(year:int, month:int) -> str:\n",
    "    if (year == 2024 and month in range(1, 5)) or (year == 2025 and month == 3):\n",
    "        url = f\"https://s3.amazonaws.com/tripdata/{year}{month:02}-citibike-tripdata.csv.zip\"\n",
    "\n",
    "        response = requests.get(url)\n",
    "        if response.status_code == 200:\n",
    "            path = Path('..') / 'data' / 'raw' / f\"citi_rides_{year}_{month:02}.parquet\"\n",
    "            path.parent.mkdir(parents=True, exist_ok=True)\n",
    "\n",
    "            with zipfile.ZipFile(BytesIO(response.content)) as z:\n",
    "                csv_files = [f for f in z.namelist() if f.lower().endswith('.csv') and 'macosx' not in f.lower()]\n",
    "\n",
    "                if not csv_files:\n",
    "                    print(\"No CSV files found in zip file\")\n",
    "                else:\n",
    "                    dfs = []\n",
    "                    for csv_file in csv_files:\n",
    "                        with z.open(csv_file) as f:\n",
    "                            df = pd.read_csv(f)\n",
    "                            for col in ['start_station_id', 'end_station_id']:\n",
    "                                if col in df.columns:\n",
    "                                    df[col] = df[col].astype(str)\n",
    "\n",
    "                            dfs.append(df)\n",
    "\n",
    "                    if dfs:\n",
    "                        combined_df = pd.concat(dfs, ignore_index=True)\n",
    "                        combined_df.to_parquet(path, index=False)\n",
    "                        print(f\"Saved {len(combined_df)} rows to {path}\")\n",
    "                        return str(path)\n",
    "        else:\n",
    "            print(\"Incorrect URL\")\n",
    "\n",
    "    elif (year >= 2024 and month in range (5, 13)) or (year == 2025 and month in (1, 2)):\n",
    "        url = f\"https://s3.amazonaws.com/tripdata/{year}{month:02}-citibike-tripdata.zip\"\n",
    "\n",
    "        response = requests.get(url)\n",
    "        if response.status_code == 200:\n",
    "            path = Path('..') / 'data' / 'raw' / f\"citi_rides_{year}_{month:02}.parquet\"\n",
    "            path.parent.mkdir(parents=True, exist_ok=True)\n",
    "\n",
    "            with zipfile.ZipFile(BytesIO(response.content)) as z:\n",
    "                csv_files = [f for f in z.namelist() if f.lower().endswith('.csv') and 'macosx' not in f.lower()]\n",
    "\n",
    "                if not csv_files:\n",
    "                    print(\"No CSV files found in zip file\")\n",
    "                else:\n",
    "                    dfs = []\n",
    "                    for csv_file in csv_files:\n",
    "                        with z.open(csv_file) as f:\n",
    "                            df = pd.read_csv(f)\n",
    "                            for col in ['start_station_id', 'end_station_id']:\n",
    "                                if col in df.columns:\n",
    "                                    df[col] = df[col].astype(str)\n",
    "\n",
    "                            dfs.append(df)\n",
    "\n",
    "                    if dfs:\n",
    "                        combined_df = pd.concat(dfs, ignore_index=True)\n",
    "                        combined_df.to_parquet(path, index=False)\n",
    "                        print(f\"Saved {len(combined_df)} rows to {path}\")\n",
    "                        return str(path)\n",
    "        else:\n",
    "            print(\"Incorrect URL\")\n",
    "\n",
    "    elif year < 2024:\n",
    "        url = f\"https://s3.amazonaws.com/tripdata/{year}-citibike-tripdata.zip\"\n",
    "\n",
    "        response = requests.get(url)\n",
    "        if response.status_code == 200:\n",
    "            path = Path('..') / 'data' / 'raw' / f\"citi_rides_{year}_{month:02}.parquet\"\n",
    "            path.parent.mkdir(parents=True, exist_ok=True)\n",
    "\n",
    "            outer_zip = zipfile.ZipFile(BytesIO(response.content))\n",
    "            target_month_prefix = f\"{year}{month:02}\"\n",
    "            monthly_zip_name = next(\n",
    "                (f for f in outer_zip.namelist()\n",
    "                 if f.endswith('.zip') and target_month_prefix in f and 'macosx' not in f.lower()),\n",
    "                 None\n",
    "            )\n",
    "\n",
    "            if not monthly_zip_name:\n",
    "                print(f\"No zip found for {target_month_prefix}\")\n",
    "        \n",
    "            with outer_zip.open(monthly_zip_name) as nested_zip_file:\n",
    "                with zipfile.ZipFile(BytesIO(nested_zip_file.read())) as inner_zip:\n",
    "                    csv_files = [f for f in inner_zip.namelist()\n",
    "                                if f.endswith('.csv') and 'macosx' not in f.lower()]\n",
    "                    dfs = []\n",
    "\n",
    "                    for csv_file in csv_files:\n",
    "                        with inner_zip.open(csv_file) as f:\n",
    "                            df = pd.read_csv(f)\n",
    "\n",
    "                            for col in ['start_station_id', 'end_station_id']:\n",
    "                                if col in df.columns:\n",
    "                                    df[col] = df[col].astype(str)\n",
    "\n",
    "                            dfs.append(df)\n",
    "\n",
    "                    if dfs:\n",
    "                        combined_df = pd.concat(dfs, ignore_index=True)\n",
    "                        combined_df.to_parquet(path, index=False)\n",
    "                        print(f\"Saved {len(combined_df)} rows to {path}\")\n",
    "                        return str(path)\n",
    "                    else:\n",
    "                        print(\"No CSV files found in the inner ZIP.\")\n",
    "        else:\n",
    "            print(\"File not found\")"
   ]
  },
  {
   "cell_type": "code",
   "execution_count": 27,
   "id": "76b45563",
   "metadata": {},
   "outputs": [
    {
     "name": "stderr",
     "output_type": "stream",
     "text": [
      "C:\\Users\\nolan\\AppData\\Local\\Temp\\ipykernel_9916\\1099655789.py:53: DtypeWarning: Columns (5,7) have mixed types. Specify dtype option on import or set low_memory=False.\n",
      "  df = pd.read_csv(f)\n",
      "C:\\Users\\nolan\\AppData\\Local\\Temp\\ipykernel_9916\\1099655789.py:53: DtypeWarning: Columns (5,7) have mixed types. Specify dtype option on import or set low_memory=False.\n",
      "  df = pd.read_csv(f)\n"
     ]
    },
    {
     "name": "stdout",
     "output_type": "stream",
     "text": [
      "Saved 1795412 rows to ..\\data\\raw\\citi_rides_2023_01.parquet\n"
     ]
    },
    {
     "data": {
      "text/plain": [
       "'..\\\\data\\\\raw\\\\citi_rides_2023_01.parquet'"
      ]
     },
     "execution_count": 27,
     "metadata": {},
     "output_type": "execute_result"
    }
   ],
   "source": [
    "fetch_raw_data(2023, 1)"
   ]
  },
  {
   "cell_type": "code",
   "execution_count": 28,
   "id": "b8e3fedf",
   "metadata": {},
   "outputs": [
    {
     "name": "stderr",
     "output_type": "stream",
     "text": [
      "C:\\Users\\nolan\\AppData\\Local\\Temp\\ipykernel_9916\\1099655789.py:53: DtypeWarning: Columns (5,7) have mixed types. Specify dtype option on import or set low_memory=False.\n",
      "  df = pd.read_csv(f)\n",
      "C:\\Users\\nolan\\AppData\\Local\\Temp\\ipykernel_9916\\1099655789.py:53: DtypeWarning: Columns (5,7) have mixed types. Specify dtype option on import or set low_memory=False.\n",
      "  df = pd.read_csv(f)\n"
     ]
    },
    {
     "name": "stdout",
     "output_type": "stream",
     "text": [
      "Saved 1696171 rows to ..\\data\\raw\\citi_rides_2023_02.parquet\n"
     ]
    },
    {
     "name": "stderr",
     "output_type": "stream",
     "text": [
      "C:\\Users\\nolan\\AppData\\Local\\Temp\\ipykernel_9916\\1099655789.py:53: DtypeWarning: Columns (7) have mixed types. Specify dtype option on import or set low_memory=False.\n",
      "  df = pd.read_csv(f)\n",
      "C:\\Users\\nolan\\AppData\\Local\\Temp\\ipykernel_9916\\1099655789.py:53: DtypeWarning: Columns (7) have mixed types. Specify dtype option on import or set low_memory=False.\n",
      "  df = pd.read_csv(f)\n"
     ]
    },
    {
     "name": "stdout",
     "output_type": "stream",
     "text": [
      "Saved 2118932 rows to ..\\data\\raw\\citi_rides_2023_03.parquet\n"
     ]
    },
    {
     "name": "stderr",
     "output_type": "stream",
     "text": [
      "C:\\Users\\nolan\\AppData\\Local\\Temp\\ipykernel_9916\\1099655789.py:53: DtypeWarning: Columns (5,7) have mixed types. Specify dtype option on import or set low_memory=False.\n",
      "  df = pd.read_csv(f)\n",
      "C:\\Users\\nolan\\AppData\\Local\\Temp\\ipykernel_9916\\1099655789.py:53: DtypeWarning: Columns (5,7) have mixed types. Specify dtype option on import or set low_memory=False.\n",
      "  df = pd.read_csv(f)\n",
      "C:\\Users\\nolan\\AppData\\Local\\Temp\\ipykernel_9916\\1099655789.py:53: DtypeWarning: Columns (5,7) have mixed types. Specify dtype option on import or set low_memory=False.\n",
      "  df = pd.read_csv(f)\n"
     ]
    },
    {
     "name": "stdout",
     "output_type": "stream",
     "text": [
      "Saved 2749716 rows to ..\\data\\raw\\citi_rides_2023_04.parquet\n"
     ]
    },
    {
     "name": "stderr",
     "output_type": "stream",
     "text": [
      "C:\\Users\\nolan\\AppData\\Local\\Temp\\ipykernel_9916\\1099655789.py:53: DtypeWarning: Columns (7) have mixed types. Specify dtype option on import or set low_memory=False.\n",
      "  df = pd.read_csv(f)\n",
      "C:\\Users\\nolan\\AppData\\Local\\Temp\\ipykernel_9916\\1099655789.py:53: DtypeWarning: Columns (5,7) have mixed types. Specify dtype option on import or set low_memory=False.\n",
      "  df = pd.read_csv(f)\n",
      "C:\\Users\\nolan\\AppData\\Local\\Temp\\ipykernel_9916\\1099655789.py:53: DtypeWarning: Columns (7) have mixed types. Specify dtype option on import or set low_memory=False.\n",
      "  df = pd.read_csv(f)\n",
      "C:\\Users\\nolan\\AppData\\Local\\Temp\\ipykernel_9916\\1099655789.py:53: DtypeWarning: Columns (5,7) have mixed types. Specify dtype option on import or set low_memory=False.\n",
      "  df = pd.read_csv(f)\n"
     ]
    },
    {
     "name": "stdout",
     "output_type": "stream",
     "text": [
      "Saved 3453152 rows to ..\\data\\raw\\citi_rides_2023_05.parquet\n"
     ]
    },
    {
     "name": "stderr",
     "output_type": "stream",
     "text": [
      "C:\\Users\\nolan\\AppData\\Local\\Temp\\ipykernel_9916\\1099655789.py:53: DtypeWarning: Columns (5,7) have mixed types. Specify dtype option on import or set low_memory=False.\n",
      "  df = pd.read_csv(f)\n",
      "C:\\Users\\nolan\\AppData\\Local\\Temp\\ipykernel_9916\\1099655789.py:53: DtypeWarning: Columns (5,7) have mixed types. Specify dtype option on import or set low_memory=False.\n",
      "  df = pd.read_csv(f)\n",
      "C:\\Users\\nolan\\AppData\\Local\\Temp\\ipykernel_9916\\1099655789.py:53: DtypeWarning: Columns (5,7) have mixed types. Specify dtype option on import or set low_memory=False.\n",
      "  df = pd.read_csv(f)\n",
      "C:\\Users\\nolan\\AppData\\Local\\Temp\\ipykernel_9916\\1099655789.py:53: DtypeWarning: Columns (5,7) have mixed types. Specify dtype option on import or set low_memory=False.\n",
      "  df = pd.read_csv(f)\n"
     ]
    },
    {
     "name": "stdout",
     "output_type": "stream",
     "text": [
      "Saved 3451549 rows to ..\\data\\raw\\citi_rides_2023_06.parquet\n"
     ]
    },
    {
     "name": "stderr",
     "output_type": "stream",
     "text": [
      "C:\\Users\\nolan\\AppData\\Local\\Temp\\ipykernel_9916\\1099655789.py:53: DtypeWarning: Columns (5,7) have mixed types. Specify dtype option on import or set low_memory=False.\n",
      "  df = pd.read_csv(f)\n",
      "C:\\Users\\nolan\\AppData\\Local\\Temp\\ipykernel_9916\\1099655789.py:53: DtypeWarning: Columns (5,7) have mixed types. Specify dtype option on import or set low_memory=False.\n",
      "  df = pd.read_csv(f)\n",
      "C:\\Users\\nolan\\AppData\\Local\\Temp\\ipykernel_9916\\1099655789.py:53: DtypeWarning: Columns (5,7) have mixed types. Specify dtype option on import or set low_memory=False.\n",
      "  df = pd.read_csv(f)\n",
      "C:\\Users\\nolan\\AppData\\Local\\Temp\\ipykernel_9916\\1099655789.py:53: DtypeWarning: Columns (5,7) have mixed types. Specify dtype option on import or set low_memory=False.\n",
      "  df = pd.read_csv(f)\n"
     ]
    },
    {
     "name": "stdout",
     "output_type": "stream",
     "text": [
      "Saved 3659581 rows to ..\\data\\raw\\citi_rides_2023_07.parquet\n"
     ]
    },
    {
     "name": "stderr",
     "output_type": "stream",
     "text": [
      "C:\\Users\\nolan\\AppData\\Local\\Temp\\ipykernel_9916\\1099655789.py:53: DtypeWarning: Columns (5,7) have mixed types. Specify dtype option on import or set low_memory=False.\n",
      "  df = pd.read_csv(f)\n",
      "C:\\Users\\nolan\\AppData\\Local\\Temp\\ipykernel_9916\\1099655789.py:53: DtypeWarning: Columns (5,7) have mixed types. Specify dtype option on import or set low_memory=False.\n",
      "  df = pd.read_csv(f)\n",
      "C:\\Users\\nolan\\AppData\\Local\\Temp\\ipykernel_9916\\1099655789.py:53: DtypeWarning: Columns (5,7) have mixed types. Specify dtype option on import or set low_memory=False.\n",
      "  df = pd.read_csv(f)\n",
      "C:\\Users\\nolan\\AppData\\Local\\Temp\\ipykernel_9916\\1099655789.py:53: DtypeWarning: Columns (5,7) have mixed types. Specify dtype option on import or set low_memory=False.\n",
      "  df = pd.read_csv(f)\n"
     ]
    },
    {
     "name": "stdout",
     "output_type": "stream",
     "text": [
      "Saved 3964180 rows to ..\\data\\raw\\citi_rides_2023_08.parquet\n"
     ]
    },
    {
     "name": "stderr",
     "output_type": "stream",
     "text": [
      "C:\\Users\\nolan\\AppData\\Local\\Temp\\ipykernel_9916\\1099655789.py:53: DtypeWarning: Columns (5,7) have mixed types. Specify dtype option on import or set low_memory=False.\n",
      "  df = pd.read_csv(f)\n",
      "C:\\Users\\nolan\\AppData\\Local\\Temp\\ipykernel_9916\\1099655789.py:53: DtypeWarning: Columns (5,7) have mixed types. Specify dtype option on import or set low_memory=False.\n",
      "  df = pd.read_csv(f)\n",
      "C:\\Users\\nolan\\AppData\\Local\\Temp\\ipykernel_9916\\1099655789.py:53: DtypeWarning: Columns (5,7) have mixed types. Specify dtype option on import or set low_memory=False.\n",
      "  df = pd.read_csv(f)\n",
      "C:\\Users\\nolan\\AppData\\Local\\Temp\\ipykernel_9916\\1099655789.py:53: DtypeWarning: Columns (5) have mixed types. Specify dtype option on import or set low_memory=False.\n",
      "  df = pd.read_csv(f)\n"
     ]
    },
    {
     "name": "stdout",
     "output_type": "stream",
     "text": [
      "Saved 3471150 rows to ..\\data\\raw\\citi_rides_2023_09.parquet\n"
     ]
    },
    {
     "name": "stderr",
     "output_type": "stream",
     "text": [
      "C:\\Users\\nolan\\AppData\\Local\\Temp\\ipykernel_9916\\1099655789.py:53: DtypeWarning: Columns (5,7) have mixed types. Specify dtype option on import or set low_memory=False.\n",
      "  df = pd.read_csv(f)\n",
      "C:\\Users\\nolan\\AppData\\Local\\Temp\\ipykernel_9916\\1099655789.py:53: DtypeWarning: Columns (7) have mixed types. Specify dtype option on import or set low_memory=False.\n",
      "  df = pd.read_csv(f)\n",
      "C:\\Users\\nolan\\AppData\\Local\\Temp\\ipykernel_9916\\1099655789.py:53: DtypeWarning: Columns (7) have mixed types. Specify dtype option on import or set low_memory=False.\n",
      "  df = pd.read_csv(f)\n",
      "C:\\Users\\nolan\\AppData\\Local\\Temp\\ipykernel_9916\\1099655789.py:53: DtypeWarning: Columns (7) have mixed types. Specify dtype option on import or set low_memory=False.\n",
      "  df = pd.read_csv(f)\n"
     ]
    },
    {
     "name": "stdout",
     "output_type": "stream",
     "text": [
      "Saved 3725336 rows to ..\\data\\raw\\citi_rides_2023_10.parquet\n"
     ]
    },
    {
     "name": "stderr",
     "output_type": "stream",
     "text": [
      "C:\\Users\\nolan\\AppData\\Local\\Temp\\ipykernel_9916\\1099655789.py:53: DtypeWarning: Columns (7) have mixed types. Specify dtype option on import or set low_memory=False.\n",
      "  df = pd.read_csv(f)\n",
      "C:\\Users\\nolan\\AppData\\Local\\Temp\\ipykernel_9916\\1099655789.py:53: DtypeWarning: Columns (5,7) have mixed types. Specify dtype option on import or set low_memory=False.\n",
      "  df = pd.read_csv(f)\n",
      "C:\\Users\\nolan\\AppData\\Local\\Temp\\ipykernel_9916\\1099655789.py:53: DtypeWarning: Columns (7) have mixed types. Specify dtype option on import or set low_memory=False.\n",
      "  df = pd.read_csv(f)\n"
     ]
    },
    {
     "name": "stdout",
     "output_type": "stream",
     "text": [
      "Saved 2816977 rows to ..\\data\\raw\\citi_rides_2023_11.parquet\n"
     ]
    },
    {
     "name": "stderr",
     "output_type": "stream",
     "text": [
      "C:\\Users\\nolan\\AppData\\Local\\Temp\\ipykernel_9916\\1099655789.py:53: DtypeWarning: Columns (7) have mixed types. Specify dtype option on import or set low_memory=False.\n",
      "  df = pd.read_csv(f)\n",
      "C:\\Users\\nolan\\AppData\\Local\\Temp\\ipykernel_9916\\1099655789.py:53: DtypeWarning: Columns (7) have mixed types. Specify dtype option on import or set low_memory=False.\n",
      "  df = pd.read_csv(f)\n",
      "C:\\Users\\nolan\\AppData\\Local\\Temp\\ipykernel_9916\\1099655789.py:53: DtypeWarning: Columns (7) have mixed types. Specify dtype option on import or set low_memory=False.\n",
      "  df = pd.read_csv(f)\n"
     ]
    },
    {
     "name": "stdout",
     "output_type": "stream",
     "text": [
      "Saved 2204874 rows to ..\\data\\raw\\citi_rides_2023_12.parquet\n"
     ]
    }
   ],
   "source": [
    "for month in range(2,13):\n",
    "    fetch_raw_data(2023, month=month)"
   ]
  },
  {
   "cell_type": "code",
   "execution_count": 39,
   "id": "a7df9aa8",
   "metadata": {},
   "outputs": [
    {
     "name": "stderr",
     "output_type": "stream",
     "text": [
      "C:\\Users\\nolan\\AppData\\Local\\Temp\\ipykernel_9916\\2896123149.py:51: DtypeWarning: Columns (7) have mixed types. Specify dtype option on import or set low_memory=False.\n",
      "  df = pd.read_csv(f)\n",
      "C:\\Users\\nolan\\AppData\\Local\\Temp\\ipykernel_9916\\2896123149.py:51: DtypeWarning: Columns (5,7) have mixed types. Specify dtype option on import or set low_memory=False.\n",
      "  df = pd.read_csv(f)\n",
      "C:\\Users\\nolan\\AppData\\Local\\Temp\\ipykernel_9916\\2896123149.py:51: DtypeWarning: Columns (5,7) have mixed types. Specify dtype option on import or set low_memory=False.\n",
      "  df = pd.read_csv(f)\n",
      "C:\\Users\\nolan\\AppData\\Local\\Temp\\ipykernel_9916\\2896123149.py:51: DtypeWarning: Columns (5,7) have mixed types. Specify dtype option on import or set low_memory=False.\n",
      "  df = pd.read_csv(f)\n",
      "C:\\Users\\nolan\\AppData\\Local\\Temp\\ipykernel_9916\\2896123149.py:51: DtypeWarning: Columns (5,7) have mixed types. Specify dtype option on import or set low_memory=False.\n",
      "  df = pd.read_csv(f)\n"
     ]
    },
    {
     "name": "stdout",
     "output_type": "stream",
     "text": [
      "Saved 4230360 rows to ..\\data\\raw\\citi_rides_2024_05.parquet\n"
     ]
    },
    {
     "name": "stderr",
     "output_type": "stream",
     "text": [
      "C:\\Users\\nolan\\AppData\\Local\\Temp\\ipykernel_9916\\2896123149.py:51: DtypeWarning: Columns (5,7) have mixed types. Specify dtype option on import or set low_memory=False.\n",
      "  df = pd.read_csv(f)\n",
      "C:\\Users\\nolan\\AppData\\Local\\Temp\\ipykernel_9916\\2896123149.py:51: DtypeWarning: Columns (7) have mixed types. Specify dtype option on import or set low_memory=False.\n",
      "  df = pd.read_csv(f)\n",
      "C:\\Users\\nolan\\AppData\\Local\\Temp\\ipykernel_9916\\2896123149.py:51: DtypeWarning: Columns (7) have mixed types. Specify dtype option on import or set low_memory=False.\n",
      "  df = pd.read_csv(f)\n",
      "C:\\Users\\nolan\\AppData\\Local\\Temp\\ipykernel_9916\\2896123149.py:51: DtypeWarning: Columns (5,7) have mixed types. Specify dtype option on import or set low_memory=False.\n",
      "  df = pd.read_csv(f)\n",
      "C:\\Users\\nolan\\AppData\\Local\\Temp\\ipykernel_9916\\2896123149.py:51: DtypeWarning: Columns (5,7) have mixed types. Specify dtype option on import or set low_memory=False.\n",
      "  df = pd.read_csv(f)\n"
     ]
    },
    {
     "name": "stdout",
     "output_type": "stream",
     "text": [
      "Saved 4783576 rows to ..\\data\\raw\\citi_rides_2024_06.parquet\n"
     ]
    },
    {
     "name": "stderr",
     "output_type": "stream",
     "text": [
      "C:\\Users\\nolan\\AppData\\Local\\Temp\\ipykernel_9916\\2896123149.py:51: DtypeWarning: Columns (8) have mixed types. Specify dtype option on import or set low_memory=False.\n",
      "  df = pd.read_csv(f)\n",
      "C:\\Users\\nolan\\AppData\\Local\\Temp\\ipykernel_9916\\2896123149.py:51: DtypeWarning: Columns (8) have mixed types. Specify dtype option on import or set low_memory=False.\n",
      "  df = pd.read_csv(f)\n",
      "C:\\Users\\nolan\\AppData\\Local\\Temp\\ipykernel_9916\\2896123149.py:51: DtypeWarning: Columns (8) have mixed types. Specify dtype option on import or set low_memory=False.\n",
      "  df = pd.read_csv(f)\n",
      "C:\\Users\\nolan\\AppData\\Local\\Temp\\ipykernel_9916\\2896123149.py:51: DtypeWarning: Columns (8) have mixed types. Specify dtype option on import or set low_memory=False.\n",
      "  df = pd.read_csv(f)\n",
      "C:\\Users\\nolan\\AppData\\Local\\Temp\\ipykernel_9916\\2896123149.py:51: DtypeWarning: Columns (6,8) have mixed types. Specify dtype option on import or set low_memory=False.\n",
      "  df = pd.read_csv(f)\n"
     ]
    },
    {
     "name": "stdout",
     "output_type": "stream",
     "text": [
      "Saved 4722896 rows to ..\\data\\raw\\citi_rides_2024_07.parquet\n"
     ]
    },
    {
     "name": "stderr",
     "output_type": "stream",
     "text": [
      "C:\\Users\\nolan\\AppData\\Local\\Temp\\ipykernel_9916\\2896123149.py:51: DtypeWarning: Columns (6,8) have mixed types. Specify dtype option on import or set low_memory=False.\n",
      "  df = pd.read_csv(f)\n",
      "C:\\Users\\nolan\\AppData\\Local\\Temp\\ipykernel_9916\\2896123149.py:51: DtypeWarning: Columns (6,8) have mixed types. Specify dtype option on import or set low_memory=False.\n",
      "  df = pd.read_csv(f)\n",
      "C:\\Users\\nolan\\AppData\\Local\\Temp\\ipykernel_9916\\2896123149.py:51: DtypeWarning: Columns (6,8) have mixed types. Specify dtype option on import or set low_memory=False.\n",
      "  df = pd.read_csv(f)\n",
      "C:\\Users\\nolan\\AppData\\Local\\Temp\\ipykernel_9916\\2896123149.py:51: DtypeWarning: Columns (6,8) have mixed types. Specify dtype option on import or set low_memory=False.\n",
      "  df = pd.read_csv(f)\n",
      "C:\\Users\\nolan\\AppData\\Local\\Temp\\ipykernel_9916\\2896123149.py:51: DtypeWarning: Columns (6,8) have mixed types. Specify dtype option on import or set low_memory=False.\n",
      "  df = pd.read_csv(f)\n"
     ]
    },
    {
     "name": "stdout",
     "output_type": "stream",
     "text": [
      "Saved 4603575 rows to ..\\data\\raw\\citi_rides_2024_08.parquet\n"
     ]
    },
    {
     "name": "stderr",
     "output_type": "stream",
     "text": [
      "C:\\Users\\nolan\\AppData\\Local\\Temp\\ipykernel_9916\\2896123149.py:51: DtypeWarning: Columns (5,7) have mixed types. Specify dtype option on import or set low_memory=False.\n",
      "  df = pd.read_csv(f)\n",
      "C:\\Users\\nolan\\AppData\\Local\\Temp\\ipykernel_9916\\2896123149.py:51: DtypeWarning: Columns (7) have mixed types. Specify dtype option on import or set low_memory=False.\n",
      "  df = pd.read_csv(f)\n",
      "C:\\Users\\nolan\\AppData\\Local\\Temp\\ipykernel_9916\\2896123149.py:51: DtypeWarning: Columns (5,7) have mixed types. Specify dtype option on import or set low_memory=False.\n",
      "  df = pd.read_csv(f)\n",
      "C:\\Users\\nolan\\AppData\\Local\\Temp\\ipykernel_9916\\2896123149.py:51: DtypeWarning: Columns (5,7) have mixed types. Specify dtype option on import or set low_memory=False.\n",
      "  df = pd.read_csv(f)\n",
      "C:\\Users\\nolan\\AppData\\Local\\Temp\\ipykernel_9916\\2896123149.py:51: DtypeWarning: Columns (7) have mixed types. Specify dtype option on import or set low_memory=False.\n",
      "  df = pd.read_csv(f)\n"
     ]
    },
    {
     "name": "stdout",
     "output_type": "stream",
     "text": [
      "Saved 4997898 rows to ..\\data\\raw\\citi_rides_2024_09.parquet\n"
     ]
    },
    {
     "name": "stderr",
     "output_type": "stream",
     "text": [
      "C:\\Users\\nolan\\AppData\\Local\\Temp\\ipykernel_9916\\2896123149.py:51: DtypeWarning: Columns (5) have mixed types. Specify dtype option on import or set low_memory=False.\n",
      "  df = pd.read_csv(f)\n",
      "C:\\Users\\nolan\\AppData\\Local\\Temp\\ipykernel_9916\\2896123149.py:51: DtypeWarning: Columns (5,7) have mixed types. Specify dtype option on import or set low_memory=False.\n",
      "  df = pd.read_csv(f)\n",
      "C:\\Users\\nolan\\AppData\\Local\\Temp\\ipykernel_9916\\2896123149.py:51: DtypeWarning: Columns (5,7) have mixed types. Specify dtype option on import or set low_memory=False.\n",
      "  df = pd.read_csv(f)\n",
      "C:\\Users\\nolan\\AppData\\Local\\Temp\\ipykernel_9916\\2896123149.py:51: DtypeWarning: Columns (5,7) have mixed types. Specify dtype option on import or set low_memory=False.\n",
      "  df = pd.read_csv(f)\n",
      "C:\\Users\\nolan\\AppData\\Local\\Temp\\ipykernel_9916\\2896123149.py:51: DtypeWarning: Columns (7) have mixed types. Specify dtype option on import or set low_memory=False.\n",
      "  df = pd.read_csv(f)\n",
      "C:\\Users\\nolan\\AppData\\Local\\Temp\\ipykernel_9916\\2896123149.py:51: DtypeWarning: Columns (5,7) have mixed types. Specify dtype option on import or set low_memory=False.\n",
      "  df = pd.read_csv(f)\n"
     ]
    },
    {
     "name": "stdout",
     "output_type": "stream",
     "text": [
      "Saved 5150054 rows to ..\\data\\raw\\citi_rides_2024_10.parquet\n"
     ]
    },
    {
     "name": "stderr",
     "output_type": "stream",
     "text": [
      "C:\\Users\\nolan\\AppData\\Local\\Temp\\ipykernel_9916\\2896123149.py:51: DtypeWarning: Columns (5,7) have mixed types. Specify dtype option on import or set low_memory=False.\n",
      "  df = pd.read_csv(f)\n",
      "C:\\Users\\nolan\\AppData\\Local\\Temp\\ipykernel_9916\\2896123149.py:51: DtypeWarning: Columns (7) have mixed types. Specify dtype option on import or set low_memory=False.\n",
      "  df = pd.read_csv(f)\n",
      "C:\\Users\\nolan\\AppData\\Local\\Temp\\ipykernel_9916\\2896123149.py:51: DtypeWarning: Columns (7) have mixed types. Specify dtype option on import or set low_memory=False.\n",
      "  df = pd.read_csv(f)\n",
      "C:\\Users\\nolan\\AppData\\Local\\Temp\\ipykernel_9916\\2896123149.py:51: DtypeWarning: Columns (7) have mixed types. Specify dtype option on import or set low_memory=False.\n",
      "  df = pd.read_csv(f)\n"
     ]
    },
    {
     "name": "stdout",
     "output_type": "stream",
     "text": [
      "Saved 3710134 rows to ..\\data\\raw\\citi_rides_2024_11.parquet\n"
     ]
    },
    {
     "name": "stderr",
     "output_type": "stream",
     "text": [
      "C:\\Users\\nolan\\AppData\\Local\\Temp\\ipykernel_9916\\2896123149.py:51: DtypeWarning: Columns (5,7) have mixed types. Specify dtype option on import or set low_memory=False.\n",
      "  df = pd.read_csv(f)\n",
      "C:\\Users\\nolan\\AppData\\Local\\Temp\\ipykernel_9916\\2896123149.py:51: DtypeWarning: Columns (5,7) have mixed types. Specify dtype option on import or set low_memory=False.\n",
      "  df = pd.read_csv(f)\n"
     ]
    },
    {
     "name": "stdout",
     "output_type": "stream",
     "text": [
      "Saved 2311171 rows to ..\\data\\raw\\citi_rides_2024_12.parquet\n"
     ]
    }
   ],
   "source": [
    "for month in range (5,13):\n",
    "    fetch_raw_data(2024, month)"
   ]
  },
  {
   "cell_type": "code",
   "execution_count": 40,
   "id": "fd2f5a2e",
   "metadata": {},
   "outputs": [
    {
     "name": "stderr",
     "output_type": "stream",
     "text": [
      "C:\\Users\\nolan\\AppData\\Local\\Temp\\ipykernel_9916\\2896123149.py:51: DtypeWarning: Columns (5,7) have mixed types. Specify dtype option on import or set low_memory=False.\n",
      "  df = pd.read_csv(f)\n",
      "C:\\Users\\nolan\\AppData\\Local\\Temp\\ipykernel_9916\\2896123149.py:51: DtypeWarning: Columns (5,7) have mixed types. Specify dtype option on import or set low_memory=False.\n",
      "  df = pd.read_csv(f)\n"
     ]
    },
    {
     "name": "stdout",
     "output_type": "stream",
     "text": [
      "Saved 2124475 rows to ..\\data\\raw\\citi_rides_2025_01.parquet\n"
     ]
    },
    {
     "name": "stderr",
     "output_type": "stream",
     "text": [
      "C:\\Users\\nolan\\AppData\\Local\\Temp\\ipykernel_9916\\2896123149.py:51: DtypeWarning: Columns (5,7) have mixed types. Specify dtype option on import or set low_memory=False.\n",
      "  df = pd.read_csv(f)\n",
      "C:\\Users\\nolan\\AppData\\Local\\Temp\\ipykernel_9916\\2896123149.py:51: DtypeWarning: Columns (5,7) have mixed types. Specify dtype option on import or set low_memory=False.\n",
      "  df = pd.read_csv(f)\n"
     ]
    },
    {
     "name": "stdout",
     "output_type": "stream",
     "text": [
      "Saved 2031257 rows to ..\\data\\raw\\citi_rides_2025_02.parquet\n"
     ]
    },
    {
     "name": "stderr",
     "output_type": "stream",
     "text": [
      "C:\\Users\\nolan\\AppData\\Local\\Temp\\ipykernel_9916\\2896123149.py:19: DtypeWarning: Columns (5,7) have mixed types. Specify dtype option on import or set low_memory=False.\n",
      "  df = pd.read_csv(f)\n"
     ]
    },
    {
     "name": "stdout",
     "output_type": "stream",
     "text": [
      "Saved 3168271 rows to ..\\data\\raw\\citi_rides_2025_03.parquet\n"
     ]
    }
   ],
   "source": [
    "for month in range (1,4):\n",
    "    fetch_raw_data(2025, month)"
   ]
  }
 ],
 "metadata": {
  "kernelspec": {
   "display_name": "citi",
   "language": "python",
   "name": "python3"
  },
  "language_info": {
   "codemirror_mode": {
    "name": "ipython",
    "version": 3
   },
   "file_extension": ".py",
   "mimetype": "text/x-python",
   "name": "python",
   "nbconvert_exporter": "python",
   "pygments_lexer": "ipython3",
   "version": "3.11.11"
  }
 },
 "nbformat": 4,
 "nbformat_minor": 5
}
