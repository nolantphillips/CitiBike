{
 "cells": [
  {
   "cell_type": "code",
   "execution_count": 2,
   "id": "6aab56b1",
   "metadata": {},
   "outputs": [],
   "source": [
    "%load_ext autoreload\n",
    "%autoreload 2"
   ]
  },
  {
   "cell_type": "code",
   "execution_count": 3,
   "id": "7c1bd8f7",
   "metadata": {},
   "outputs": [],
   "source": [
    "import sys\n",
    "import os\n",
    "\n",
    "# Add the parent directory to the Python path\n",
    "sys.path.append(os.path.abspath(os.path.join(os.getcwd(), \"..\")))"
   ]
  },
  {
   "cell_type": "code",
   "execution_count": 4,
   "id": "e6cfd69c",
   "metadata": {},
   "outputs": [],
   "source": [
    "import pandas as pd"
   ]
  },
  {
   "cell_type": "code",
   "execution_count": 5,
   "id": "b62d8739",
   "metadata": {},
   "outputs": [
    {
     "data": {
      "text/html": [
       "<div>\n",
       "<style scoped>\n",
       "    .dataframe tbody tr th:only-of-type {\n",
       "        vertical-align: middle;\n",
       "    }\n",
       "\n",
       "    .dataframe tbody tr th {\n",
       "        vertical-align: top;\n",
       "    }\n",
       "\n",
       "    .dataframe thead th {\n",
       "        text-align: right;\n",
       "    }\n",
       "</style>\n",
       "<table border=\"1\" class=\"dataframe\">\n",
       "  <thead>\n",
       "    <tr style=\"text-align: right;\">\n",
       "      <th></th>\n",
       "      <th>start_hour</th>\n",
       "      <th>start_station_id</th>\n",
       "      <th>rides</th>\n",
       "    </tr>\n",
       "  </thead>\n",
       "  <tbody>\n",
       "    <tr>\n",
       "      <th>0</th>\n",
       "      <td>2023-01-01 00:00:00</td>\n",
       "      <td>5905.140137</td>\n",
       "      <td>0</td>\n",
       "    </tr>\n",
       "    <tr>\n",
       "      <th>1</th>\n",
       "      <td>2023-01-01 01:00:00</td>\n",
       "      <td>5905.140137</td>\n",
       "      <td>5</td>\n",
       "    </tr>\n",
       "    <tr>\n",
       "      <th>2</th>\n",
       "      <td>2023-01-01 02:00:00</td>\n",
       "      <td>5905.140137</td>\n",
       "      <td>7</td>\n",
       "    </tr>\n",
       "    <tr>\n",
       "      <th>3</th>\n",
       "      <td>2023-01-01 03:00:00</td>\n",
       "      <td>5905.140137</td>\n",
       "      <td>3</td>\n",
       "    </tr>\n",
       "    <tr>\n",
       "      <th>4</th>\n",
       "      <td>2023-01-01 04:00:00</td>\n",
       "      <td>5905.140137</td>\n",
       "      <td>2</td>\n",
       "    </tr>\n",
       "    <tr>\n",
       "      <th>...</th>\n",
       "      <td>...</td>\n",
       "      <td>...</td>\n",
       "      <td>...</td>\n",
       "    </tr>\n",
       "    <tr>\n",
       "      <th>59107</th>\n",
       "      <td>2025-03-31 19:00:00</td>\n",
       "      <td>6822.089844</td>\n",
       "      <td>23</td>\n",
       "    </tr>\n",
       "    <tr>\n",
       "      <th>59108</th>\n",
       "      <td>2025-03-31 20:00:00</td>\n",
       "      <td>6822.089844</td>\n",
       "      <td>14</td>\n",
       "    </tr>\n",
       "    <tr>\n",
       "      <th>59109</th>\n",
       "      <td>2025-03-31 21:00:00</td>\n",
       "      <td>6822.089844</td>\n",
       "      <td>5</td>\n",
       "    </tr>\n",
       "    <tr>\n",
       "      <th>59110</th>\n",
       "      <td>2025-03-31 22:00:00</td>\n",
       "      <td>6822.089844</td>\n",
       "      <td>2</td>\n",
       "    </tr>\n",
       "    <tr>\n",
       "      <th>59111</th>\n",
       "      <td>2025-03-31 23:00:00</td>\n",
       "      <td>6822.089844</td>\n",
       "      <td>1</td>\n",
       "    </tr>\n",
       "  </tbody>\n",
       "</table>\n",
       "<p>59112 rows × 3 columns</p>\n",
       "</div>"
      ],
      "text/plain": [
       "               start_hour  start_station_id  rides\n",
       "0     2023-01-01 00:00:00       5905.140137      0\n",
       "1     2023-01-01 01:00:00       5905.140137      5\n",
       "2     2023-01-01 02:00:00       5905.140137      7\n",
       "3     2023-01-01 03:00:00       5905.140137      3\n",
       "4     2023-01-01 04:00:00       5905.140137      2\n",
       "...                   ...               ...    ...\n",
       "59107 2025-03-31 19:00:00       6822.089844     23\n",
       "59108 2025-03-31 20:00:00       6822.089844     14\n",
       "59109 2025-03-31 21:00:00       6822.089844      5\n",
       "59110 2025-03-31 22:00:00       6822.089844      2\n",
       "59111 2025-03-31 23:00:00       6822.089844      1\n",
       "\n",
       "[59112 rows x 3 columns]"
      ]
     },
     "execution_count": 5,
     "metadata": {},
     "output_type": "execute_result"
    }
   ],
   "source": [
    "from src.config import PROCESSED_DATA_DIR\n",
    "\n",
    "ts_data = pd.read_parquet(PROCESSED_DATA_DIR / \"ts_data.parquet\")\n",
    "ts_data"
   ]
  },
  {
   "cell_type": "code",
   "execution_count": 8,
   "id": "c868fd66",
   "metadata": {},
   "outputs": [
    {
     "data": {
      "text/plain": [
       "start_station_id\n",
       "5905.140137    19704\n",
       "6140.049805    19704\n",
       "6822.089844    19704\n",
       "Name: count, dtype: int64"
      ]
     },
     "execution_count": 8,
     "metadata": {},
     "output_type": "execute_result"
    }
   ],
   "source": [
    "ts_data[\"start_station_id\"].value_counts()"
   ]
  },
  {
   "cell_type": "code",
   "execution_count": 11,
   "id": "63e8df83",
   "metadata": {},
   "outputs": [],
   "source": [
    "from datetime import datetime\n",
    "\n",
    "# Create baseline models for each location using simple mean \n",
    "\n",
    "ts_data_5905 = ts_data[ts_data[\"start_station_id\"] == 5905.140137]\n",
    "ts_data_6140 = ts_data[ts_data[\"start_station_id\"] == 6140.049805]\n",
    "ts_data_6822 = ts_data[ts_data[\"start_station_id\"] == 6822.089844]\n",
    "\n",
    "cutoff_date=datetime(2025, 1, 1, 0, 0, 0)\n",
    "\n",
    "ts_data_5905_train = ts_data_5905[ts_data_5905[\"start_hour\"] < cutoff_date]\n",
    "ts_data_6140_train = ts_data_6140[ts_data_6140[\"start_hour\"] < cutoff_date]\n",
    "ts_data_6822_train = ts_data_6822[ts_data_6822[\"start_hour\"] < cutoff_date]\n",
    "\n",
    "ts_data_5905_test = ts_data_5905[ts_data_5905[\"start_hour\"] >= cutoff_date]\n",
    "ts_data_6140_test = ts_data_6140[ts_data_6140[\"start_hour\"] >= cutoff_date]\n",
    "ts_data_6822_test = ts_data_6822[ts_data_6822[\"start_hour\"] >= cutoff_date]"
   ]
  },
  {
   "cell_type": "code",
   "execution_count": 13,
   "id": "938dd15c",
   "metadata": {},
   "outputs": [
    {
     "data": {
      "text/html": [
       "<div>\n",
       "<style scoped>\n",
       "    .dataframe tbody tr th:only-of-type {\n",
       "        vertical-align: middle;\n",
       "    }\n",
       "\n",
       "    .dataframe tbody tr th {\n",
       "        vertical-align: top;\n",
       "    }\n",
       "\n",
       "    .dataframe thead th {\n",
       "        text-align: right;\n",
       "    }\n",
       "</style>\n",
       "<table border=\"1\" class=\"dataframe\">\n",
       "  <thead>\n",
       "    <tr style=\"text-align: right;\">\n",
       "      <th></th>\n",
       "      <th>start_hour</th>\n",
       "      <th>start_station_id</th>\n",
       "      <th>rides</th>\n",
       "    </tr>\n",
       "  </thead>\n",
       "  <tbody>\n",
       "    <tr>\n",
       "      <th>56952</th>\n",
       "      <td>2025-01-01 00:00:00</td>\n",
       "      <td>6822.089844</td>\n",
       "      <td>0</td>\n",
       "    </tr>\n",
       "    <tr>\n",
       "      <th>56953</th>\n",
       "      <td>2025-01-01 01:00:00</td>\n",
       "      <td>6822.089844</td>\n",
       "      <td>3</td>\n",
       "    </tr>\n",
       "    <tr>\n",
       "      <th>56954</th>\n",
       "      <td>2025-01-01 02:00:00</td>\n",
       "      <td>6822.089844</td>\n",
       "      <td>2</td>\n",
       "    </tr>\n",
       "    <tr>\n",
       "      <th>56955</th>\n",
       "      <td>2025-01-01 03:00:00</td>\n",
       "      <td>6822.089844</td>\n",
       "      <td>2</td>\n",
       "    </tr>\n",
       "    <tr>\n",
       "      <th>56956</th>\n",
       "      <td>2025-01-01 04:00:00</td>\n",
       "      <td>6822.089844</td>\n",
       "      <td>3</td>\n",
       "    </tr>\n",
       "    <tr>\n",
       "      <th>...</th>\n",
       "      <td>...</td>\n",
       "      <td>...</td>\n",
       "      <td>...</td>\n",
       "    </tr>\n",
       "    <tr>\n",
       "      <th>59107</th>\n",
       "      <td>2025-03-31 19:00:00</td>\n",
       "      <td>6822.089844</td>\n",
       "      <td>23</td>\n",
       "    </tr>\n",
       "    <tr>\n",
       "      <th>59108</th>\n",
       "      <td>2025-03-31 20:00:00</td>\n",
       "      <td>6822.089844</td>\n",
       "      <td>14</td>\n",
       "    </tr>\n",
       "    <tr>\n",
       "      <th>59109</th>\n",
       "      <td>2025-03-31 21:00:00</td>\n",
       "      <td>6822.089844</td>\n",
       "      <td>5</td>\n",
       "    </tr>\n",
       "    <tr>\n",
       "      <th>59110</th>\n",
       "      <td>2025-03-31 22:00:00</td>\n",
       "      <td>6822.089844</td>\n",
       "      <td>2</td>\n",
       "    </tr>\n",
       "    <tr>\n",
       "      <th>59111</th>\n",
       "      <td>2025-03-31 23:00:00</td>\n",
       "      <td>6822.089844</td>\n",
       "      <td>1</td>\n",
       "    </tr>\n",
       "  </tbody>\n",
       "</table>\n",
       "<p>2160 rows × 3 columns</p>\n",
       "</div>"
      ],
      "text/plain": [
       "               start_hour  start_station_id  rides\n",
       "56952 2025-01-01 00:00:00       6822.089844      0\n",
       "56953 2025-01-01 01:00:00       6822.089844      3\n",
       "56954 2025-01-01 02:00:00       6822.089844      2\n",
       "56955 2025-01-01 03:00:00       6822.089844      2\n",
       "56956 2025-01-01 04:00:00       6822.089844      3\n",
       "...                   ...               ...    ...\n",
       "59107 2025-03-31 19:00:00       6822.089844     23\n",
       "59108 2025-03-31 20:00:00       6822.089844     14\n",
       "59109 2025-03-31 21:00:00       6822.089844      5\n",
       "59110 2025-03-31 22:00:00       6822.089844      2\n",
       "59111 2025-03-31 23:00:00       6822.089844      1\n",
       "\n",
       "[2160 rows x 3 columns]"
      ]
     },
     "execution_count": 13,
     "metadata": {},
     "output_type": "execute_result"
    }
   ],
   "source": [
    "ts_data_6822_test"
   ]
  },
  {
   "cell_type": "code",
   "execution_count": 15,
   "id": "3c3c8df7",
   "metadata": {},
   "outputs": [],
   "source": [
    "import numpy as np\n",
    "\n",
    "class MeanModel:\n",
    "    def __init__(self):\n",
    "        self.mean_value = None\n",
    "        self.fitted = False\n",
    "\n",
    "    def fit(self, ts_train: pd.DataFrame):\n",
    "        \"\"\"\n",
    "        Fit the model by computing the mean of the time series.\n",
    "        \"\"\"\n",
    "        if not isinstance(ts_train, pd.DataFrame):\n",
    "            raise ValueError(\"Input must be a pandas DataFrame.\")\n",
    "        self.mean_value = ts_train['rides'].mean()\n",
    "        self.fitted = True\n",
    "        print(f\"Model fitted. Mean = {self.mean_value:.2f}\")\n",
    "\n",
    "    def predict(self, ts_test: pd.DataFrame) -> np.array:\n",
    "        if not self.fitted:\n",
    "            raise ValueError(\"Model must be fitted before predicting.\")\n",
    "        return np.full(shape=len(ts_test), fill_value=self.mean_value)"
   ]
  },
  {
   "cell_type": "code",
   "execution_count": 19,
   "id": "6e05098b",
   "metadata": {},
   "outputs": [
    {
     "name": "stdout",
     "output_type": "stream",
     "text": [
      "Model fitted. Mean = 14.02\n",
      "Model fitted. Mean = 17.21\n",
      "Model fitted. Mean = 10.68\n"
     ]
    }
   ],
   "source": [
    "model_5905 = MeanModel()\n",
    "model_6140 = MeanModel()\n",
    "model_6822 = MeanModel()\n",
    "\n",
    "model_5905.fit(ts_data_5905_train)\n",
    "model_6140.fit(ts_data_6140_train)\n",
    "model_6822.fit(ts_data_6822_train)\n",
    "\n",
    "preds_5905 = model_5905.predict(ts_data_5905_test)\n",
    "preds_6140 = model_6140.predict(ts_data_6140_test)\n",
    "preds_6822 = model_6822.predict(ts_data_6822_test)"
   ]
  },
  {
   "cell_type": "code",
   "execution_count": 22,
   "id": "3789a0b4",
   "metadata": {},
   "outputs": [
    {
     "name": "stdout",
     "output_type": "stream",
     "text": [
      "MAE for 5905: 8.56\n",
      "MAE for 6140: 11.56\n",
      "MAE for 6822: 8.40\n"
     ]
    }
   ],
   "source": [
    "from sklearn.metrics import mean_absolute_error\n",
    "\n",
    "test_mae_5905 = mean_absolute_error(ts_data_5905_test[\"rides\"], preds_5905)\n",
    "test_mae_6140 = mean_absolute_error(ts_data_6140_test[\"rides\"], preds_6140)\n",
    "test_mae_6822 = mean_absolute_error(ts_data_6822_test[\"rides\"], preds_6822)\n",
    "\n",
    "print(f\"MAE for 5905: {test_mae_5905:.2f}\")\n",
    "print(f\"MAE for 6140: {test_mae_6140:.2f}\")\n",
    "print(f\"MAE for 6822: {test_mae_6822:.2f}\")"
   ]
  },
  {
   "cell_type": "code",
   "execution_count": 23,
   "id": "53fe6f5c",
   "metadata": {},
   "outputs": [
    {
     "name": "stderr",
     "output_type": "stream",
     "text": [
      "INFO:src.experiment_utils:MLflow tracking URI and credentials set.\n"
     ]
    }
   ],
   "source": [
    "from src.experiment_utils import set_mlflow_tracking, log_model_to_mlflow\n",
    "from dotenv import load_dotenv\n",
    "load_dotenv()\n",
    "\n",
    "mlflow = set_mlflow_tracking()"
   ]
  },
  {
   "cell_type": "code",
   "execution_count": 24,
   "id": "876e953f",
   "metadata": {},
   "outputs": [
    {
     "name": "stderr",
     "output_type": "stream",
     "text": [
      "2025/05/02 15:52:00 INFO mlflow.tracking.fluent: Experiment with name 'BaselineSimpleMean5905' does not exist. Creating a new experiment.\n",
      "INFO:src.experiment_utils:Experiment set to: BaselineSimpleMean5905\n",
      "INFO:src.experiment_utils:Logged mean_absolute_error: 8.555065042812991\n",
      "c:\\Users\\nolan\\anaconda3\\envs\\citi\\Lib\\site-packages\\mlflow\\types\\utils.py:452: UserWarning: Hint: Inferred schema contains integer column(s). Integer columns in Python cannot represent missing values. If your input data contains missing values at inference time, it will be encoded as floats and will cause a schema enforcement error. The best way to avoid this problem is to infer the model schema based on a realistic data sample (training dataset) that includes missing values. Alternatively, you can declare integer columns as doubles (float64) whenever these columns may have missing values. See `Handling Integers With Missing Values <https://www.mlflow.org/docs/latest/models.html#handling-integers-with-missing-values>`_ for more details.\n",
      "  warnings.warn(\n",
      "INFO:src.experiment_utils:Model signature inferred.\n"
     ]
    },
    {
     "data": {
      "application/vnd.jupyter.widget-view+json": {
       "model_id": "e39520b86ee040dcabbc2dcffdeadf06",
       "version_major": 2,
       "version_minor": 0
      },
      "text/plain": [
       "Downloading artifacts:   0%|          | 0/7 [00:00<?, ?it/s]"
      ]
     },
     "metadata": {},
     "output_type": "display_data"
    },
    {
     "name": "stderr",
     "output_type": "stream",
     "text": [
      "2025/05/02 15:52:07 INFO mlflow.models.model: Found the following environment variables used during model inference: [HOPSWORKS_API_KEY]. Please check if you need to set them when deploying the model. To disable this message, set environment variable `MLFLOW_RECORD_ENV_VARS_IN_MODEL_LOGGING` to `false`.\n",
      "Successfully registered model 'MeanModel'.\n",
      "2025/05/02 15:52:13 INFO mlflow.store.model_registry.abstract_store: Waiting up to 300 seconds for model version to finish creation. Model name: MeanModel, version 1\n",
      "Created version '1' of model 'MeanModel'.\n",
      "INFO:src.experiment_utils:Model logged with name: MeanModel\n"
     ]
    },
    {
     "name": "stdout",
     "output_type": "stream",
     "text": [
      "🏃 View run polite-fly-297 at: https://dagshub.com/nolantphillips/citibike.mlflow/#/experiments/0/runs/48da260dd10e440bb4b839aab054f5e1\n",
      "🧪 View experiment at: https://dagshub.com/nolantphillips/citibike.mlflow/#/experiments/0\n"
     ]
    },
    {
     "name": "stderr",
     "output_type": "stream",
     "text": [
      "2025/05/02 15:52:13 INFO mlflow.tracking.fluent: Experiment with name 'BaselineSimpleMean6140' does not exist. Creating a new experiment.\n",
      "INFO:src.experiment_utils:Experiment set to: BaselineSimpleMean6140\n",
      "INFO:src.experiment_utils:Logged mean_absolute_error: 11.559781121751024\n",
      "c:\\Users\\nolan\\anaconda3\\envs\\citi\\Lib\\site-packages\\mlflow\\types\\utils.py:452: UserWarning: Hint: Inferred schema contains integer column(s). Integer columns in Python cannot represent missing values. If your input data contains missing values at inference time, it will be encoded as floats and will cause a schema enforcement error. The best way to avoid this problem is to infer the model schema based on a realistic data sample (training dataset) that includes missing values. Alternatively, you can declare integer columns as doubles (float64) whenever these columns may have missing values. See `Handling Integers With Missing Values <https://www.mlflow.org/docs/latest/models.html#handling-integers-with-missing-values>`_ for more details.\n",
      "  warnings.warn(\n",
      "INFO:src.experiment_utils:Model signature inferred.\n"
     ]
    },
    {
     "data": {
      "application/vnd.jupyter.widget-view+json": {
       "model_id": "0005d37cb5834368ac8a825ff653c1c1",
       "version_major": 2,
       "version_minor": 0
      },
      "text/plain": [
       "Downloading artifacts:   0%|          | 0/7 [00:00<?, ?it/s]"
      ]
     },
     "metadata": {},
     "output_type": "display_data"
    },
    {
     "name": "stderr",
     "output_type": "stream",
     "text": [
      "Registered model 'MeanModel' already exists. Creating a new version of this model...\n",
      "2025/05/02 15:52:25 INFO mlflow.store.model_registry.abstract_store: Waiting up to 300 seconds for model version to finish creation. Model name: MeanModel, version 2\n",
      "Created version '2' of model 'MeanModel'.\n",
      "INFO:src.experiment_utils:Model logged with name: MeanModel\n"
     ]
    },
    {
     "name": "stdout",
     "output_type": "stream",
     "text": [
      "🏃 View run unequaled-pig-783 at: https://dagshub.com/nolantphillips/citibike.mlflow/#/experiments/1/runs/deb29f8e65dc4ea6baa2579fbd606296\n",
      "🧪 View experiment at: https://dagshub.com/nolantphillips/citibike.mlflow/#/experiments/1\n"
     ]
    },
    {
     "name": "stderr",
     "output_type": "stream",
     "text": [
      "2025/05/02 15:52:27 INFO mlflow.tracking.fluent: Experiment with name 'BaselineSimpleMean6822' does not exist. Creating a new experiment.\n",
      "INFO:src.experiment_utils:Experiment set to: BaselineSimpleMean6822\n",
      "INFO:src.experiment_utils:Logged mean_absolute_error: 8.404859316681023\n",
      "c:\\Users\\nolan\\anaconda3\\envs\\citi\\Lib\\site-packages\\mlflow\\types\\utils.py:452: UserWarning: Hint: Inferred schema contains integer column(s). Integer columns in Python cannot represent missing values. If your input data contains missing values at inference time, it will be encoded as floats and will cause a schema enforcement error. The best way to avoid this problem is to infer the model schema based on a realistic data sample (training dataset) that includes missing values. Alternatively, you can declare integer columns as doubles (float64) whenever these columns may have missing values. See `Handling Integers With Missing Values <https://www.mlflow.org/docs/latest/models.html#handling-integers-with-missing-values>`_ for more details.\n",
      "  warnings.warn(\n",
      "INFO:src.experiment_utils:Model signature inferred.\n"
     ]
    },
    {
     "data": {
      "application/vnd.jupyter.widget-view+json": {
       "model_id": "93069044ba5746328f5255937c02a059",
       "version_major": 2,
       "version_minor": 0
      },
      "text/plain": [
       "Downloading artifacts:   0%|          | 0/7 [00:00<?, ?it/s]"
      ]
     },
     "metadata": {},
     "output_type": "display_data"
    },
    {
     "name": "stderr",
     "output_type": "stream",
     "text": [
      "Registered model 'MeanModel' already exists. Creating a new version of this model...\n",
      "2025/05/02 15:52:41 INFO mlflow.store.model_registry.abstract_store: Waiting up to 300 seconds for model version to finish creation. Model name: MeanModel, version 3\n",
      "Created version '3' of model 'MeanModel'.\n",
      "INFO:src.experiment_utils:Model logged with name: MeanModel\n"
     ]
    },
    {
     "name": "stdout",
     "output_type": "stream",
     "text": [
      "🏃 View run agreeable-horse-486 at: https://dagshub.com/nolantphillips/citibike.mlflow/#/experiments/2/runs/26506207cdb84a9892865cf0defadea2\n",
      "🧪 View experiment at: https://dagshub.com/nolantphillips/citibike.mlflow/#/experiments/2\n"
     ]
    },
    {
     "data": {
      "text/plain": [
       "<mlflow.models.model.ModelInfo at 0x29844e64b10>"
      ]
     },
     "execution_count": 24,
     "metadata": {},
     "output_type": "execute_result"
    }
   ],
   "source": [
    "log_model_to_mlflow(model_5905, ts_data_5905_test, \"BaselineSimpleMean5905\", \"mean_absolute_error\", score=test_mae_5905)\n",
    "log_model_to_mlflow(model_6140, ts_data_6140_test, \"BaselineSimpleMean6140\", \"mean_absolute_error\", score=test_mae_6140)\n",
    "log_model_to_mlflow(model_6822, ts_data_6822_test, \"BaselineSimpleMean6822\", \"mean_absolute_error\", score=test_mae_6822)"
   ]
  }
 ],
 "metadata": {
  "kernelspec": {
   "display_name": "citi",
   "language": "python",
   "name": "python3"
  },
  "language_info": {
   "codemirror_mode": {
    "name": "ipython",
    "version": 3
   },
   "file_extension": ".py",
   "mimetype": "text/x-python",
   "name": "python",
   "nbconvert_exporter": "python",
   "pygments_lexer": "ipython3",
   "version": "3.11.11"
  }
 },
 "nbformat": 4,
 "nbformat_minor": 5
}
