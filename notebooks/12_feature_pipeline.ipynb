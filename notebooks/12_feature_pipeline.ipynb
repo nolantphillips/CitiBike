{
 "cells": [
  {
   "cell_type": "code",
   "execution_count": 1,
   "id": "45531310",
   "metadata": {},
   "outputs": [],
   "source": [
    "import sys\n",
    "import os\n",
    "\n",
    "# Add the parent directory to the Python path\n",
    "sys.path.append(os.path.abspath(os.path.join(os.getcwd(), \"..\")))\n",
    "import src.config as config"
   ]
  },
  {
   "cell_type": "code",
   "execution_count": 2,
   "id": "ce480aab",
   "metadata": {},
   "outputs": [
    {
     "name": "stdout",
     "output_type": "stream",
     "text": [
      "2025-05-03 16:09:50.066573\n"
     ]
    }
   ],
   "source": [
    "from datetime import datetime, timedelta\n",
    "\n",
    "import pandas as pd\n",
    "\n",
    "current_date = pd.to_datetime(datetime.now())\n",
    "print(f\"{current_date}\")"
   ]
  },
  {
   "cell_type": "code",
   "execution_count": 3,
   "id": "c14c6344",
   "metadata": {},
   "outputs": [
    {
     "data": {
      "text/plain": [
       "pandas._libs.tslibs.timestamps.Timestamp"
      ]
     },
     "execution_count": 3,
     "metadata": {},
     "output_type": "execute_result"
    }
   ],
   "source": [
    "type(current_date)"
   ]
  },
  {
   "cell_type": "code",
   "execution_count": 4,
   "id": "4e7b3921",
   "metadata": {},
   "outputs": [],
   "source": [
    "from datetime import datetime, timedelta, timezone\n",
    "current_date =current_date.floor(\"h\")"
   ]
  },
  {
   "cell_type": "code",
   "execution_count": 5,
   "id": "6fb18483",
   "metadata": {},
   "outputs": [
    {
     "data": {
      "text/plain": [
       "numpy.datetime64('2025-05-03T16:00:00.000000000')"
      ]
     },
     "execution_count": 5,
     "metadata": {},
     "output_type": "execute_result"
    }
   ],
   "source": [
    "current_date.to_datetime64()"
   ]
  },
  {
   "cell_type": "code",
   "execution_count": 10,
   "id": "10a52639",
   "metadata": {},
   "outputs": [],
   "source": [
    "fetch_data_to = current_date\n",
    "fetch_data_from = current_date - timedelta(days=32)"
   ]
  },
  {
   "cell_type": "code",
   "execution_count": 8,
   "id": "8b1f4524",
   "metadata": {},
   "outputs": [
    {
     "data": {
      "text/plain": [
       "Timestamp('2025-05-03 16:00:00')"
      ]
     },
     "execution_count": 8,
     "metadata": {},
     "output_type": "execute_result"
    }
   ],
   "source": [
    "fetch_data_to"
   ]
  },
  {
   "cell_type": "code",
   "execution_count": 11,
   "id": "cd24bbd1",
   "metadata": {},
   "outputs": [
    {
     "data": {
      "text/plain": [
       "Timestamp('2025-04-01 16:00:00')"
      ]
     },
     "execution_count": 11,
     "metadata": {},
     "output_type": "execute_result"
    }
   ],
   "source": [
    "fetch_data_from"
   ]
  },
  {
   "cell_type": "code",
   "execution_count": 17,
   "id": "6d77cd58",
   "metadata": {},
   "outputs": [],
   "source": [
    "from datetime import datetime, timedelta\n",
    "from typing import Union\n",
    "import pandas as pd\n",
    "from src.data_utils import load_and_process_bike_data\n",
    "\n",
    "def fetch_batch_raw_data(from_date: Union[datetime, str], to_date: Union[datetime, str]) -> pd.DataFrame:\n",
    "    \"\"\"\n",
    "    Simulate production data by sampling historical data from 52 weeks ago (i.e., 1 year).\n",
    "\n",
    "    Args:\n",
    "        from_date (datetime or str): The start date for the data batch.\n",
    "        to_date (datetime or str): The end date for the data batch.\n",
    "\n",
    "    Returns:\n",
    "        pd.DataFrame: A DataFrame containing the simulated production data.\n",
    "    \"\"\"\n",
    "    # Convert string inputs to datetime if necessary\n",
    "    if isinstance(from_date, str):\n",
    "        from_date = datetime.fromisoformat(from_date)\n",
    "    if isinstance(to_date, str):\n",
    "        to_date = datetime.fromisoformat(to_date)\n",
    "\n",
    "    # Validate input dates\n",
    "    if not isinstance(from_date, datetime) or not isinstance(to_date, datetime):\n",
    "        raise ValueError(\"Both 'from_date' and 'to_date' must be datetime objects or valid ISO format strings.\")\n",
    "    if from_date >= to_date:\n",
    "        raise ValueError(\"'from_date' must be earlier than 'to_date'.\")\n",
    "\n",
    "    # Shift dates back by 52 weeks (1 year)\n",
    "    historical_from_date = from_date - timedelta(weeks=52)\n",
    "    historical_to_date = to_date - timedelta(weeks=52)\n",
    "\n",
    "    # Load and filter data for the historical period\n",
    "    rides_from = load_and_process_bike_data(years=[historical_from_date.year], months=[historical_from_date.month])\n",
    "    rides_from = rides_from[rides_from.started_at >= historical_from_date]\n",
    "\n",
    "    if historical_to_date.month != historical_from_date.month:\n",
    "        rides_to = load_and_process_bike_data(years=[historical_to_date.year], months=[historical_to_date.month])\n",
    "        rides_to = rides_to[rides_to.started_at < historical_to_date]\n",
    "        # Combine the filtered data\n",
    "        rides = pd.concat([rides_from, rides_to], ignore_index=True)\n",
    "    else:\n",
    "        rides = rides_from\n",
    "    # Shift the data forward by 52 weeks to simulate recent data\n",
    "    rides['started_at'] += timedelta(weeks=52)\n",
    "\n",
    "    # Sort the data for consistency\n",
    "    rides.sort_values(by=['start_station_id', 'started_at'], inplace=True)\n",
    "\n",
    "    return rides"
   ]
  },
  {
   "cell_type": "code",
   "execution_count": 18,
   "id": "ca3363b2",
   "metadata": {},
   "outputs": [
    {
     "name": "stdout",
     "output_type": "stream",
     "text": [
      "File already exists for 2024-04.\n",
      "Loading data for 2024-04...\n",
      "Total records: 3,217,063\n",
      "Valid records: 34,543\n",
      "Records dropped: 3,182,520 (98.93%)\n",
      "Successfully processed data for 2024-04.\n",
      "Combining all monthly data...\n",
      "Data loading and processing for 2024 complete!\n",
      "Combining all data...\n",
      "Data loading and processing complete!\n",
      "File already exists for 2024-05.\n",
      "Loading data for 2024-05...\n",
      "Total records: 4,230,360\n",
      "Valid records: 40,809\n",
      "Records dropped: 4,189,551 (99.04%)\n",
      "Successfully processed data for 2024-05.\n",
      "Combining all monthly data...\n",
      "Data loading and processing for 2024 complete!\n",
      "Combining all data...\n",
      "Data loading and processing complete!\n"
     ]
    }
   ],
   "source": [
    "rides = fetch_batch_raw_data(fetch_data_from, fetch_data_to)"
   ]
  },
  {
   "cell_type": "code",
   "execution_count": 19,
   "id": "7b4aec4f",
   "metadata": {},
   "outputs": [
    {
     "data": {
      "text/html": [
       "<div>\n",
       "<style scoped>\n",
       "    .dataframe tbody tr th:only-of-type {\n",
       "        vertical-align: middle;\n",
       "    }\n",
       "\n",
       "    .dataframe tbody tr th {\n",
       "        vertical-align: top;\n",
       "    }\n",
       "\n",
       "    .dataframe thead th {\n",
       "        text-align: right;\n",
       "    }\n",
       "</style>\n",
       "<table border=\"1\" class=\"dataframe\">\n",
       "  <thead>\n",
       "    <tr style=\"text-align: right;\">\n",
       "      <th></th>\n",
       "      <th>started_at</th>\n",
       "      <th>start_station_id</th>\n",
       "    </tr>\n",
       "  </thead>\n",
       "  <tbody>\n",
       "    <tr>\n",
       "      <th>11</th>\n",
       "      <td>2025-04-01 16:32:13.646</td>\n",
       "      <td>5905.14</td>\n",
       "    </tr>\n",
       "    <tr>\n",
       "      <th>13</th>\n",
       "      <td>2025-04-01 16:47:35.223</td>\n",
       "      <td>5905.14</td>\n",
       "    </tr>\n",
       "    <tr>\n",
       "      <th>22</th>\n",
       "      <td>2025-04-01 16:56:18.669</td>\n",
       "      <td>5905.14</td>\n",
       "    </tr>\n",
       "    <tr>\n",
       "      <th>27</th>\n",
       "      <td>2025-04-01 17:02:18.267</td>\n",
       "      <td>5905.14</td>\n",
       "    </tr>\n",
       "    <tr>\n",
       "      <th>29</th>\n",
       "      <td>2025-04-01 17:02:48.671</td>\n",
       "      <td>5905.14</td>\n",
       "    </tr>\n",
       "    <tr>\n",
       "      <th>...</th>\n",
       "      <td>...</td>\n",
       "      <td>...</td>\n",
       "    </tr>\n",
       "    <tr>\n",
       "      <th>38707</th>\n",
       "      <td>2025-05-03 15:50:51.000</td>\n",
       "      <td>6822.09</td>\n",
       "    </tr>\n",
       "    <tr>\n",
       "      <th>38714</th>\n",
       "      <td>2025-05-03 15:54:41.000</td>\n",
       "      <td>6822.09</td>\n",
       "    </tr>\n",
       "    <tr>\n",
       "      <th>38720</th>\n",
       "      <td>2025-05-03 15:56:54.000</td>\n",
       "      <td>6822.09</td>\n",
       "    </tr>\n",
       "    <tr>\n",
       "      <th>38721</th>\n",
       "      <td>2025-05-03 15:57:02.000</td>\n",
       "      <td>6822.09</td>\n",
       "    </tr>\n",
       "    <tr>\n",
       "      <th>38724</th>\n",
       "      <td>2025-05-03 15:59:13.000</td>\n",
       "      <td>6822.09</td>\n",
       "    </tr>\n",
       "  </tbody>\n",
       "</table>\n",
       "<p>38727 rows × 2 columns</p>\n",
       "</div>"
      ],
      "text/plain": [
       "                   started_at  start_station_id\n",
       "11    2025-04-01 16:32:13.646           5905.14\n",
       "13    2025-04-01 16:47:35.223           5905.14\n",
       "22    2025-04-01 16:56:18.669           5905.14\n",
       "27    2025-04-01 17:02:18.267           5905.14\n",
       "29    2025-04-01 17:02:48.671           5905.14\n",
       "...                       ...               ...\n",
       "38707 2025-05-03 15:50:51.000           6822.09\n",
       "38714 2025-05-03 15:54:41.000           6822.09\n",
       "38720 2025-05-03 15:56:54.000           6822.09\n",
       "38721 2025-05-03 15:57:02.000           6822.09\n",
       "38724 2025-05-03 15:59:13.000           6822.09\n",
       "\n",
       "[38727 rows x 2 columns]"
      ]
     },
     "execution_count": 19,
     "metadata": {},
     "output_type": "execute_result"
    }
   ],
   "source": [
    "rides"
   ]
  },
  {
   "cell_type": "code",
   "execution_count": 20,
   "id": "dd53f4ad",
   "metadata": {},
   "outputs": [],
   "source": [
    "from src.data_utils import transform_raw_data_into_ts_data\n",
    "ts_data = transform_raw_data_into_ts_data(rides)"
   ]
  },
  {
   "cell_type": "code",
   "execution_count": 21,
   "id": "5e8a84c8",
   "metadata": {},
   "outputs": [
    {
     "data": {
      "text/html": [
       "<div>\n",
       "<style scoped>\n",
       "    .dataframe tbody tr th:only-of-type {\n",
       "        vertical-align: middle;\n",
       "    }\n",
       "\n",
       "    .dataframe tbody tr th {\n",
       "        vertical-align: top;\n",
       "    }\n",
       "\n",
       "    .dataframe thead th {\n",
       "        text-align: right;\n",
       "    }\n",
       "</style>\n",
       "<table border=\"1\" class=\"dataframe\">\n",
       "  <thead>\n",
       "    <tr style=\"text-align: right;\">\n",
       "      <th></th>\n",
       "      <th>start_hour</th>\n",
       "      <th>start_station_id</th>\n",
       "      <th>rides</th>\n",
       "    </tr>\n",
       "  </thead>\n",
       "  <tbody>\n",
       "    <tr>\n",
       "      <th>0</th>\n",
       "      <td>2025-04-01 16:00:00</td>\n",
       "      <td>5905.140137</td>\n",
       "      <td>3</td>\n",
       "    </tr>\n",
       "    <tr>\n",
       "      <th>1</th>\n",
       "      <td>2025-04-01 17:00:00</td>\n",
       "      <td>5905.140137</td>\n",
       "      <td>5</td>\n",
       "    </tr>\n",
       "    <tr>\n",
       "      <th>2</th>\n",
       "      <td>2025-04-01 18:00:00</td>\n",
       "      <td>5905.140137</td>\n",
       "      <td>8</td>\n",
       "    </tr>\n",
       "    <tr>\n",
       "      <th>3</th>\n",
       "      <td>2025-04-01 19:00:00</td>\n",
       "      <td>5905.140137</td>\n",
       "      <td>5</td>\n",
       "    </tr>\n",
       "    <tr>\n",
       "      <th>4</th>\n",
       "      <td>2025-04-01 20:00:00</td>\n",
       "      <td>5905.140137</td>\n",
       "      <td>1</td>\n",
       "    </tr>\n",
       "    <tr>\n",
       "      <th>...</th>\n",
       "      <td>...</td>\n",
       "      <td>...</td>\n",
       "      <td>...</td>\n",
       "    </tr>\n",
       "    <tr>\n",
       "      <th>2299</th>\n",
       "      <td>2025-05-03 11:00:00</td>\n",
       "      <td>6822.089844</td>\n",
       "      <td>20</td>\n",
       "    </tr>\n",
       "    <tr>\n",
       "      <th>2300</th>\n",
       "      <td>2025-05-03 12:00:00</td>\n",
       "      <td>6822.089844</td>\n",
       "      <td>16</td>\n",
       "    </tr>\n",
       "    <tr>\n",
       "      <th>2301</th>\n",
       "      <td>2025-05-03 13:00:00</td>\n",
       "      <td>6822.089844</td>\n",
       "      <td>25</td>\n",
       "    </tr>\n",
       "    <tr>\n",
       "      <th>2302</th>\n",
       "      <td>2025-05-03 14:00:00</td>\n",
       "      <td>6822.089844</td>\n",
       "      <td>13</td>\n",
       "    </tr>\n",
       "    <tr>\n",
       "      <th>2303</th>\n",
       "      <td>2025-05-03 15:00:00</td>\n",
       "      <td>6822.089844</td>\n",
       "      <td>18</td>\n",
       "    </tr>\n",
       "  </tbody>\n",
       "</table>\n",
       "<p>2304 rows × 3 columns</p>\n",
       "</div>"
      ],
      "text/plain": [
       "              start_hour  start_station_id  rides\n",
       "0    2025-04-01 16:00:00       5905.140137      3\n",
       "1    2025-04-01 17:00:00       5905.140137      5\n",
       "2    2025-04-01 18:00:00       5905.140137      8\n",
       "3    2025-04-01 19:00:00       5905.140137      5\n",
       "4    2025-04-01 20:00:00       5905.140137      1\n",
       "...                  ...               ...    ...\n",
       "2299 2025-05-03 11:00:00       6822.089844     20\n",
       "2300 2025-05-03 12:00:00       6822.089844     16\n",
       "2301 2025-05-03 13:00:00       6822.089844     25\n",
       "2302 2025-05-03 14:00:00       6822.089844     13\n",
       "2303 2025-05-03 15:00:00       6822.089844     18\n",
       "\n",
       "[2304 rows x 3 columns]"
      ]
     },
     "execution_count": 21,
     "metadata": {},
     "output_type": "execute_result"
    }
   ],
   "source": [
    "ts_data"
   ]
  },
  {
   "cell_type": "code",
   "execution_count": 22,
   "id": "71c7a25f",
   "metadata": {},
   "outputs": [
    {
     "data": {
      "text/html": [
       "<div>\n",
       "<style scoped>\n",
       "    .dataframe tbody tr th:only-of-type {\n",
       "        vertical-align: middle;\n",
       "    }\n",
       "\n",
       "    .dataframe tbody tr th {\n",
       "        vertical-align: top;\n",
       "    }\n",
       "\n",
       "    .dataframe thead th {\n",
       "        text-align: right;\n",
       "    }\n",
       "</style>\n",
       "<table border=\"1\" class=\"dataframe\">\n",
       "  <thead>\n",
       "    <tr style=\"text-align: right;\">\n",
       "      <th></th>\n",
       "      <th>start_hour</th>\n",
       "      <th>start_station_id</th>\n",
       "      <th>rides</th>\n",
       "    </tr>\n",
       "  </thead>\n",
       "  <tbody>\n",
       "    <tr>\n",
       "      <th>0</th>\n",
       "      <td>2025-04-01 16:00:00-04:00</td>\n",
       "      <td>5905.140137</td>\n",
       "      <td>3</td>\n",
       "    </tr>\n",
       "    <tr>\n",
       "      <th>1</th>\n",
       "      <td>2025-04-01 17:00:00-04:00</td>\n",
       "      <td>5905.140137</td>\n",
       "      <td>5</td>\n",
       "    </tr>\n",
       "    <tr>\n",
       "      <th>2</th>\n",
       "      <td>2025-04-01 18:00:00-04:00</td>\n",
       "      <td>5905.140137</td>\n",
       "      <td>8</td>\n",
       "    </tr>\n",
       "    <tr>\n",
       "      <th>3</th>\n",
       "      <td>2025-04-01 19:00:00-04:00</td>\n",
       "      <td>5905.140137</td>\n",
       "      <td>5</td>\n",
       "    </tr>\n",
       "    <tr>\n",
       "      <th>4</th>\n",
       "      <td>2025-04-01 20:00:00-04:00</td>\n",
       "      <td>5905.140137</td>\n",
       "      <td>1</td>\n",
       "    </tr>\n",
       "    <tr>\n",
       "      <th>...</th>\n",
       "      <td>...</td>\n",
       "      <td>...</td>\n",
       "      <td>...</td>\n",
       "    </tr>\n",
       "    <tr>\n",
       "      <th>2299</th>\n",
       "      <td>2025-05-03 11:00:00-04:00</td>\n",
       "      <td>6822.089844</td>\n",
       "      <td>20</td>\n",
       "    </tr>\n",
       "    <tr>\n",
       "      <th>2300</th>\n",
       "      <td>2025-05-03 12:00:00-04:00</td>\n",
       "      <td>6822.089844</td>\n",
       "      <td>16</td>\n",
       "    </tr>\n",
       "    <tr>\n",
       "      <th>2301</th>\n",
       "      <td>2025-05-03 13:00:00-04:00</td>\n",
       "      <td>6822.089844</td>\n",
       "      <td>25</td>\n",
       "    </tr>\n",
       "    <tr>\n",
       "      <th>2302</th>\n",
       "      <td>2025-05-03 14:00:00-04:00</td>\n",
       "      <td>6822.089844</td>\n",
       "      <td>13</td>\n",
       "    </tr>\n",
       "    <tr>\n",
       "      <th>2303</th>\n",
       "      <td>2025-05-03 15:00:00-04:00</td>\n",
       "      <td>6822.089844</td>\n",
       "      <td>18</td>\n",
       "    </tr>\n",
       "  </tbody>\n",
       "</table>\n",
       "<p>2304 rows × 3 columns</p>\n",
       "</div>"
      ],
      "text/plain": [
       "                    start_hour  start_station_id  rides\n",
       "0    2025-04-01 16:00:00-04:00       5905.140137      3\n",
       "1    2025-04-01 17:00:00-04:00       5905.140137      5\n",
       "2    2025-04-01 18:00:00-04:00       5905.140137      8\n",
       "3    2025-04-01 19:00:00-04:00       5905.140137      5\n",
       "4    2025-04-01 20:00:00-04:00       5905.140137      1\n",
       "...                        ...               ...    ...\n",
       "2299 2025-05-03 11:00:00-04:00       6822.089844     20\n",
       "2300 2025-05-03 12:00:00-04:00       6822.089844     16\n",
       "2301 2025-05-03 13:00:00-04:00       6822.089844     25\n",
       "2302 2025-05-03 14:00:00-04:00       6822.089844     13\n",
       "2303 2025-05-03 15:00:00-04:00       6822.089844     18\n",
       "\n",
       "[2304 rows x 3 columns]"
      ]
     },
     "execution_count": 22,
     "metadata": {},
     "output_type": "execute_result"
    }
   ],
   "source": [
    "import pytz\n",
    "\n",
    "est = pytz.timezone('US/Eastern')\n",
    "\n",
    "ts_data[\"start_hour\"] = ts_data[\"start_hour\"].dt.tz_localize(est, ambiguous=\"NaT\", nonexistent=\"NaT\")\n",
    "ts_data = ts_data.dropna(subset=[\"start_hour\"])\n",
    "ts_data"
   ]
  },
  {
   "cell_type": "code",
   "execution_count": 24,
   "id": "6b98dfce",
   "metadata": {},
   "outputs": [
    {
     "name": "stdout",
     "output_type": "stream",
     "text": [
      "<class 'pandas.core.frame.DataFrame'>\n",
      "RangeIndex: 2304 entries, 0 to 2303\n",
      "Data columns (total 3 columns):\n",
      " #   Column            Non-Null Count  Dtype                     \n",
      "---  ------            --------------  -----                     \n",
      " 0   start_hour        2304 non-null   datetime64[ns, US/Eastern]\n",
      " 1   start_station_id  2304 non-null   float32                   \n",
      " 2   rides             2304 non-null   int16                     \n",
      "dtypes: datetime64[ns, US/Eastern](1), float32(1), int16(1)\n",
      "memory usage: 31.6 KB\n"
     ]
    }
   ],
   "source": [
    "ts_data.info()"
   ]
  },
  {
   "cell_type": "code",
   "execution_count": 25,
   "id": "7bb1fada",
   "metadata": {},
   "outputs": [
    {
     "data": {
      "text/html": [
       "<div>\n",
       "<style scoped>\n",
       "    .dataframe tbody tr th:only-of-type {\n",
       "        vertical-align: middle;\n",
       "    }\n",
       "\n",
       "    .dataframe tbody tr th {\n",
       "        vertical-align: top;\n",
       "    }\n",
       "\n",
       "    .dataframe thead th {\n",
       "        text-align: right;\n",
       "    }\n",
       "</style>\n",
       "<table border=\"1\" class=\"dataframe\">\n",
       "  <thead>\n",
       "    <tr style=\"text-align: right;\">\n",
       "      <th></th>\n",
       "      <th>start_hour</th>\n",
       "      <th>start_station_id</th>\n",
       "      <th>rides</th>\n",
       "    </tr>\n",
       "  </thead>\n",
       "  <tbody>\n",
       "    <tr>\n",
       "      <th>2299</th>\n",
       "      <td>2025-05-03 11:00:00-04:00</td>\n",
       "      <td>6822.089844</td>\n",
       "      <td>20</td>\n",
       "    </tr>\n",
       "    <tr>\n",
       "      <th>2300</th>\n",
       "      <td>2025-05-03 12:00:00-04:00</td>\n",
       "      <td>6822.089844</td>\n",
       "      <td>16</td>\n",
       "    </tr>\n",
       "    <tr>\n",
       "      <th>2301</th>\n",
       "      <td>2025-05-03 13:00:00-04:00</td>\n",
       "      <td>6822.089844</td>\n",
       "      <td>25</td>\n",
       "    </tr>\n",
       "    <tr>\n",
       "      <th>2302</th>\n",
       "      <td>2025-05-03 14:00:00-04:00</td>\n",
       "      <td>6822.089844</td>\n",
       "      <td>13</td>\n",
       "    </tr>\n",
       "    <tr>\n",
       "      <th>2303</th>\n",
       "      <td>2025-05-03 15:00:00-04:00</td>\n",
       "      <td>6822.089844</td>\n",
       "      <td>18</td>\n",
       "    </tr>\n",
       "  </tbody>\n",
       "</table>\n",
       "</div>"
      ],
      "text/plain": [
       "                    start_hour  start_station_id  rides\n",
       "2299 2025-05-03 11:00:00-04:00       6822.089844     20\n",
       "2300 2025-05-03 12:00:00-04:00       6822.089844     16\n",
       "2301 2025-05-03 13:00:00-04:00       6822.089844     25\n",
       "2302 2025-05-03 14:00:00-04:00       6822.089844     13\n",
       "2303 2025-05-03 15:00:00-04:00       6822.089844     18"
      ]
     },
     "execution_count": 25,
     "metadata": {},
     "output_type": "execute_result"
    }
   ],
   "source": [
    "ts_data.tail()"
   ]
  },
  {
   "cell_type": "code",
   "execution_count": 30,
   "id": "fd734456",
   "metadata": {},
   "outputs": [
    {
     "name": "stdout",
     "output_type": "stream",
     "text": [
      "2025-05-03 16:34:16,792 INFO: Closing external client and cleaning up certificates.\n",
      "Connection closed.\n",
      "2025-05-03 16:34:16,799 INFO: Initializing external client\n",
      "2025-05-03 16:34:16,800 INFO: Base URL: https://c.app.hopsworks.ai:443\n",
      "2025-05-03 16:34:17,627 INFO: Python Engine initialized.\n",
      "\n",
      "Logged in to project, explore it here https://c.app.hopsworks.ai:443/p/1212635\n",
      "Successfully connected to Hopsworks project: nolanphi\n"
     ]
    }
   ],
   "source": [
    "import hopsworks\n",
    "\n",
    "api_key = os.getenv('HOPSWORKS_API_KEY')\n",
    "project_name = os.getenv('HOPSWORKS_PROJECT_NAME')\n",
    "\n",
    "# Initialize connection to Hopsworks\n",
    "project = hopsworks.login(\n",
    "    api_key_value=api_key,\n",
    "    project=project_name\n",
    ")\n",
    "print(f\"Successfully connected to Hopsworks project: {project_name}\")"
   ]
  },
  {
   "cell_type": "code",
   "execution_count": 31,
   "id": "4a860da3",
   "metadata": {},
   "outputs": [],
   "source": [
    "feature_store = project.get_feature_store()"
   ]
  },
  {
   "cell_type": "code",
   "execution_count": 32,
   "id": "4f8ca379",
   "metadata": {},
   "outputs": [],
   "source": [
    "feature_group = feature_store.get_feature_group(\n",
    "    name=config.FEATURE_GROUP_NAME,\n",
    "    version=config.FEATURE_GROUP_VERSION,\n",
    ")"
   ]
  },
  {
   "cell_type": "code",
   "execution_count": 33,
   "id": "0524a6bc",
   "metadata": {},
   "outputs": [
    {
     "name": "stderr",
     "output_type": "stream",
     "text": [
      "Uploading Dataframe: 100.00% |██████████| Rows 2304/2304 | Elapsed Time: 00:00 | Remaining Time: 00:00\n"
     ]
    },
    {
     "name": "stdout",
     "output_type": "stream",
     "text": [
      "Launching job: bike_time_series_hourly_feature_group_1_offline_fg_materialization\n",
      "Job started successfully, you can follow the progress at \n",
      "https://c.app.hopsworks.ai:443/p/1212635/jobs/named/bike_time_series_hourly_feature_group_1_offline_fg_materialization/executions\n"
     ]
    },
    {
     "data": {
      "text/plain": [
       "(Job('bike_time_series_hourly_feature_group_1_offline_fg_materialization', 'SPARK'),\n",
       " None)"
      ]
     },
     "execution_count": 33,
     "metadata": {},
     "output_type": "execute_result"
    }
   ],
   "source": [
    "feature_group.insert(ts_data, write_options={\"wait_for_job\": False})"
   ]
  }
 ],
 "metadata": {
  "kernelspec": {
   "display_name": "citi",
   "language": "python",
   "name": "python3"
  },
  "language_info": {
   "codemirror_mode": {
    "name": "ipython",
    "version": 3
   },
   "file_extension": ".py",
   "mimetype": "text/x-python",
   "name": "python",
   "nbconvert_exporter": "python",
   "pygments_lexer": "ipython3",
   "version": "3.11.11"
  }
 },
 "nbformat": 4,
 "nbformat_minor": 5
}
